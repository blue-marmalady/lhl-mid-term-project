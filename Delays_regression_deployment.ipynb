{
 "cells": [
  {
   "cell_type": "code",
   "execution_count": 12,
   "metadata": {},
   "outputs": [],
   "source": [
    "reset "
   ]
  },
  {
   "cell_type": "markdown",
   "metadata": {},
   "source": [
    "## Main Task: Regression Problem"
   ]
  },
  {
   "cell_type": "markdown",
   "metadata": {},
   "source": [
    "The target variable is **ARR_DELAY**. We need to be careful which columns to use and which don't. For example, DEP_DELAY is going to be the perfect predictor, but we can't use it because in real-life scenario, we want to predict the delay before the flight takes of --> We can use average delay from earlier days but not the one from the actual flight we predict.  \n",
    "\n",
    "For example, variables **CARRIER_DELAY, WEATHER_DELAY, NAS_DELAY, SECURITY_DELAY, LATE_AIRCRAFT_DELAY** shouldn't be used directly as predictors as well. However, we can create various transformations from earlier values.\n",
    "\n",
    "We will be evaluating your models by predicting the ARR_DELAY for all flights **1 week in advance**."
   ]
  },
  {
   "cell_type": "code",
   "execution_count": 13,
   "metadata": {},
   "outputs": [],
   "source": [
    "#Libraries\n",
    "\n",
    "import matplotlib.pyplot as plt\n",
    "import pandas as pd\n",
    "import numpy as np\n",
    "\n",
    "from sklearn.model_selection import train_test_split\n",
    "from sklearn.linear_model import LinearRegression\n",
    "from sklearn.preprocessing import MinMaxScaler"
   ]
  },
  {
   "cell_type": "code",
   "execution_count": 14,
   "metadata": {},
   "outputs": [],
   "source": [
    "model_df = pd.read_csv(\"flight_train_ready.csv\")\n",
    "\n",
    "flight_df = pd.read_csv(\"flight_test_ready.csv\")\n"
   ]
  },
  {
   "cell_type": "markdown",
   "metadata": {},
   "source": [
    "#### Random Forest Regressor "
   ]
  },
  {
   "cell_type": "code",
   "execution_count": null,
   "metadata": {},
   "outputs": [],
   "source": [
    "\n",
    "model_df.drop(list(model_df.filter(regex = 'Unnamed')), axis = 1, inplace=True) "
   ]
  },
  {
   "cell_type": "code",
   "execution_count": 16,
   "metadata": {},
   "outputs": [],
   "source": [
    "# Extract target\n",
    "y = model_df[['arr_delay']]\n",
    "model_df = model_df.drop(columns=['arr_delay'])\n",
    "\n",
    "# Turn categorical variables into dummies (one-hot encode)\n",
    "x = pd.get_dummies(model_df)\n",
    "X_columns = x.columns"
   ]
  },
  {
   "cell_type": "code",
   "execution_count": 17,
   "metadata": {},
   "outputs": [],
   "source": [
    "#Try Sparse PCA, since this is sparse data...\n",
    "from sklearn.ensemble import RandomForestClassifier\n",
    "from sklearn.decomposition import MiniBatchSparsePCA\n",
    "\n",
    "def pca_processing(X, n):\n",
    "    '''Runs the MiniBatchSparsePCA on our data and returns the transformed features\n",
    "    Params:\n",
    "        - X: array of data features; assumed to be a sparse matrix (lots of 0s and 1s)\n",
    "        - n: Number of PCA components to fit with\n",
    "    Returns:\n",
    "        - x: array of transformed data with n features  \n",
    "        - x_columns: array of features names (just PCA number, in this case)\n",
    "        ''' \n",
    "    pca_trans = MiniBatchSparsePCA(n_components=n, batch_size=30, random_state=0)\n",
    "    pca_trans.fit(X)\n",
    "    x = pca_trans.transform(X)\n",
    "    x_columns = range(n)\n",
    "    return x, x_columns"
   ]
  },
  {
   "cell_type": "code",
   "execution_count": 18,
   "metadata": {},
   "outputs": [],
   "source": []
  },
  {
   "cell_type": "code",
   "execution_count": 19,
   "metadata": {},
   "outputs": [
    {
     "name": "stderr",
     "output_type": "stream",
     "text": [
      "/tmp/ipykernel_14885/2055754721.py:3: DataConversionWarning: A column-vector y was passed when a 1d array was expected. Please change the shape of y to (n_samples,), for example using ravel().\n",
      "  rfr.fit(x, y)\n"
     ]
    },
    {
     "data": {
      "text/plain": [
       "RandomForestRegressor(n_estimators=5)"
      ]
     },
     "execution_count": 19,
     "metadata": {},
     "output_type": "execute_result"
    }
   ],
   "source": [
    "from sklearn.ensemble import RandomForestRegressor\n",
    "rfr = RandomForestRegressor(n_estimators=5)\n",
    "rfr.fit(x, y)"
   ]
  },
  {
   "cell_type": "code",
   "execution_count": 20,
   "metadata": {},
   "outputs": [],
   "source": [
    "y_train_pred = rfr.predict(x)"
   ]
  },
  {
   "cell_type": "code",
   "execution_count": 21,
   "metadata": {},
   "outputs": [
    {
     "data": {
      "text/html": [
       "<div>\n",
       "<style scoped>\n",
       "    .dataframe tbody tr th:only-of-type {\n",
       "        vertical-align: middle;\n",
       "    }\n",
       "\n",
       "    .dataframe tbody tr th {\n",
       "        vertical-align: top;\n",
       "    }\n",
       "\n",
       "    .dataframe thead th {\n",
       "        text-align: right;\n",
       "    }\n",
       "</style>\n",
       "<table border=\"1\" class=\"dataframe\">\n",
       "  <thead>\n",
       "    <tr style=\"text-align: right;\">\n",
       "      <th></th>\n",
       "      <th>Feature names</th>\n",
       "      <th>Importance</th>\n",
       "    </tr>\n",
       "  </thead>\n",
       "  <tbody>\n",
       "    <tr>\n",
       "      <th>1</th>\n",
       "      <td>arr_hr</td>\n",
       "      <td>0.103514</td>\n",
       "    </tr>\n",
       "    <tr>\n",
       "      <th>0</th>\n",
       "      <td>dep_hr</td>\n",
       "      <td>0.100450</td>\n",
       "    </tr>\n",
       "    <tr>\n",
       "      <th>2</th>\n",
       "      <td>norm_dist</td>\n",
       "      <td>0.056566</td>\n",
       "    </tr>\n",
       "    <tr>\n",
       "      <th>777</th>\n",
       "      <td>season_spr</td>\n",
       "      <td>0.027854</td>\n",
       "    </tr>\n",
       "    <tr>\n",
       "      <th>768</th>\n",
       "      <td>month_Mar</td>\n",
       "      <td>0.024876</td>\n",
       "    </tr>\n",
       "    <tr>\n",
       "      <th>765</th>\n",
       "      <td>month_Aug</td>\n",
       "      <td>0.024399</td>\n",
       "    </tr>\n",
       "    <tr>\n",
       "      <th>778</th>\n",
       "      <td>season_sum</td>\n",
       "      <td>0.021657</td>\n",
       "    </tr>\n",
       "    <tr>\n",
       "      <th>11</th>\n",
       "      <td>mkt_unique_carrier_UA</td>\n",
       "      <td>0.017079</td>\n",
       "    </tr>\n",
       "    <tr>\n",
       "      <th>771</th>\n",
       "      <td>weekday_Mon</td>\n",
       "      <td>0.014620</td>\n",
       "    </tr>\n",
       "    <tr>\n",
       "      <th>3</th>\n",
       "      <td>mkt_unique_carrier_AA</td>\n",
       "      <td>0.013816</td>\n",
       "    </tr>\n",
       "    <tr>\n",
       "      <th>767</th>\n",
       "      <td>month_Jun</td>\n",
       "      <td>0.013645</td>\n",
       "    </tr>\n",
       "    <tr>\n",
       "      <th>6</th>\n",
       "      <td>mkt_unique_carrier_DL</td>\n",
       "      <td>0.013356</td>\n",
       "    </tr>\n",
       "    <tr>\n",
       "      <th>642</th>\n",
       "      <td>dest_ORD</td>\n",
       "      <td>0.012146</td>\n",
       "    </tr>\n",
       "    <tr>\n",
       "      <th>775</th>\n",
       "      <td>weekday_Wed</td>\n",
       "      <td>0.011586</td>\n",
       "    </tr>\n",
       "    <tr>\n",
       "      <th>481</th>\n",
       "      <td>dest_DFW</td>\n",
       "      <td>0.011196</td>\n",
       "    </tr>\n",
       "    <tr>\n",
       "      <th>759</th>\n",
       "      <td>dep_time_of_day_aft</td>\n",
       "      <td>0.010534</td>\n",
       "    </tr>\n",
       "    <tr>\n",
       "      <th>132</th>\n",
       "      <td>origin_EWR</td>\n",
       "      <td>0.010019</td>\n",
       "    </tr>\n",
       "    <tr>\n",
       "      <th>762</th>\n",
       "      <td>arr_time_of_day_aft</td>\n",
       "      <td>0.009513</td>\n",
       "    </tr>\n",
       "    <tr>\n",
       "      <th>763</th>\n",
       "      <td>arr_time_of_day_eve</td>\n",
       "      <td>0.008531</td>\n",
       "    </tr>\n",
       "    <tr>\n",
       "      <th>269</th>\n",
       "      <td>origin_ORD</td>\n",
       "      <td>0.008189</td>\n",
       "    </tr>\n",
       "  </tbody>\n",
       "</table>\n",
       "</div>"
      ],
      "text/plain": [
       "             Feature names  Importance\n",
       "1                   arr_hr    0.103514\n",
       "0                   dep_hr    0.100450\n",
       "2                norm_dist    0.056566\n",
       "777             season_spr    0.027854\n",
       "768              month_Mar    0.024876\n",
       "765              month_Aug    0.024399\n",
       "778             season_sum    0.021657\n",
       "11   mkt_unique_carrier_UA    0.017079\n",
       "771            weekday_Mon    0.014620\n",
       "3    mkt_unique_carrier_AA    0.013816\n",
       "767              month_Jun    0.013645\n",
       "6    mkt_unique_carrier_DL    0.013356\n",
       "642               dest_ORD    0.012146\n",
       "775            weekday_Wed    0.011586\n",
       "481               dest_DFW    0.011196\n",
       "759    dep_time_of_day_aft    0.010534\n",
       "132             origin_EWR    0.010019\n",
       "762    arr_time_of_day_aft    0.009513\n",
       "763    arr_time_of_day_eve    0.008531\n",
       "269             origin_ORD    0.008189"
      ]
     },
     "execution_count": 21,
     "metadata": {},
     "output_type": "execute_result"
    }
   ],
   "source": [
    "feature_val = rfr.feature_importances_\n",
    "# print(type(feature_val))\n",
    "# X_columns = range(5)  ### if using MiniBatchSparsePCA, use this\n",
    "feature_name = x.columns\n",
    "# print(feature_name)\n",
    "\n",
    "features = pd.DataFrame({\"Feature names\": pd.Series(dtype='str'),\n",
    "                         \"Importance\": pd.Series(dtype='int')})\n",
    "features['Feature names'] = feature_name\n",
    "features['Importance'] = feature_val\n",
    "features.sort_values(by=['Importance'], ascending=False).head(20)"
   ]
  },
  {
   "cell_type": "code",
   "execution_count": 24,
   "metadata": {},
   "outputs": [
    {
     "name": "stdout",
     "output_type": "stream",
     "text": [
      "Mean squared error: 532.25\n",
      "Coefficient of determination: 0.716\n"
     ]
    }
   ],
   "source": [
    "from sklearn.metrics import r2_score, mean_squared_error\n",
    "\n",
    "# The mean squared error\n",
    "print(\"Mean squared error: %.2f\" % mean_squared_error(y, y_train_pred))\n",
    "# The coefficient of determination: 1 is perfect prediction\n",
    "print(\"Coefficient of determination: %.3f\" % r2_score(y, y_train_pred))"
   ]
  },
  {
   "cell_type": "code",
   "execution_count": 25,
   "metadata": {},
   "outputs": [
    {
     "data": {
      "image/png": "[encoded data removed]",
      "text/plain": [
       "<Figure size 640x480 with 1 Axes>"
      ]
     },
     "metadata": {},
     "output_type": "display_data"
    }
   ],
   "source": [
    "plt.scatter(y, y_train_pred)\n",
    "plt.xlabel(\"Actual Delay\")\n",
    "plt.ylabel(\"Predicted Delay\")\n",
    "plt.xlim(-5, 1200 )\n",
    "plt.ylim(-5, 900 )\n",
    "plt.show()"
   ]
  },
  {
   "cell_type": "code",
   "execution_count": 26,
   "metadata": {},
   "outputs": [],
   "source": [
    "# Commented out features are included in the model (although there must be a better way?)\n",
    "model_df.drop(list(model_df.filter(regex = 'origin')), axis = 1, inplace=True) \n",
    "# model_df.drop(list(model_df.filter(regex = 'mkt_unique_carrier')), axis = 1, inplace=True) \n",
    "model_df.drop(list(model_df.filter(regex = 'carrier_size')), axis = 1, inplace=True) \n",
    "model_df.drop(list(model_df.filter(regex = 'dest')), axis = 1, inplace=True) \n",
    "# model_df.drop(list(model_df.filter(regex = 'dep_hr')), axis = 1, inplace=True) \n",
    "model_df.drop(list(model_df.filter(regex = 'dep_time_of_day')), axis = 1, inplace=True) \n",
    "# model_df.drop(list(model_df.filter(regex = 'arr_hr')), axis = 1, inplace=True) \n",
    "model_df.drop(list(model_df.filter(regex = 'arr_time_of_day')), axis = 1, inplace=True) \n",
    "model_df.drop(list(model_df.filter(regex = 'month')), axis = 1, inplace=True) \n",
    "# model_df.drop(list(model_df.filter(regex = 'season')), axis = 1, inplace=True) \n",
    "# model_df.drop(list(model_df.filter(regex = 'weekday')), axis = 1, inplace=True) \n",
    "# model_df.drop(list(model_df.filter(regex = 'norm_dist')), axis = 1, inplace=True) \n",
    "model_df.drop(list(model_df.filter(regex = 'distance')), axis = 1, inplace=True) "
   ]
  },
  {
   "cell_type": "markdown",
   "metadata": {},
   "source": [
    "Reduce and transform features using PCA"
   ]
  },
  {
   "cell_type": "code",
   "execution_count": 27,
   "metadata": {},
   "outputs": [],
   "source": [
    "x, x_columns = pca_processing(x, 5)"
   ]
  },
  {
   "cell_type": "code",
   "execution_count": 28,
   "metadata": {},
   "outputs": [
    {
     "name": "stderr",
     "output_type": "stream",
     "text": [
      "/tmp/ipykernel_14885/2063399946.py:2: DataConversionWarning: A column-vector y was passed when a 1d array was expected. Please change the shape of y to (n_samples,), for example using ravel().\n",
      "  rfr.fit(x, y)\n"
     ]
    }
   ],
   "source": [
    "\n",
    "rfr = RandomForestRegressor(n_estimators=5)\n",
    "rfr.fit(x, y)\n",
    "y_train_pred = rfr.predict(x)"
   ]
  },
  {
   "cell_type": "code",
   "execution_count": 30,
   "metadata": {},
   "outputs": [
    {
     "data": {
      "text/html": [
       "<div>\n",
       "<style scoped>\n",
       "    .dataframe tbody tr th:only-of-type {\n",
       "        vertical-align: middle;\n",
       "    }\n",
       "\n",
       "    .dataframe tbody tr th {\n",
       "        vertical-align: top;\n",
       "    }\n",
       "\n",
       "    .dataframe thead th {\n",
       "        text-align: right;\n",
       "    }\n",
       "</style>\n",
       "<table border=\"1\" class=\"dataframe\">\n",
       "  <thead>\n",
       "    <tr style=\"text-align: right;\">\n",
       "      <th></th>\n",
       "      <th>Feature names</th>\n",
       "      <th>Importance</th>\n",
       "    </tr>\n",
       "  </thead>\n",
       "  <tbody>\n",
       "    <tr>\n",
       "      <th>1</th>\n",
       "      <td>1</td>\n",
       "      <td>0.244000</td>\n",
       "    </tr>\n",
       "    <tr>\n",
       "      <th>0</th>\n",
       "      <td>0</td>\n",
       "      <td>0.237419</td>\n",
       "    </tr>\n",
       "    <tr>\n",
       "      <th>3</th>\n",
       "      <td>3</td>\n",
       "      <td>0.186259</td>\n",
       "    </tr>\n",
       "    <tr>\n",
       "      <th>4</th>\n",
       "      <td>4</td>\n",
       "      <td>0.182915</td>\n",
       "    </tr>\n",
       "    <tr>\n",
       "      <th>2</th>\n",
       "      <td>2</td>\n",
       "      <td>0.149407</td>\n",
       "    </tr>\n",
       "  </tbody>\n",
       "</table>\n",
       "</div>"
      ],
      "text/plain": [
       "   Feature names  Importance\n",
       "1              1    0.244000\n",
       "0              0    0.237419\n",
       "3              3    0.186259\n",
       "4              4    0.182915\n",
       "2              2    0.149407"
      ]
     },
     "execution_count": 30,
     "metadata": {},
     "output_type": "execute_result"
    }
   ],
   "source": [
    "\n",
    "feature_val = rfr.feature_importances_\n",
    "# print(type(feature_val))\n",
    "# X_columns = range(5)  ### if using MiniBatchSparsePCA, use this\n",
    "feature_name = x_columns\n",
    "# print(feature_name)\n",
    "\n",
    "features = pd.DataFrame({\"Feature names\": pd.Series(dtype='str'),\n",
    "                         \"Importance\": pd.Series(dtype='int')})\n",
    "features['Feature names'] = feature_name\n",
    "features['Importance'] = feature_val\n",
    "features.sort_values(by=['Importance'], ascending=False).head(20)"
   ]
  },
  {
   "cell_type": "code",
   "execution_count": 31,
   "metadata": {},
   "outputs": [
    {
     "name": "stdout",
     "output_type": "stream",
     "text": [
      "Mean squared error: 619.97\n",
      "Coefficient of determination: 0.670\n"
     ]
    }
   ],
   "source": [
    "from sklearn.metrics import r2_score, mean_squared_error\n",
    "\n",
    "# The mean squared error\n",
    "print(\"Mean squared error: %.2f\" % mean_squared_error(y, y_train_pred))\n",
    "# The coefficient of determination: 1 is perfect prediction\n",
    "print(\"Coefficient of determination: %.3f\" % r2_score(y, y_train_pred))"
   ]
  },
  {
   "cell_type": "code",
   "execution_count": 32,
   "metadata": {},
   "outputs": [
    {
     "data": {
      "image/png": "[encoded data removed]",
      "text/plain": [
       "<Figure size 640x480 with 1 Axes>"
      ]
     },
     "metadata": {},
     "output_type": "display_data"
    }
   ],
   "source": [
    "plt.scatter(y, y_train_pred)\n",
    "plt.xlabel(\"Actual Delay\")\n",
    "plt.ylabel(\"Predicted Delay\")\n",
    "plt.xlim(-5, 1200 )\n",
    "plt.ylim(-5, 900 )\n",
    "plt.show()"
   ]
  },
  {
   "cell_type": "markdown",
   "metadata": {},
   "source": [
    "#### Part 2: Creating the predicted flight delays from the model"
   ]
  },
  {
   "cell_type": "code",
   "execution_count": 33,
   "metadata": {},
   "outputs": [],
   "source": [
    "\n",
    "# Commented out features are included in the model (although there must be a better way?)\n",
    "flight_df.drop(list(flight_df.filter(regex = 'origin')), axis = 1, inplace=True) \n",
    "# flight_df.drop(list(flight_df.filter(regex = 'mkt_unique_carrier')), axis = 1, inplace=True) \n",
    "flight_df.drop(list(flight_df.filter(regex = 'carrier_size')), axis = 1, inplace=True) \n",
    "flight_df.drop(list(flight_df.filter(regex = 'dest')), axis = 1, inplace=True) \n",
    "# flight_df.drop(list(flight_df.filter(regex = 'dep_hr')), axis = 1, inplace=True) \n",
    "flight_df.drop(list(flight_df.filter(regex = 'dep_time_of_day')), axis = 1, inplace=True) \n",
    "# flight_df.drop(list(flight_df.filter(regex = 'arr_hr')), axis = 1, inplace=True) \n",
    "flight_df.drop(list(flight_df.filter(regex = 'arr_time_of_day')), axis = 1, inplace=True) \n",
    "flight_df.drop(list(flight_df.filter(regex = 'month')), axis = 1, inplace=True) \n",
    "# flight_df.drop(list(flight_df.filter(regex = 'season')), axis = 1, inplace=True) \n",
    "# flight_df.drop(list(flight_df.filter(regex = 'weekday')), axis = 1, inplace=True) \n",
    "# flight_df.drop(list(flight_df.filter(regex = 'norm_dist')), axis = 1, inplace=True) \n",
    "flight_df.drop(list(flight_df.filter(regex = 'distance')), axis = 1, inplace=True) "
   ]
  },
  {
   "cell_type": "code",
   "execution_count": 34,
   "metadata": {},
   "outputs": [
    {
     "ename": "",
     "evalue": "",
     "output_type": "error",
     "traceback": [
      "\u001b[1;31mCanceled future for execute_request message before replies were done"
     ]
    },
    {
     "ename": "",
     "evalue": "",
     "output_type": "error",
     "traceback": [
      "\u001b[1;31mThe Kernel crashed while executing code in the the current cell or a previous cell. Please review the code in the cell(s) to identify a possible cause of the failure. Click <a href='https://aka.ms/vscodeJupyterKernelCrash'>here</a> for more info. View Jupyter <a href='command:jupyter.viewOutput'>log</a> for further details."
     ]
    }
   ],
   "source": [
    "\n",
    "# Turn categorical variables into dummies (one-hot encode)\n",
    "x = pd.get_dummies(flight_df)\n",
    "X_columns = x.columns\n",
    "\n",
    "x_test, x_columns = pca_processing(x, 5)\n",
    "\n",
    "# Make our prediction\n",
    "y_pred = rfr.predict(x_test)"
   ]
  },
  {
   "cell_type": "code",
   "execution_count": 24,
   "metadata": {},
   "outputs": [],
   "source": [
    "# Extract original file for submission (this one's been cleaned...yes, seems redundanit)\n",
    "final_df = pd.read_csv(\"flight_test.csv\")"
   ]
  },
  {
   "cell_type": "code",
   "execution_count": 25,
   "metadata": {},
   "outputs": [],
   "source": [
    "final_df['predicted_delays'] = y_pred"
   ]
  },
  {
   "cell_type": "code",
   "execution_count": 33,
   "metadata": {},
   "outputs": [
    {
     "data": {
      "text/plain": [
       "<AxesSubplot:ylabel='Count'>"
      ]
     },
     "execution_count": 33,
     "metadata": {},
     "output_type": "execute_result"
    },
    {
     "data": {
      "image/png": "[encoded data removed]",
      "text/plain": [
       "<Figure size 640x480 with 1 Axes>"
      ]
     },
     "metadata": {},
     "output_type": "display_data"
    }
   ],
   "source": [
    "import seaborn as sns\n",
    "sns.histplot(y_pred, bins=20)"
   ]
  },
  {
   "cell_type": "code",
   "execution_count": 26,
   "metadata": {},
   "outputs": [
    {
     "data": {
      "text/html": [
       "<div>\n",
       "<style scoped>\n",
       "    .dataframe tbody tr th:only-of-type {\n",
       "        vertical-align: middle;\n",
       "    }\n",
       "\n",
       "    .dataframe tbody tr th {\n",
       "        vertical-align: top;\n",
       "    }\n",
       "\n",
       "    .dataframe thead th {\n",
       "        text-align: right;\n",
       "    }\n",
       "</style>\n",
       "<table border=\"1\" class=\"dataframe\">\n",
       "  <thead>\n",
       "    <tr style=\"text-align: right;\">\n",
       "      <th></th>\n",
       "      <th>Unnamed: 0</th>\n",
       "      <th>fl_date</th>\n",
       "      <th>mkt_unique_carrier</th>\n",
       "      <th>origin</th>\n",
       "      <th>dest</th>\n",
       "      <th>crs_dep_time</th>\n",
       "      <th>crs_arr_time</th>\n",
       "      <th>crs_elapsed_time</th>\n",
       "      <th>flights</th>\n",
       "      <th>distance</th>\n",
       "      <th>predicted_delays</th>\n",
       "    </tr>\n",
       "  </thead>\n",
       "  <tbody>\n",
       "    <tr>\n",
       "      <th>0</th>\n",
       "      <td>0</td>\n",
       "      <td>2020-01-01</td>\n",
       "      <td>WN</td>\n",
       "      <td>ONT</td>\n",
       "      <td>SFO</td>\n",
       "      <td>1810</td>\n",
       "      <td>1945</td>\n",
       "      <td>95</td>\n",
       "      <td>1</td>\n",
       "      <td>363</td>\n",
       "      <td>18.4</td>\n",
       "    </tr>\n",
       "    <tr>\n",
       "      <th>1</th>\n",
       "      <td>1</td>\n",
       "      <td>2020-01-01</td>\n",
       "      <td>WN</td>\n",
       "      <td>ONT</td>\n",
       "      <td>SFO</td>\n",
       "      <td>1150</td>\n",
       "      <td>1320</td>\n",
       "      <td>90</td>\n",
       "      <td>1</td>\n",
       "      <td>363</td>\n",
       "      <td>216.2</td>\n",
       "    </tr>\n",
       "    <tr>\n",
       "      <th>2</th>\n",
       "      <td>2</td>\n",
       "      <td>2020-01-01</td>\n",
       "      <td>WN</td>\n",
       "      <td>ONT</td>\n",
       "      <td>SJC</td>\n",
       "      <td>2020</td>\n",
       "      <td>2130</td>\n",
       "      <td>70</td>\n",
       "      <td>1</td>\n",
       "      <td>333</td>\n",
       "      <td>18.4</td>\n",
       "    </tr>\n",
       "    <tr>\n",
       "      <th>3</th>\n",
       "      <td>3</td>\n",
       "      <td>2020-01-01</td>\n",
       "      <td>WN</td>\n",
       "      <td>ONT</td>\n",
       "      <td>SJC</td>\n",
       "      <td>1340</td>\n",
       "      <td>1455</td>\n",
       "      <td>75</td>\n",
       "      <td>1</td>\n",
       "      <td>333</td>\n",
       "      <td>216.2</td>\n",
       "    </tr>\n",
       "    <tr>\n",
       "      <th>4</th>\n",
       "      <td>4</td>\n",
       "      <td>2020-01-01</td>\n",
       "      <td>WN</td>\n",
       "      <td>ONT</td>\n",
       "      <td>SJC</td>\n",
       "      <td>915</td>\n",
       "      <td>1035</td>\n",
       "      <td>80</td>\n",
       "      <td>1</td>\n",
       "      <td>333</td>\n",
       "      <td>25.0</td>\n",
       "    </tr>\n",
       "    <tr>\n",
       "      <th>...</th>\n",
       "      <td>...</td>\n",
       "      <td>...</td>\n",
       "      <td>...</td>\n",
       "      <td>...</td>\n",
       "      <td>...</td>\n",
       "      <td>...</td>\n",
       "      <td>...</td>\n",
       "      <td>...</td>\n",
       "      <td>...</td>\n",
       "      <td>...</td>\n",
       "      <td>...</td>\n",
       "    </tr>\n",
       "    <tr>\n",
       "      <th>660551</th>\n",
       "      <td>660551</td>\n",
       "      <td>2020-01-31</td>\n",
       "      <td>DL</td>\n",
       "      <td>DCA</td>\n",
       "      <td>CVG</td>\n",
       "      <td>1859</td>\n",
       "      <td>2041</td>\n",
       "      <td>102</td>\n",
       "      <td>1</td>\n",
       "      <td>411</td>\n",
       "      <td>17.0</td>\n",
       "    </tr>\n",
       "    <tr>\n",
       "      <th>660552</th>\n",
       "      <td>660552</td>\n",
       "      <td>2020-01-31</td>\n",
       "      <td>DL</td>\n",
       "      <td>DCA</td>\n",
       "      <td>CVG</td>\n",
       "      <td>1515</td>\n",
       "      <td>1702</td>\n",
       "      <td>107</td>\n",
       "      <td>1</td>\n",
       "      <td>411</td>\n",
       "      <td>17.0</td>\n",
       "    </tr>\n",
       "    <tr>\n",
       "      <th>660553</th>\n",
       "      <td>660553</td>\n",
       "      <td>2020-01-31</td>\n",
       "      <td>DL</td>\n",
       "      <td>JFK</td>\n",
       "      <td>BTV</td>\n",
       "      <td>2205</td>\n",
       "      <td>2337</td>\n",
       "      <td>92</td>\n",
       "      <td>1</td>\n",
       "      <td>266</td>\n",
       "      <td>17.0</td>\n",
       "    </tr>\n",
       "    <tr>\n",
       "      <th>660554</th>\n",
       "      <td>660554</td>\n",
       "      <td>2020-01-31</td>\n",
       "      <td>DL</td>\n",
       "      <td>ORD</td>\n",
       "      <td>JFK</td>\n",
       "      <td>1035</td>\n",
       "      <td>1356</td>\n",
       "      <td>141</td>\n",
       "      <td>1</td>\n",
       "      <td>740</td>\n",
       "      <td>0.0</td>\n",
       "    </tr>\n",
       "    <tr>\n",
       "      <th>660555</th>\n",
       "      <td>660555</td>\n",
       "      <td>2020-01-31</td>\n",
       "      <td>DL</td>\n",
       "      <td>LGA</td>\n",
       "      <td>CLT</td>\n",
       "      <td>2005</td>\n",
       "      <td>2222</td>\n",
       "      <td>137</td>\n",
       "      <td>1</td>\n",
       "      <td>544</td>\n",
       "      <td>17.0</td>\n",
       "    </tr>\n",
       "  </tbody>\n",
       "</table>\n",
       "<p>660556 rows × 11 columns</p>\n",
       "</div>"
      ],
      "text/plain": [
       "        Unnamed: 0     fl_date mkt_unique_carrier origin dest  crs_dep_time  \\\n",
       "0                0  2020-01-01                 WN    ONT  SFO          1810   \n",
       "1                1  2020-01-01                 WN    ONT  SFO          1150   \n",
       "2                2  2020-01-01                 WN    ONT  SJC          2020   \n",
       "3                3  2020-01-01                 WN    ONT  SJC          1340   \n",
       "4                4  2020-01-01                 WN    ONT  SJC           915   \n",
       "...            ...         ...                ...    ...  ...           ...   \n",
       "660551      660551  2020-01-31                 DL    DCA  CVG          1859   \n",
       "660552      660552  2020-01-31                 DL    DCA  CVG          1515   \n",
       "660553      660553  2020-01-31                 DL    JFK  BTV          2205   \n",
       "660554      660554  2020-01-31                 DL    ORD  JFK          1035   \n",
       "660555      660555  2020-01-31                 DL    LGA  CLT          2005   \n",
       "\n",
       "        crs_arr_time  crs_elapsed_time  flights  distance  predicted_delays  \n",
       "0               1945                95        1       363              18.4  \n",
       "1               1320                90        1       363             216.2  \n",
       "2               2130                70        1       333              18.4  \n",
       "3               1455                75        1       333             216.2  \n",
       "4               1035                80        1       333              25.0  \n",
       "...              ...               ...      ...       ...               ...  \n",
       "660551          2041               102        1       411              17.0  \n",
       "660552          1702               107        1       411              17.0  \n",
       "660553          2337                92        1       266              17.0  \n",
       "660554          1356               141        1       740               0.0  \n",
       "660555          2222               137        1       544              17.0  \n",
       "\n",
       "[660556 rows x 11 columns]"
      ]
     },
     "execution_count": 26,
     "metadata": {},
     "output_type": "execute_result"
    }
   ],
   "source": [
    "final_df"
   ]
  },
  {
   "cell_type": "code",
   "execution_count": 34,
   "metadata": {},
   "outputs": [],
   "source": [
    "# Save results to submission file\n",
    "\n",
    "final_df.to_csv(\"submission.csv\")"
   ]
  }
 ],
 "metadata": {
  "kernelspec": {
   "display_name": "Python 3.9.12 ('lhl_env')",
   "language": "python",
   "name": "python3"
  },
  "language_info": {
   "codemirror_mode": {
    "name": "ipython",
    "version": 3
   },
   "file_extension": ".py",
   "mimetype": "text/x-python",
   "name": "python",
   "nbconvert_exporter": "python",
   "pygments_lexer": "ipython3",
   "version": "3.9.12"
  },
  "vscode": {
   "interpreter": {
    "hash": "6701a37b50cf3fe420c1c168326b5df267cda9c0faa66bc5c6c8150dd9165b51"
   }
  }
 },
 "nbformat": 4,
 "nbformat_minor": 4
}
