{
 "cells": [
  {
   "cell_type": "code",
   "execution_count": 1,
   "metadata": {},
   "outputs": [],
   "source": [
    "reset "
   ]
  },
  {
   "cell_type": "markdown",
   "metadata": {},
   "source": [
    "## Main Task: Regression Problem"
   ]
  },
  {
   "cell_type": "markdown",
   "metadata": {},
   "source": [
    "The target variable is **ARR_DELAY**. We need to be careful which columns to use and which don't. For example, DEP_DELAY is going to be the perfect predictor, but we can't use it because in real-life scenario, we want to predict the delay before the flight takes of --> We can use average delay from earlier days but not the one from the actual flight we predict.  \n",
    "\n",
    "For example, variables **CARRIER_DELAY, WEATHER_DELAY, NAS_DELAY, SECURITY_DELAY, LATE_AIRCRAFT_DELAY** shouldn't be used directly as predictors as well. However, we can create various transformations from earlier values.\n",
    "\n",
    "We will be evaluating your models by predicting the ARR_DELAY for all flights **1 week in advance**."
   ]
  },
  {
   "cell_type": "code",
   "execution_count": 2,
   "metadata": {},
   "outputs": [],
   "source": [
    "#Libraries\n",
    "\n",
    "import matplotlib.pyplot as plt\n",
    "import pandas as pd\n",
    "import numpy as np\n",
    "\n",
    "from sklearn.model_selection import train_test_split\n",
    "from sklearn.linear_model import LinearRegression\n",
    "from sklearn.preprocessing import MinMaxScaler"
   ]
  },
  {
   "cell_type": "code",
   "execution_count": 3,
   "metadata": {},
   "outputs": [],
   "source": [
    "model_df = pd.read_csv(\"flight_train_ready.csv\")\n",
    "\n",
    "flight_df = pd.read_csv(\"flight_test_ready.csv\")\n"
   ]
  },
  {
   "cell_type": "markdown",
   "metadata": {},
   "source": [
    "#### Random Forest Regressor "
   ]
  },
  {
   "cell_type": "code",
   "execution_count": 4,
   "metadata": {},
   "outputs": [],
   "source": [
    "\n",
    "model_df.drop(list(model_df.filter(regex = 'Unnamed')), axis = 1, inplace=True) "
   ]
  },
  {
   "cell_type": "code",
   "execution_count": 5,
   "metadata": {},
   "outputs": [],
   "source": [
    "# Extract target\n",
    "y = model_df[['arr_delay']]\n",
    "model_df = model_df.drop(columns=['arr_delay'])\n",
    "\n",
    "# Turn categorical variables into dummies (one-hot encode)\n",
    "x = pd.get_dummies(model_df)\n",
    "X_columns = x.columns"
   ]
  },
  {
   "cell_type": "code",
   "execution_count": 6,
   "metadata": {},
   "outputs": [],
   "source": [
    "#Try Sparse PCA, since this is sparse data...\n",
    "from sklearn.ensemble import RandomForestClassifier\n",
    "from sklearn.decomposition import MiniBatchSparsePCA\n",
    "\n",
    "def pca_processing(X, n):\n",
    "    '''Runs the MiniBatchSparsePCA on our data and returns the transformed features\n",
    "    Params:\n",
    "        - X: array of data features; assumed to be a sparse matrix (lots of 0s and 1s)\n",
    "        - n: Number of PCA components to fit with\n",
    "    Returns:\n",
    "        - x: array of transformed data with n features  \n",
    "        - x_columns: array of features names (just PCA number, in this case)\n",
    "        ''' \n",
    "    pca_trans = MiniBatchSparsePCA(n_components=n, batch_size=30, random_state=0)\n",
    "    pca_trans.fit(X)\n",
    "    x = pca_trans.transform(X)\n",
    "    x_columns = range(n)\n",
    "    return x, x_columns"
   ]
  },
  {
   "cell_type": "code",
   "execution_count": null,
   "metadata": {},
   "outputs": [],
   "source": []
  },
  {
   "cell_type": "code",
   "execution_count": 7,
   "metadata": {},
   "outputs": [
    {
     "name": "stderr",
     "output_type": "stream",
     "text": [
      "/tmp/ipykernel_45649/1091169502.py:4: DataConversionWarning: A column-vector y was passed when a 1d array was expected. Please change the shape of y to (n_samples,), for example using ravel().\n",
      "  rfr.fit(x, y)\n"
     ]
    },
    {
     "data": {
      "text/plain": [
       "RandomForestRegressor(n_estimators=5)"
      ]
     },
     "execution_count": 7,
     "metadata": {},
     "output_type": "execute_result"
    }
   ],
   "source": [
    "from sklearn.ensemble import RandomForestRegressor\n",
    "from sklearn.ensemble import RandomForestRegressor\n",
    "rfr = RandomForestRegressor(n_estimators=5)\n",
    "rfr.fit(x, y)"
   ]
  },
  {
   "cell_type": "code",
   "execution_count": 8,
   "metadata": {},
   "outputs": [],
   "source": [
    "y_train_pred = rfr.predict(x)"
   ]
  },
  {
   "cell_type": "code",
   "execution_count": 9,
   "metadata": {},
   "outputs": [
    {
     "data": {
      "text/html": [
       "<div>\n",
       "<style scoped>\n",
       "    .dataframe tbody tr th:only-of-type {\n",
       "        vertical-align: middle;\n",
       "    }\n",
       "\n",
       "    .dataframe tbody tr th {\n",
       "        vertical-align: top;\n",
       "    }\n",
       "\n",
       "    .dataframe thead th {\n",
       "        text-align: right;\n",
       "    }\n",
       "</style>\n",
       "<table border=\"1\" class=\"dataframe\">\n",
       "  <thead>\n",
       "    <tr style=\"text-align: right;\">\n",
       "      <th></th>\n",
       "      <th>Feature names</th>\n",
       "      <th>Importance</th>\n",
       "    </tr>\n",
       "  </thead>\n",
       "  <tbody>\n",
       "    <tr>\n",
       "      <th>0</th>\n",
       "      <td>dep_hr</td>\n",
       "      <td>0.100978</td>\n",
       "    </tr>\n",
       "    <tr>\n",
       "      <th>1</th>\n",
       "      <td>arr_hr</td>\n",
       "      <td>0.100877</td>\n",
       "    </tr>\n",
       "    <tr>\n",
       "      <th>2</th>\n",
       "      <td>norm_dist</td>\n",
       "      <td>0.056953</td>\n",
       "    </tr>\n",
       "    <tr>\n",
       "      <th>768</th>\n",
       "      <td>month_Mar</td>\n",
       "      <td>0.026206</td>\n",
       "    </tr>\n",
       "    <tr>\n",
       "      <th>778</th>\n",
       "      <td>season_sum</td>\n",
       "      <td>0.024674</td>\n",
       "    </tr>\n",
       "    <tr>\n",
       "      <th>765</th>\n",
       "      <td>month_Aug</td>\n",
       "      <td>0.024553</td>\n",
       "    </tr>\n",
       "    <tr>\n",
       "      <th>777</th>\n",
       "      <td>season_spr</td>\n",
       "      <td>0.023976</td>\n",
       "    </tr>\n",
       "    <tr>\n",
       "      <th>11</th>\n",
       "      <td>mkt_unique_carrier_UA</td>\n",
       "      <td>0.017993</td>\n",
       "    </tr>\n",
       "    <tr>\n",
       "      <th>771</th>\n",
       "      <td>weekday_Mon</td>\n",
       "      <td>0.016645</td>\n",
       "    </tr>\n",
       "    <tr>\n",
       "      <th>767</th>\n",
       "      <td>month_Jun</td>\n",
       "      <td>0.015592</td>\n",
       "    </tr>\n",
       "    <tr>\n",
       "      <th>775</th>\n",
       "      <td>weekday_Wed</td>\n",
       "      <td>0.013716</td>\n",
       "    </tr>\n",
       "    <tr>\n",
       "      <th>6</th>\n",
       "      <td>mkt_unique_carrier_DL</td>\n",
       "      <td>0.011787</td>\n",
       "    </tr>\n",
       "    <tr>\n",
       "      <th>642</th>\n",
       "      <td>dest_ORD</td>\n",
       "      <td>0.011054</td>\n",
       "    </tr>\n",
       "    <tr>\n",
       "      <th>760</th>\n",
       "      <td>dep_time_of_day_eve</td>\n",
       "      <td>0.010899</td>\n",
       "    </tr>\n",
       "    <tr>\n",
       "      <th>132</th>\n",
       "      <td>origin_EWR</td>\n",
       "      <td>0.010594</td>\n",
       "    </tr>\n",
       "    <tr>\n",
       "      <th>759</th>\n",
       "      <td>dep_time_of_day_aft</td>\n",
       "      <td>0.010366</td>\n",
       "    </tr>\n",
       "    <tr>\n",
       "      <th>269</th>\n",
       "      <td>origin_ORD</td>\n",
       "      <td>0.010307</td>\n",
       "    </tr>\n",
       "    <tr>\n",
       "      <th>3</th>\n",
       "      <td>mkt_unique_carrier_AA</td>\n",
       "      <td>0.010178</td>\n",
       "    </tr>\n",
       "    <tr>\n",
       "      <th>762</th>\n",
       "      <td>arr_time_of_day_aft</td>\n",
       "      <td>0.010154</td>\n",
       "    </tr>\n",
       "    <tr>\n",
       "      <th>481</th>\n",
       "      <td>dest_DFW</td>\n",
       "      <td>0.009746</td>\n",
       "    </tr>\n",
       "  </tbody>\n",
       "</table>\n",
       "</div>"
      ],
      "text/plain": [
       "             Feature names  Importance\n",
       "0                   dep_hr    0.100978\n",
       "1                   arr_hr    0.100877\n",
       "2                norm_dist    0.056953\n",
       "768              month_Mar    0.026206\n",
       "778             season_sum    0.024674\n",
       "765              month_Aug    0.024553\n",
       "777             season_spr    0.023976\n",
       "11   mkt_unique_carrier_UA    0.017993\n",
       "771            weekday_Mon    0.016645\n",
       "767              month_Jun    0.015592\n",
       "775            weekday_Wed    0.013716\n",
       "6    mkt_unique_carrier_DL    0.011787\n",
       "642               dest_ORD    0.011054\n",
       "760    dep_time_of_day_eve    0.010899\n",
       "132             origin_EWR    0.010594\n",
       "759    dep_time_of_day_aft    0.010366\n",
       "269             origin_ORD    0.010307\n",
       "3    mkt_unique_carrier_AA    0.010178\n",
       "762    arr_time_of_day_aft    0.010154\n",
       "481               dest_DFW    0.009746"
      ]
     },
     "execution_count": 9,
     "metadata": {},
     "output_type": "execute_result"
    }
   ],
   "source": [
    "feature_val = rfr.feature_importances_\n",
    "# print(type(feature_val))\n",
    "# X_columns = range(5)  ### if using MiniBatchSparsePCA, use this\n",
    "feature_name = x.columns\n",
    "# print(feature_name)\n",
    "\n",
    "features = pd.DataFrame({\"Feature names\": pd.Series(dtype='str'),\n",
    "                         \"Importance\": pd.Series(dtype='int')})\n",
    "features['Feature names'] = feature_name\n",
    "features['Importance'] = feature_val\n",
    "features.sort_values(by=['Importance'], ascending=False).head(20)"
   ]
  },
  {
   "cell_type": "code",
   "execution_count": 10,
   "metadata": {},
   "outputs": [
    {
     "name": "stdout",
     "output_type": "stream",
     "text": [
      "Mean squared error: 537.05\n",
      "Coefficient of determination: 0.714\n"
     ]
    }
   ],
   "source": [
    "from sklearn.metrics import r2_score, mean_squared_error\n",
    "\n",
    "# The mean squared error\n",
    "print(\"Mean squared error: %.2f\" % mean_squared_error(y, y_train_pred))\n",
    "# The coefficient of determination: 1 is perfect prediction\n",
    "print(\"Coefficient of determination: %.3f\" % r2_score(y, y_train_pred))"
   ]
  },
  {
   "cell_type": "code",
   "execution_count": 11,
   "metadata": {},
   "outputs": [
    {
     "data": {
      "image/png": "[encoded data removed]",
      "text/plain": [
       "<Figure size 640x480 with 1 Axes>"
      ]
     },
     "metadata": {},
     "output_type": "display_data"
    }
   ],
   "source": [
    "plt.scatter(y, y_train_pred)\n",
    "plt.xlabel(\"Actual Delay\")\n",
    "plt.ylabel(\"Predicted Delay\")\n",
    "plt.xlim(-5, 1200 )\n",
    "plt.ylim(-5, 900 )\n",
    "plt.show()"
   ]
  },
  {
   "cell_type": "code",
   "execution_count": 12,
   "metadata": {},
   "outputs": [],
   "source": [
    "# Commented out features are included in the model (although there must be a better way?)\n",
    "model_df.drop(list(model_df.filter(regex = 'origin')), axis = 1, inplace=True) \n",
    "# model_df.drop(list(model_df.filter(regex = 'mkt_unique_carrier')), axis = 1, inplace=True) \n",
    "model_df.drop(list(model_df.filter(regex = 'carrier_size')), axis = 1, inplace=True) \n",
    "model_df.drop(list(model_df.filter(regex = 'dest')), axis = 1, inplace=True) \n",
    "# model_df.drop(list(model_df.filter(regex = 'dep_hr')), axis = 1, inplace=True) \n",
    "model_df.drop(list(model_df.filter(regex = 'dep_time_of_day')), axis = 1, inplace=True) \n",
    "# model_df.drop(list(model_df.filter(regex = 'arr_hr')), axis = 1, inplace=True) \n",
    "model_df.drop(list(model_df.filter(regex = 'arr_time_of_day')), axis = 1, inplace=True) \n",
    "model_df.drop(list(model_df.filter(regex = 'month')), axis = 1, inplace=True) \n",
    "# model_df.drop(list(model_df.filter(regex = 'season')), axis = 1, inplace=True) \n",
    "# model_df.drop(list(model_df.filter(regex = 'weekday')), axis = 1, inplace=True) \n",
    "# model_df.drop(list(model_df.filter(regex = 'norm_dist')), axis = 1, inplace=True) \n",
    "model_df.drop(list(model_df.filter(regex = 'distance')), axis = 1, inplace=True) "
   ]
  },
  {
   "cell_type": "markdown",
   "metadata": {},
   "source": [
    "Reduce and transform features using PCA"
   ]
  },
  {
   "cell_type": "code",
   "execution_count": 13,
   "metadata": {},
   "outputs": [],
   "source": [
    "x, x_columns = pca_processing(x, 5)"
   ]
  },
  {
   "cell_type": "code",
   "execution_count": 14,
   "metadata": {},
   "outputs": [
    {
     "name": "stderr",
     "output_type": "stream",
     "text": [
      "/tmp/ipykernel_45649/2063399946.py:2: DataConversionWarning: A column-vector y was passed when a 1d array was expected. Please change the shape of y to (n_samples,), for example using ravel().\n",
      "  rfr.fit(x, y)\n"
     ]
    }
   ],
   "source": [
    "\n",
    "rfr = RandomForestRegressor(n_estimators=5)\n",
    "rfr.fit(x, y)\n",
    "y_train_pred = rfr.predict(x)"
   ]
  },
  {
   "cell_type": "code",
   "execution_count": 15,
   "metadata": {},
   "outputs": [
    {
     "data": {
      "text/html": [
       "<div>\n",
       "<style scoped>\n",
       "    .dataframe tbody tr th:only-of-type {\n",
       "        vertical-align: middle;\n",
       "    }\n",
       "\n",
       "    .dataframe tbody tr th {\n",
       "        vertical-align: top;\n",
       "    }\n",
       "\n",
       "    .dataframe thead th {\n",
       "        text-align: right;\n",
       "    }\n",
       "</style>\n",
       "<table border=\"1\" class=\"dataframe\">\n",
       "  <thead>\n",
       "    <tr style=\"text-align: right;\">\n",
       "      <th></th>\n",
       "      <th>Feature names</th>\n",
       "      <th>Importance</th>\n",
       "    </tr>\n",
       "  </thead>\n",
       "  <tbody>\n",
       "    <tr>\n",
       "      <th>0</th>\n",
       "      <td>0</td>\n",
       "      <td>0.242685</td>\n",
       "    </tr>\n",
       "    <tr>\n",
       "      <th>1</th>\n",
       "      <td>1</td>\n",
       "      <td>0.233110</td>\n",
       "    </tr>\n",
       "    <tr>\n",
       "      <th>3</th>\n",
       "      <td>3</td>\n",
       "      <td>0.194692</td>\n",
       "    </tr>\n",
       "    <tr>\n",
       "      <th>4</th>\n",
       "      <td>4</td>\n",
       "      <td>0.176531</td>\n",
       "    </tr>\n",
       "    <tr>\n",
       "      <th>2</th>\n",
       "      <td>2</td>\n",
       "      <td>0.152982</td>\n",
       "    </tr>\n",
       "  </tbody>\n",
       "</table>\n",
       "</div>"
      ],
      "text/plain": [
       "   Feature names  Importance\n",
       "0              0    0.242685\n",
       "1              1    0.233110\n",
       "3              3    0.194692\n",
       "4              4    0.176531\n",
       "2              2    0.152982"
      ]
     },
     "execution_count": 15,
     "metadata": {},
     "output_type": "execute_result"
    }
   ],
   "source": [
    "\n",
    "feature_val = rfr.feature_importances_\n",
    "# print(type(feature_val))\n",
    "# X_columns = range(5)  ### if using MiniBatchSparsePCA, use this\n",
    "feature_name = x_columns\n",
    "# print(feature_name)\n",
    "\n",
    "features = pd.DataFrame({\"Feature names\": pd.Series(dtype='str'),\n",
    "                         \"Importance\": pd.Series(dtype='int')})\n",
    "features['Feature names'] = feature_name\n",
    "features['Importance'] = feature_val\n",
    "features.sort_values(by=['Importance'], ascending=False).head(20)"
   ]
  },
  {
   "cell_type": "code",
   "execution_count": 16,
   "metadata": {},
   "outputs": [
    {
     "name": "stdout",
     "output_type": "stream",
     "text": [
      "Mean squared error: 625.53\n",
      "Coefficient of determination: 0.667\n"
     ]
    }
   ],
   "source": [
    "from sklearn.metrics import r2_score, mean_squared_error\n",
    "\n",
    "# The mean squared error\n",
    "print(\"Mean squared error: %.2f\" % mean_squared_error(y, y_train_pred))\n",
    "# The coefficient of determination: 1 is perfect prediction\n",
    "print(\"Coefficient of determination: %.3f\" % r2_score(y, y_train_pred))"
   ]
  },
  {
   "cell_type": "code",
   "execution_count": 17,
   "metadata": {},
   "outputs": [
    {
     "data": {
      "image/png": "[encoded data removed]",
      "text/plain": [
       "<Figure size 640x480 with 1 Axes>"
      ]
     },
     "metadata": {},
     "output_type": "display_data"
    }
   ],
   "source": [
    "plt.scatter(y, y_train_pred)\n",
    "plt.xlabel(\"Actual Delay\")\n",
    "plt.ylabel(\"Predicted Delay\")\n",
    "plt.xlim(-5, 1200 )\n",
    "plt.ylim(-5, 900 )\n",
    "plt.show()"
   ]
  },
  {
   "cell_type": "markdown",
   "metadata": {},
   "source": [
    "#### Part 2: Creating the predicted flight delays from the model"
   ]
  },
  {
   "cell_type": "code",
   "execution_count": 18,
   "metadata": {},
   "outputs": [],
   "source": [
    "\n",
    "# Commented out features are included in the model (although there must be a better way?)\n",
    "flight_df.drop(list(flight_df.filter(regex = 'origin')), axis = 1, inplace=True) \n",
    "# flight_df.drop(list(flight_df.filter(regex = 'mkt_unique_carrier')), axis = 1, inplace=True) \n",
    "flight_df.drop(list(flight_df.filter(regex = 'carrier_size')), axis = 1, inplace=True) \n",
    "flight_df.drop(list(flight_df.filter(regex = 'dest')), axis = 1, inplace=True) \n",
    "# flight_df.drop(list(flight_df.filter(regex = 'dep_hr')), axis = 1, inplace=True) \n",
    "flight_df.drop(list(flight_df.filter(regex = 'dep_time_of_day')), axis = 1, inplace=True) \n",
    "# flight_df.drop(list(flight_df.filter(regex = 'arr_hr')), axis = 1, inplace=True) \n",
    "flight_df.drop(list(flight_df.filter(regex = 'arr_time_of_day')), axis = 1, inplace=True) \n",
    "flight_df.drop(list(flight_df.filter(regex = 'month')), axis = 1, inplace=True) \n",
    "# flight_df.drop(list(flight_df.filter(regex = 'season')), axis = 1, inplace=True) \n",
    "# flight_df.drop(list(flight_df.filter(regex = 'weekday')), axis = 1, inplace=True) \n",
    "# flight_df.drop(list(flight_df.filter(regex = 'norm_dist')), axis = 1, inplace=True) \n",
    "flight_df.drop(list(flight_df.filter(regex = 'distance')), axis = 1, inplace=True) "
   ]
  },
  {
   "cell_type": "code",
   "execution_count": 19,
   "metadata": {},
   "outputs": [],
   "source": [
    "\n",
    "# Turn categorical variables into dummies (one-hot encode)\n",
    "x = pd.get_dummies(flight_df)\n",
    "X_columns = x.columns\n",
    "\n",
    "x_test, x_columns = pca_processing(x, 5)\n",
    "\n",
    "# Make our prediction\n",
    "y_pred = rfr.predict(x_test)"
   ]
  },
  {
   "cell_type": "code",
   "execution_count": 20,
   "metadata": {},
   "outputs": [],
   "source": [
    "# Extract original file for submission (this one's been cleaned...yes, seems redundanit)\n",
    "final_df = pd.read_csv(\"flight_test.csv\")"
   ]
  },
  {
   "cell_type": "code",
   "execution_count": 21,
   "metadata": {},
   "outputs": [],
   "source": [
    "final_df['predicted_delays'] = y_pred"
   ]
  },
  {
   "cell_type": "code",
   "execution_count": 25,
   "metadata": {},
   "outputs": [
    {
     "data": {
      "text/plain": [
       "<AxesSubplot:ylabel='Count'>"
      ]
     },
     "execution_count": 25,
     "metadata": {},
     "output_type": "execute_result"
    },
    {
     "data": {
      "image/png": "[encoded data removed]",
      "text/plain": [
       "<Figure size 640x480 with 1 Axes>"
      ]
     },
     "metadata": {},
     "output_type": "display_data"
    }
   ],
   "source": [
    "import seaborn as sns\n",
    "sns.histplot(y_pred, bins=30)"
   ]
  },
  {
   "cell_type": "code",
   "execution_count": 23,
   "metadata": {},
   "outputs": [
    {
     "data": {
      "text/html": [
       "<div>\n",
       "<style scoped>\n",
       "    .dataframe tbody tr th:only-of-type {\n",
       "        vertical-align: middle;\n",
       "    }\n",
       "\n",
       "    .dataframe tbody tr th {\n",
       "        vertical-align: top;\n",
       "    }\n",
       "\n",
       "    .dataframe thead th {\n",
       "        text-align: right;\n",
       "    }\n",
       "</style>\n",
       "<table border=\"1\" class=\"dataframe\">\n",
       "  <thead>\n",
       "    <tr style=\"text-align: right;\">\n",
       "      <th></th>\n",
       "      <th>Unnamed: 0</th>\n",
       "      <th>fl_date</th>\n",
       "      <th>mkt_unique_carrier</th>\n",
       "      <th>origin</th>\n",
       "      <th>dest</th>\n",
       "      <th>crs_dep_time</th>\n",
       "      <th>crs_arr_time</th>\n",
       "      <th>crs_elapsed_time</th>\n",
       "      <th>flights</th>\n",
       "      <th>distance</th>\n",
       "      <th>predicted_delays</th>\n",
       "    </tr>\n",
       "  </thead>\n",
       "  <tbody>\n",
       "    <tr>\n",
       "      <th>0</th>\n",
       "      <td>0</td>\n",
       "      <td>2020-01-01</td>\n",
       "      <td>WN</td>\n",
       "      <td>ONT</td>\n",
       "      <td>SFO</td>\n",
       "      <td>1810</td>\n",
       "      <td>1945</td>\n",
       "      <td>95</td>\n",
       "      <td>1</td>\n",
       "      <td>363</td>\n",
       "      <td>86.400000</td>\n",
       "    </tr>\n",
       "    <tr>\n",
       "      <th>1</th>\n",
       "      <td>1</td>\n",
       "      <td>2020-01-01</td>\n",
       "      <td>WN</td>\n",
       "      <td>ONT</td>\n",
       "      <td>SFO</td>\n",
       "      <td>1150</td>\n",
       "      <td>1320</td>\n",
       "      <td>90</td>\n",
       "      <td>1</td>\n",
       "      <td>363</td>\n",
       "      <td>99.400000</td>\n",
       "    </tr>\n",
       "    <tr>\n",
       "      <th>2</th>\n",
       "      <td>2</td>\n",
       "      <td>2020-01-01</td>\n",
       "      <td>WN</td>\n",
       "      <td>ONT</td>\n",
       "      <td>SJC</td>\n",
       "      <td>2020</td>\n",
       "      <td>2130</td>\n",
       "      <td>70</td>\n",
       "      <td>1</td>\n",
       "      <td>333</td>\n",
       "      <td>86.400000</td>\n",
       "    </tr>\n",
       "    <tr>\n",
       "      <th>3</th>\n",
       "      <td>3</td>\n",
       "      <td>2020-01-01</td>\n",
       "      <td>WN</td>\n",
       "      <td>ONT</td>\n",
       "      <td>SJC</td>\n",
       "      <td>1340</td>\n",
       "      <td>1455</td>\n",
       "      <td>75</td>\n",
       "      <td>1</td>\n",
       "      <td>333</td>\n",
       "      <td>101.400000</td>\n",
       "    </tr>\n",
       "    <tr>\n",
       "      <th>4</th>\n",
       "      <td>4</td>\n",
       "      <td>2020-01-01</td>\n",
       "      <td>WN</td>\n",
       "      <td>ONT</td>\n",
       "      <td>SJC</td>\n",
       "      <td>915</td>\n",
       "      <td>1035</td>\n",
       "      <td>80</td>\n",
       "      <td>1</td>\n",
       "      <td>333</td>\n",
       "      <td>182.200000</td>\n",
       "    </tr>\n",
       "    <tr>\n",
       "      <th>...</th>\n",
       "      <td>...</td>\n",
       "      <td>...</td>\n",
       "      <td>...</td>\n",
       "      <td>...</td>\n",
       "      <td>...</td>\n",
       "      <td>...</td>\n",
       "      <td>...</td>\n",
       "      <td>...</td>\n",
       "      <td>...</td>\n",
       "      <td>...</td>\n",
       "      <td>...</td>\n",
       "    </tr>\n",
       "    <tr>\n",
       "      <th>660551</th>\n",
       "      <td>660551</td>\n",
       "      <td>2020-01-31</td>\n",
       "      <td>DL</td>\n",
       "      <td>DCA</td>\n",
       "      <td>CVG</td>\n",
       "      <td>1859</td>\n",
       "      <td>2041</td>\n",
       "      <td>102</td>\n",
       "      <td>1</td>\n",
       "      <td>411</td>\n",
       "      <td>102.200000</td>\n",
       "    </tr>\n",
       "    <tr>\n",
       "      <th>660552</th>\n",
       "      <td>660552</td>\n",
       "      <td>2020-01-31</td>\n",
       "      <td>DL</td>\n",
       "      <td>DCA</td>\n",
       "      <td>CVG</td>\n",
       "      <td>1515</td>\n",
       "      <td>1702</td>\n",
       "      <td>107</td>\n",
       "      <td>1</td>\n",
       "      <td>411</td>\n",
       "      <td>102.200000</td>\n",
       "    </tr>\n",
       "    <tr>\n",
       "      <th>660553</th>\n",
       "      <td>660553</td>\n",
       "      <td>2020-01-31</td>\n",
       "      <td>DL</td>\n",
       "      <td>JFK</td>\n",
       "      <td>BTV</td>\n",
       "      <td>2205</td>\n",
       "      <td>2337</td>\n",
       "      <td>92</td>\n",
       "      <td>1</td>\n",
       "      <td>266</td>\n",
       "      <td>102.200000</td>\n",
       "    </tr>\n",
       "    <tr>\n",
       "      <th>660554</th>\n",
       "      <td>660554</td>\n",
       "      <td>2020-01-31</td>\n",
       "      <td>DL</td>\n",
       "      <td>ORD</td>\n",
       "      <td>JFK</td>\n",
       "      <td>1035</td>\n",
       "      <td>1356</td>\n",
       "      <td>141</td>\n",
       "      <td>1</td>\n",
       "      <td>740</td>\n",
       "      <td>45.266667</td>\n",
       "    </tr>\n",
       "    <tr>\n",
       "      <th>660555</th>\n",
       "      <td>660555</td>\n",
       "      <td>2020-01-31</td>\n",
       "      <td>DL</td>\n",
       "      <td>LGA</td>\n",
       "      <td>CLT</td>\n",
       "      <td>2005</td>\n",
       "      <td>2222</td>\n",
       "      <td>137</td>\n",
       "      <td>1</td>\n",
       "      <td>544</td>\n",
       "      <td>117.200000</td>\n",
       "    </tr>\n",
       "  </tbody>\n",
       "</table>\n",
       "<p>660556 rows × 11 columns</p>\n",
       "</div>"
      ],
      "text/plain": [
       "        Unnamed: 0     fl_date mkt_unique_carrier origin dest  crs_dep_time  \\\n",
       "0                0  2020-01-01                 WN    ONT  SFO          1810   \n",
       "1                1  2020-01-01                 WN    ONT  SFO          1150   \n",
       "2                2  2020-01-01                 WN    ONT  SJC          2020   \n",
       "3                3  2020-01-01                 WN    ONT  SJC          1340   \n",
       "4                4  2020-01-01                 WN    ONT  SJC           915   \n",
       "...            ...         ...                ...    ...  ...           ...   \n",
       "660551      660551  2020-01-31                 DL    DCA  CVG          1859   \n",
       "660552      660552  2020-01-31                 DL    DCA  CVG          1515   \n",
       "660553      660553  2020-01-31                 DL    JFK  BTV          2205   \n",
       "660554      660554  2020-01-31                 DL    ORD  JFK          1035   \n",
       "660555      660555  2020-01-31                 DL    LGA  CLT          2005   \n",
       "\n",
       "        crs_arr_time  crs_elapsed_time  flights  distance  predicted_delays  \n",
       "0               1945                95        1       363         86.400000  \n",
       "1               1320                90        1       363         99.400000  \n",
       "2               2130                70        1       333         86.400000  \n",
       "3               1455                75        1       333        101.400000  \n",
       "4               1035                80        1       333        182.200000  \n",
       "...              ...               ...      ...       ...               ...  \n",
       "660551          2041               102        1       411        102.200000  \n",
       "660552          1702               107        1       411        102.200000  \n",
       "660553          2337                92        1       266        102.200000  \n",
       "660554          1356               141        1       740         45.266667  \n",
       "660555          2222               137        1       544        117.200000  \n",
       "\n",
       "[660556 rows x 11 columns]"
      ]
     },
     "execution_count": 23,
     "metadata": {},
     "output_type": "execute_result"
    }
   ],
   "source": [
    "final_df"
   ]
  },
  {
   "cell_type": "code",
   "execution_count": 26,
   "metadata": {},
   "outputs": [
    {
     "ename": "FileNotFoundError",
     "evalue": "[Errno 2] No such file or directory: 'data/submission.csv'",
     "output_type": "error",
     "traceback": [
      "\u001b[0;31m---------------------------------------------------------------------------\u001b[0m",
      "\u001b[0;31mFileNotFoundError\u001b[0m                         Traceback (most recent call last)",
      "\u001b[1;32m/home/marcjb/Documents/programming-stuffs/lighthouse/work/mid-term-project-I/Delays_regression_deployment.ipynb Cell 30\u001b[0m in \u001b[0;36m<cell line: 3>\u001b[0;34m()\u001b[0m\n\u001b[1;32m      <a href='vscode-notebook-cell:/home/marcjb/Documents/programming-stuffs/lighthouse/work/mid-term-project-I/Delays_regression_deployment.ipynb#X41sZmlsZQ%3D%3D?line=0'>1</a>\u001b[0m \u001b[39m# Save results to submission file\u001b[39;00m\n\u001b[0;32m----> <a href='vscode-notebook-cell:/home/marcjb/Documents/programming-stuffs/lighthouse/work/mid-term-project-I/Delays_regression_deployment.ipynb#X41sZmlsZQ%3D%3D?line=2'>3</a>\u001b[0m final_df\u001b[39m.\u001b[39;49mto_csv(\u001b[39m\"\u001b[39;49m\u001b[39mdata/submission.csv\u001b[39;49m\u001b[39m\"\u001b[39;49m)\n",
      "File \u001b[0;32m~/anaconda3/envs/lhl_env/lib/python3.9/site-packages/pandas/core/generic.py:3466\u001b[0m, in \u001b[0;36mNDFrame.to_csv\u001b[0;34m(self, path_or_buf, sep, na_rep, float_format, columns, header, index, index_label, mode, encoding, compression, quoting, quotechar, line_terminator, chunksize, date_format, doublequote, escapechar, decimal, errors, storage_options)\u001b[0m\n\u001b[1;32m   3455\u001b[0m df \u001b[39m=\u001b[39m \u001b[39mself\u001b[39m \u001b[39mif\u001b[39;00m \u001b[39misinstance\u001b[39m(\u001b[39mself\u001b[39m, ABCDataFrame) \u001b[39melse\u001b[39;00m \u001b[39mself\u001b[39m\u001b[39m.\u001b[39mto_frame()\n\u001b[1;32m   3457\u001b[0m formatter \u001b[39m=\u001b[39m DataFrameFormatter(\n\u001b[1;32m   3458\u001b[0m     frame\u001b[39m=\u001b[39mdf,\n\u001b[1;32m   3459\u001b[0m     header\u001b[39m=\u001b[39mheader,\n\u001b[0;32m   (...)\u001b[0m\n\u001b[1;32m   3463\u001b[0m     decimal\u001b[39m=\u001b[39mdecimal,\n\u001b[1;32m   3464\u001b[0m )\n\u001b[0;32m-> 3466\u001b[0m \u001b[39mreturn\u001b[39;00m DataFrameRenderer(formatter)\u001b[39m.\u001b[39;49mto_csv(\n\u001b[1;32m   3467\u001b[0m     path_or_buf,\n\u001b[1;32m   3468\u001b[0m     line_terminator\u001b[39m=\u001b[39;49mline_terminator,\n\u001b[1;32m   3469\u001b[0m     sep\u001b[39m=\u001b[39;49msep,\n\u001b[1;32m   3470\u001b[0m     encoding\u001b[39m=\u001b[39;49mencoding,\n\u001b[1;32m   3471\u001b[0m     errors\u001b[39m=\u001b[39;49merrors,\n\u001b[1;32m   3472\u001b[0m     compression\u001b[39m=\u001b[39;49mcompression,\n\u001b[1;32m   3473\u001b[0m     quoting\u001b[39m=\u001b[39;49mquoting,\n\u001b[1;32m   3474\u001b[0m     columns\u001b[39m=\u001b[39;49mcolumns,\n\u001b[1;32m   3475\u001b[0m     index_label\u001b[39m=\u001b[39;49mindex_label,\n\u001b[1;32m   3476\u001b[0m     mode\u001b[39m=\u001b[39;49mmode,\n\u001b[1;32m   3477\u001b[0m     chunksize\u001b[39m=\u001b[39;49mchunksize,\n\u001b[1;32m   3478\u001b[0m     quotechar\u001b[39m=\u001b[39;49mquotechar,\n\u001b[1;32m   3479\u001b[0m     date_format\u001b[39m=\u001b[39;49mdate_format,\n\u001b[1;32m   3480\u001b[0m     doublequote\u001b[39m=\u001b[39;49mdoublequote,\n\u001b[1;32m   3481\u001b[0m     escapechar\u001b[39m=\u001b[39;49mescapechar,\n\u001b[1;32m   3482\u001b[0m     storage_options\u001b[39m=\u001b[39;49mstorage_options,\n\u001b[1;32m   3483\u001b[0m )\n",
      "File \u001b[0;32m~/anaconda3/envs/lhl_env/lib/python3.9/site-packages/pandas/io/formats/format.py:1105\u001b[0m, in \u001b[0;36mDataFrameRenderer.to_csv\u001b[0;34m(self, path_or_buf, encoding, sep, columns, index_label, mode, compression, quoting, quotechar, line_terminator, chunksize, date_format, doublequote, escapechar, errors, storage_options)\u001b[0m\n\u001b[1;32m   1084\u001b[0m     created_buffer \u001b[39m=\u001b[39m \u001b[39mFalse\u001b[39;00m\n\u001b[1;32m   1086\u001b[0m csv_formatter \u001b[39m=\u001b[39m CSVFormatter(\n\u001b[1;32m   1087\u001b[0m     path_or_buf\u001b[39m=\u001b[39mpath_or_buf,\n\u001b[1;32m   1088\u001b[0m     line_terminator\u001b[39m=\u001b[39mline_terminator,\n\u001b[0;32m   (...)\u001b[0m\n\u001b[1;32m   1103\u001b[0m     formatter\u001b[39m=\u001b[39m\u001b[39mself\u001b[39m\u001b[39m.\u001b[39mfmt,\n\u001b[1;32m   1104\u001b[0m )\n\u001b[0;32m-> 1105\u001b[0m csv_formatter\u001b[39m.\u001b[39;49msave()\n\u001b[1;32m   1107\u001b[0m \u001b[39mif\u001b[39;00m created_buffer:\n\u001b[1;32m   1108\u001b[0m     \u001b[39massert\u001b[39;00m \u001b[39misinstance\u001b[39m(path_or_buf, StringIO)\n",
      "File \u001b[0;32m~/anaconda3/envs/lhl_env/lib/python3.9/site-packages/pandas/io/formats/csvs.py:237\u001b[0m, in \u001b[0;36mCSVFormatter.save\u001b[0;34m(self)\u001b[0m\n\u001b[1;32m    233\u001b[0m \u001b[39m\"\"\"\u001b[39;00m\n\u001b[1;32m    234\u001b[0m \u001b[39mCreate the writer & save.\u001b[39;00m\n\u001b[1;32m    235\u001b[0m \u001b[39m\"\"\"\u001b[39;00m\n\u001b[1;32m    236\u001b[0m \u001b[39m# apply compression and byte/text conversion\u001b[39;00m\n\u001b[0;32m--> 237\u001b[0m \u001b[39mwith\u001b[39;00m get_handle(\n\u001b[1;32m    238\u001b[0m     \u001b[39mself\u001b[39;49m\u001b[39m.\u001b[39;49mfilepath_or_buffer,\n\u001b[1;32m    239\u001b[0m     \u001b[39mself\u001b[39;49m\u001b[39m.\u001b[39;49mmode,\n\u001b[1;32m    240\u001b[0m     encoding\u001b[39m=\u001b[39;49m\u001b[39mself\u001b[39;49m\u001b[39m.\u001b[39;49mencoding,\n\u001b[1;32m    241\u001b[0m     errors\u001b[39m=\u001b[39;49m\u001b[39mself\u001b[39;49m\u001b[39m.\u001b[39;49merrors,\n\u001b[1;32m    242\u001b[0m     compression\u001b[39m=\u001b[39;49m\u001b[39mself\u001b[39;49m\u001b[39m.\u001b[39;49mcompression,\n\u001b[1;32m    243\u001b[0m     storage_options\u001b[39m=\u001b[39;49m\u001b[39mself\u001b[39;49m\u001b[39m.\u001b[39;49mstorage_options,\n\u001b[1;32m    244\u001b[0m ) \u001b[39mas\u001b[39;00m handles:\n\u001b[1;32m    245\u001b[0m \n\u001b[1;32m    246\u001b[0m     \u001b[39m# Note: self.encoding is irrelevant here\u001b[39;00m\n\u001b[1;32m    247\u001b[0m     \u001b[39mself\u001b[39m\u001b[39m.\u001b[39mwriter \u001b[39m=\u001b[39m csvlib\u001b[39m.\u001b[39mwriter(\n\u001b[1;32m    248\u001b[0m         handles\u001b[39m.\u001b[39mhandle,  \u001b[39m# type: ignore[arg-type]\u001b[39;00m\n\u001b[1;32m    249\u001b[0m         lineterminator\u001b[39m=\u001b[39m\u001b[39mself\u001b[39m\u001b[39m.\u001b[39mline_terminator,\n\u001b[0;32m   (...)\u001b[0m\n\u001b[1;32m    254\u001b[0m         quotechar\u001b[39m=\u001b[39m\u001b[39mself\u001b[39m\u001b[39m.\u001b[39mquotechar,\n\u001b[1;32m    255\u001b[0m     )\n\u001b[1;32m    257\u001b[0m     \u001b[39mself\u001b[39m\u001b[39m.\u001b[39m_save()\n",
      "File \u001b[0;32m~/anaconda3/envs/lhl_env/lib/python3.9/site-packages/pandas/io/common.py:702\u001b[0m, in \u001b[0;36mget_handle\u001b[0;34m(path_or_buf, mode, encoding, compression, memory_map, is_text, errors, storage_options)\u001b[0m\n\u001b[1;32m    697\u001b[0m \u001b[39melif\u001b[39;00m \u001b[39misinstance\u001b[39m(handle, \u001b[39mstr\u001b[39m):\n\u001b[1;32m    698\u001b[0m     \u001b[39m# Check whether the filename is to be opened in binary mode.\u001b[39;00m\n\u001b[1;32m    699\u001b[0m     \u001b[39m# Binary mode does not support 'encoding' and 'newline'.\u001b[39;00m\n\u001b[1;32m    700\u001b[0m     \u001b[39mif\u001b[39;00m ioargs\u001b[39m.\u001b[39mencoding \u001b[39mand\u001b[39;00m \u001b[39m\"\u001b[39m\u001b[39mb\u001b[39m\u001b[39m\"\u001b[39m \u001b[39mnot\u001b[39;00m \u001b[39min\u001b[39;00m ioargs\u001b[39m.\u001b[39mmode:\n\u001b[1;32m    701\u001b[0m         \u001b[39m# Encoding\u001b[39;00m\n\u001b[0;32m--> 702\u001b[0m         handle \u001b[39m=\u001b[39m \u001b[39mopen\u001b[39;49m(\n\u001b[1;32m    703\u001b[0m             handle,\n\u001b[1;32m    704\u001b[0m             ioargs\u001b[39m.\u001b[39;49mmode,\n\u001b[1;32m    705\u001b[0m             encoding\u001b[39m=\u001b[39;49mioargs\u001b[39m.\u001b[39;49mencoding,\n\u001b[1;32m    706\u001b[0m             errors\u001b[39m=\u001b[39;49merrors,\n\u001b[1;32m    707\u001b[0m             newline\u001b[39m=\u001b[39;49m\u001b[39m\"\u001b[39;49m\u001b[39m\"\u001b[39;49m,\n\u001b[1;32m    708\u001b[0m         )\n\u001b[1;32m    709\u001b[0m     \u001b[39melse\u001b[39;00m:\n\u001b[1;32m    710\u001b[0m         \u001b[39m# Binary mode\u001b[39;00m\n\u001b[1;32m    711\u001b[0m         handle \u001b[39m=\u001b[39m \u001b[39mopen\u001b[39m(handle, ioargs\u001b[39m.\u001b[39mmode)\n",
      "\u001b[0;31mFileNotFoundError\u001b[0m: [Errno 2] No such file or directory: 'data/submission.csv'"
     ]
    }
   ],
   "source": [
    "# Save results to submission file\n",
    "\n",
    "final_df.to_csv(\"submission.csv\")"
   ]
  }
 ],
 "metadata": {
  "kernelspec": {
   "display_name": "Python 3.9.12 ('lhl_env')",
   "language": "python",
   "name": "python3"
  },
  "language_info": {
   "codemirror_mode": {
    "name": "ipython",
    "version": 3
   },
   "file_extension": ".py",
   "mimetype": "text/x-python",
   "name": "python",
   "nbconvert_exporter": "python",
   "pygments_lexer": "ipython3",
   "version": "3.9.12"
  },
  "vscode": {
   "interpreter": {
    "hash": "6701a37b50cf3fe420c1c168326b5df267cda9c0faa66bc5c6c8150dd9165b51"
   }
  }
 },
 "nbformat": 4,
 "nbformat_minor": 4
}
