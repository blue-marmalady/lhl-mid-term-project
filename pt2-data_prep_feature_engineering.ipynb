{
 "cells": [
  {
   "cell_type": "markdown",
   "metadata": {},
   "source": [
    "## Part I: Data preparation and feature engineering"
   ]
  },
  {
   "cell_type": "markdown",
   "metadata": {},
   "source": [
    "#### Data preparation "
   ]
  },
  {
   "cell_type": "code",
   "execution_count": 24,
   "metadata": {},
   "outputs": [],
   "source": [
    "# Import libraries\n",
    "\n",
    "import pandas as pd\n",
    "import numpy as np\n",
    "\n",
    "from sklearn.preprocessing import MinMaxScaler"
   ]
  },
  {
   "cell_type": "markdown",
   "metadata": {},
   "source": [
    "#### Part 1: Training Data\n",
    "\n",
    "(this data was extracted earlier from a database; the training data is a small sample of that data.)"
   ]
  },
  {
   "cell_type": "code",
   "execution_count": 25,
   "metadata": {},
   "outputs": [],
   "source": [
    "flight_delay = pd.read_csv(\"flight_information_dates.csv\")"
   ]
  },
  {
   "cell_type": "code",
   "execution_count": 26,
   "metadata": {},
   "outputs": [],
   "source": [
    "# Flights should take longer than 0 minutes, and get rid of extreme early outliers\n",
    "\n",
    "flight_delay = flight_delay[flight_delay['air_time']>0]\n",
    "\n",
    "#Don't consider diverted or cancelled flights\n",
    "flight_delay.drop(flight_delay[(flight_delay['cancelled']==1) | (flight_delay['diverted']==1)].index, inplace=True)"
   ]
  },
  {
   "cell_type": "code",
   "execution_count": 27,
   "metadata": {},
   "outputs": [],
   "source": [
    "\n",
    "# Extract desired features into new df\n",
    "model_df = flight_delay[['fl_date', 'mkt_unique_carrier', 'crs_dep_time', 'crs_arr_time', 'origin', 'dest', 'arr_delay', 'distance']]\n",
    "\n",
    "#Only consider flights that are at least 60 minutes early (other ones might be have had departures misclassified )\n",
    "model_df = model_df[model_df['arr_delay']>-60]\n",
    "\n",
    "# Get rid of negatives; early flights are weird (remember, \"where\" replaces conditions that are false)\n",
    "model_df['arr_delay'] = model_df['arr_delay'].where(model_df['arr_delay'] > 0, 0)\n",
    "\n",
    "model_df = model_df.fillna(0)\n",
    "\n",
    "# If using departure/arrival times, extract only the hours\n",
    "model_df['dep_hr'] = (model_df['crs_dep_time'] // 100).astype('str')\n",
    "model_df['arr_hr'] = (model_df['crs_arr_time'] // 100).astype('str')\n",
    "model_df = model_df.drop(columns=['crs_dep_time', 'crs_arr_time'])\n",
    "\n",
    "# Aggregate based on time of day (morning, afternoon, evening)\n",
    "model_df['dep_time_of_day'] = model_df['dep_hr'] # just create the column to start\n",
    "model_df['arr_time_of_day'] = model_df['arr_hr'] # just create the column to start\n",
    "model_df['dep_hr'] = pd.to_numeric(model_df['dep_hr']) # Needs to be an integer for our filtering below\n",
    "model_df['arr_hr'] = pd.to_numeric(model_df['arr_hr']) # Needs to be an integer for our filtering below\n",
    "\n",
    "model_df.loc[(model_df['dep_hr'] >=5) & (model_df['dep_hr'] <12), 'dep_time_of_day'] = 'morn'\n",
    "model_df.loc[(model_df['dep_hr'] >=12) & (model_df['dep_hr'] <17), 'dep_time_of_day'] = 'aft'\n",
    "model_df.loc[(model_df['dep_hr'] >=17) | (model_df['dep_hr'] <5), 'dep_time_of_day'] = 'eve'\n",
    "\n",
    "model_df.loc[(model_df['arr_hr'] >=5) & (model_df['arr_hr'] <12), 'arr_time_of_day'] = 'morn'\n",
    "model_df.loc[(model_df['arr_hr'] >=12) & (model_df['arr_hr'] <17), 'arr_time_of_day'] = 'aft'\n",
    "model_df.loc[(model_df['arr_hr'] >=17) |  (model_df['arr_hr'] <5), 'arr_time_of_day'] = 'eve'\n",
    "\n",
    "\n",
    "# Extract month and day of week from the flight dates \n",
    "model_df['month'] = pd.DatetimeIndex(model_df['fl_date']).month\n",
    "model_df['weekday'] = pd.DatetimeIndex(model_df['fl_date']).weekday\n",
    "model_df = model_df.drop(columns=['fl_date'])\n",
    "\n",
    "# Aggregate into season, based on months\n",
    "model_df['season'] = model_df['month']\n",
    "model_df['month'] = pd.to_numeric(model_df['month'] ) # Needs to be an integer for our filtering below\n",
    "\n",
    "model_df.loc[(model_df['month'] >= 3) & (model_df['month'] < 6), 'season' ] = 'spr'\n",
    "model_df.loc[(model_df['month'] >= 6) & (model_df['month'] < 9), 'season'] = 'sum'\n",
    "model_df.loc[(model_df['month'] >= 9) & (model_df['month'] < 12), 'season'] = 'aut'\n",
    "model_df.loc[(model_df['month'] == 12) | (model_df['month'] < 3), 'season'] = 'win'\n",
    "\n",
    "# and make ready for categorical\n",
    "model_df['month'] = model_df['month'].replace({1: \"Jan\", 2: \"Feb\", 3: \"Mar\", 4: \"Apr\",\n",
    "                            5: \"May\", 6: \"Jun\", 7: \"Jul\", 8: \"Aug\", 9: \"Sep\", 10: \"Oct\", 11: \"Nov\", 12: \"Dec\"})\n",
    "model_df['weekday'] = model_df['weekday'].replace({0: \"Mon\", 1: \"Tue\", 2: \"Wed\", 3: \"Thu\",\n",
    "                            4: \"Fri\", 5: \"Sat\", 6: \"Sun\"})\n",
    "\n",
    "\n",
    "# While we're here, let's categorize airlines into \"large\" and \"small\" (the airlines chosen based on exploratory analysis)\n",
    "model_df['carrier_size'] = model_df['mkt_unique_carrier'] # just create the column to start\n",
    "model_df.loc[(model_df['mkt_unique_carrier'] == 'UA') | (model_df['mkt_unique_carrier'] == 'AA') | \\\n",
    "            (model_df['mkt_unique_carrier'] == 'WN') | (model_df['mkt_unique_carrier'] == 'DL') | \\\n",
    "            (model_df['mkt_unique_carrier'] == 'AS'), 'carrier_size'] = 'large' \n",
    "\n",
    "model_df.loc[(model_df['mkt_unique_carrier'] == 'VX') | (model_df['mkt_unique_carrier'] == 'B6') | \\\n",
    "            (model_df['mkt_unique_carrier'] == 'HA') | (model_df['mkt_unique_carrier'] == 'F9') | \\\n",
    "            (model_df['mkt_unique_carrier'] == 'G4')| (model_df['mkt_unique_carrier'] == 'NK'), 'carrier_size'] = 'small'\n",
    "\n",
    "\n",
    "# Distance logging and normalizing\n",
    "model_df['norm_dist'] = np.log10(model_df[['distance']])\n",
    "norm_dist = np.array(model_df['norm_dist']).reshape(-1,1)\n",
    "scaler = MinMaxScaler()\n",
    "scaler.fit(norm_dist)\n",
    "model_df['norm_dist'] = scaler.transform(norm_dist)\n",
    "model_df.drop('distance', axis=1, inplace=True)\n",
    "\n",
    "# Change hours of arrival/departure to strings so we can classify them by time of day (morning/afternoon/evening)\n",
    "model_df['dep_hr'] = model_df['dep_hr'].astype('str')\n",
    "model_df['arr_hr'] = model_df['arr_hr'].astype('str')\n",
    "\n",
    "#If needed, we can also create a 'medium' category: F9, B6, NK, AS\n",
    " \n",
    "# # You know what, while we're here, let's categorize flight distance too \n",
    "# model_df['distance_cat'] = model_df['distance']\n",
    "# model_df['distance'] = pd.to_numeric(model_df['distance'] ) # Needs to be an integer for our filtering below\n",
    "\n",
    "# model_df.loc[(model_df['distance'] < 400) , 'distance_cat' ] = 'short'\n",
    "# model_df.loc[(model_df['distance'] >= 400) & (model_df['distance'] < 800), 'distance_cat'] = 'med'\n",
    "# model_df.loc[(model_df['distance'] >= 800) , 'distance_cat' ] = 'long'\n",
    "# model_df.drop('distance', axis=1, inplace=True)\n",
    "\n"
   ]
  },
  {
   "cell_type": "code",
   "execution_count": 28,
   "metadata": {},
   "outputs": [],
   "source": [
    "model_df.to_csv(\"flight_train_ready.csv\")"
   ]
  },
  {
   "cell_type": "markdown",
   "metadata": {},
   "source": [
    "\n",
    "#### Part 2: Test Data\n",
    "\n",
    "(data taken from the provided file to test our model)"
   ]
  },
  {
   "cell_type": "code",
   "execution_count": 35,
   "metadata": {},
   "outputs": [],
   "source": [
    "\n",
    "# Above, we initially named file \"flight_delay\", then did some processing, then renamed model_df; here, we\n",
    "# do not need to complete that processing, so we initially name the file \"model_df\" \n",
    "model_df = pd.read_csv(\"flight_test.csv\")"
   ]
  },
  {
   "cell_type": "code",
   "execution_count": 36,
   "metadata": {},
   "outputs": [
    {
     "data": {
      "text/plain": [
       "Index(['Unnamed: 0', 'fl_date', 'mkt_unique_carrier', 'origin', 'dest',\n",
       "       'crs_dep_time', 'crs_arr_time', 'crs_elapsed_time', 'flights',\n",
       "       'distance'],\n",
       "      dtype='object')"
      ]
     },
     "execution_count": 36,
     "metadata": {},
     "output_type": "execute_result"
    }
   ],
   "source": [
    "model_df.columns"
   ]
  },
  {
   "cell_type": "code",
   "execution_count": 37,
   "metadata": {},
   "outputs": [],
   "source": [
    "\n",
    "model_df = model_df.fillna(0)\n",
    "\n",
    "# If using departure/arrival times, extract only the hours\n",
    "model_df['dep_hr'] = (model_df['crs_dep_time'] // 100).astype('str')\n",
    "model_df['arr_hr'] = (model_df['crs_arr_time'] // 100).astype('str')\n",
    "model_df = model_df.drop(columns=['crs_dep_time', 'crs_arr_time'])\n",
    "\n",
    "# Aggregate based on time of day (morning, afternoon, evening)\n",
    "model_df['dep_time_of_day'] = model_df['dep_hr'] # just create the column to start\n",
    "model_df['arr_time_of_day'] = model_df['arr_hr'] # just create the column to start\n",
    "model_df['dep_hr'] = pd.to_numeric(model_df['dep_hr']) # Needs to be an integer for our filtering below\n",
    "model_df['arr_hr'] = pd.to_numeric(model_df['arr_hr']) # Needs to be an integer for our filtering below\n",
    "\n",
    "model_df.loc[(model_df['dep_hr'] >=5) & (model_df['dep_hr'] <12), 'dep_time_of_day'] = 'morn'\n",
    "model_df.loc[(model_df['dep_hr'] >=12) & (model_df['dep_hr'] <17), 'dep_time_of_day'] = 'aft'\n",
    "model_df.loc[(model_df['dep_hr'] >=17) | (model_df['dep_hr'] <5), 'dep_time_of_day'] = 'eve'\n",
    "\n",
    "model_df.loc[(model_df['arr_hr'] >=5) & (model_df['arr_hr'] <12), 'arr_time_of_day'] = 'morn'\n",
    "model_df.loc[(model_df['arr_hr'] >=12) & (model_df['arr_hr'] <17), 'arr_time_of_day'] = 'aft'\n",
    "model_df.loc[(model_df['arr_hr'] >=17) |  (model_df['arr_hr'] <5), 'arr_time_of_day'] = 'eve'\n",
    "\n",
    "\n",
    "# Extract month and day of week from the flight dates \n",
    "model_df['month'] = pd.DatetimeIndex(model_df['fl_date']).month\n",
    "model_df['weekday'] = pd.DatetimeIndex(model_df['fl_date']).weekday\n",
    "model_df = model_df.drop(columns=['fl_date'])\n",
    "\n",
    "# Aggregate into season, based on months\n",
    "model_df['season'] = model_df['month']\n",
    "model_df['month'] = pd.to_numeric(model_df['month'] ) # Needs to be an integer for our filtering below\n",
    "\n",
    "model_df.loc[(model_df['month'] >= 3) & (model_df['month'] < 6), 'season' ] = 'spr'\n",
    "model_df.loc[(model_df['month'] >= 6) & (model_df['month'] < 9), 'season'] = 'sum'\n",
    "model_df.loc[(model_df['month'] >= 9) & (model_df['month'] < 12), 'season'] = 'aut'\n",
    "model_df.loc[(model_df['month'] == 12) | (model_df['month'] < 3), 'season'] = 'win'\n",
    "\n",
    "# and make ready for categorical\n",
    "model_df['month'] = model_df['month'].replace({1: \"Jan\", 2: \"Feb\", 3: \"Mar\", 4: \"Apr\",\n",
    "                            5: \"May\", 6: \"Jun\", 7: \"Jul\", 8: \"Aug\", 9: \"Sep\", 10: \"Oct\", 11: \"Nov\", 12: \"Dec\"})\n",
    "model_df['weekday'] = model_df['weekday'].replace({0: \"Mon\", 1: \"Tue\", 2: \"Wed\", 3: \"Thu\",\n",
    "                            4: \"Fri\", 5: \"Sat\", 6: \"Sun\"})\n",
    "\n",
    "\n",
    "# While we're here, let's categorize airlines into \"large\" and \"small\" (the airlines chosen based on exploratory analysis)\n",
    "model_df['carrier_size'] = model_df['mkt_unique_carrier'] # just create the column to start\n",
    "model_df.loc[(model_df['mkt_unique_carrier'] == 'UA') | (model_df['mkt_unique_carrier'] == 'AA') | \\\n",
    "            (model_df['mkt_unique_carrier'] == 'WN') | (model_df['mkt_unique_carrier'] == 'DL') | \\\n",
    "            (model_df['mkt_unique_carrier'] == 'AS'), 'carrier_size'] = 'large' \n",
    "\n",
    "model_df.loc[(model_df['mkt_unique_carrier'] == 'VX') | (model_df['mkt_unique_carrier'] == 'B6') | \\\n",
    "            (model_df['mkt_unique_carrier'] == 'HA') | (model_df['mkt_unique_carrier'] == 'F9') | \\\n",
    "            (model_df['mkt_unique_carrier'] == 'G4')| (model_df['mkt_unique_carrier'] == 'NK'), 'carrier_size'] = 'small'\n",
    "\n",
    "\n",
    "# Distance logging and normalizing\n",
    "model_df['norm_dist'] = np.log10(model_df[['distance']])\n",
    "norm_dist = np.array(model_df['norm_dist']).reshape(-1,1)\n",
    "scaler = MinMaxScaler()\n",
    "scaler.fit(norm_dist)\n",
    "model_df['norm_dist'] = scaler.transform(norm_dist)\n",
    "model_df.drop('distance', axis=1, inplace=True)\n",
    "\n",
    "# Change hours of arrival/departure to strings so we can classify them by time of day (morning/afternoon/evening)\n",
    "model_df['dep_hr'] = model_df['dep_hr'].astype('str')\n",
    "model_df['arr_hr'] = model_df['arr_hr'].astype('str')\n",
    "\n",
    "#If needed, we can also create a 'medium' category: F9, B6, NK, AS\n",
    " \n",
    "# # You know what, while we're here, let's categorize flight distance too \n",
    "# model_df['distance_cat'] = model_df['distance']\n",
    "# model_df['distance'] = pd.to_numeric(model_df['distance'] ) # Needs to be an integer for our filtering below\n",
    "\n",
    "# model_df.loc[(model_df['distance'] < 400) , 'distance_cat' ] = 'short'\n",
    "# model_df.loc[(model_df['distance'] >= 400) & (model_df['distance'] < 800), 'distance_cat'] = 'med'\n",
    "# model_df.loc[(model_df['distance'] >= 800) , 'distance_cat' ] = 'long'\n",
    "# model_df.drop('distance', axis=1, inplace=True)\n"
   ]
  },
  {
   "cell_type": "code",
   "execution_count": 39,
   "metadata": {},
   "outputs": [],
   "source": [
    "\n",
    "model_df.to_csv(\"flight_test_ready.csv\")"
   ]
  }
 ],
 "metadata": {
  "kernelspec": {
   "display_name": "Python 3.9.12 ('lhl_env')",
   "language": "python",
   "name": "python3"
  },
  "language_info": {
   "codemirror_mode": {
    "name": "ipython",
    "version": 3
   },
   "file_extension": ".py",
   "mimetype": "text/x-python",
   "name": "python",
   "nbconvert_exporter": "python",
   "pygments_lexer": "ipython3",
   "version": "3.9.12"
  },
  "orig_nbformat": 4,
  "vscode": {
   "interpreter": {
    "hash": "6701a37b50cf3fe420c1c168326b5df267cda9c0faa66bc5c6c8150dd9165b51"
   }
  }
 },
 "nbformat": 4,
 "nbformat_minor": 2
}
