{
 "cells": [
  {
   "cell_type": "markdown",
   "metadata": {},
   "source": [
    "## Exploratory Data Analysis\n",
    "\n",
    "Use this notebook to get familiar with the datasets we have. There is 10 questions we need to answer during the EDA.\n",
    "\n",
    "\n",
    "We shouldn't limit our EDA to these 10 questions. Let's be creative :)."
   ]
  },
  {
   "cell_type": "code",
   "execution_count": 112,
   "metadata": {},
   "outputs": [],
   "source": [
    "#Import libraries\n",
    "\n",
    "import pandas as pd\n",
    "import numpy as np\n",
    "\n",
    "from scipy import stats\n",
    "from scipy.stats import norm\n",
    "from scipy.stats import shapiro\n",
    "from scipy.stats import kstest\n",
    "\n",
    "import seaborn as sns\n",
    "import matplotlib.pyplot as plt\n",
    "\n",
    "from datetime import datetime\n",
    "\n",
    "#For API (QUES 3)\n",
    "import requests as re\n",
    "import time\n",
    "import os\n",
    "import json\n",
    "from urllib.request import urlopen\n",
    "\n",
    "# get ANOVA table as R like output\n",
    "import statsmodels.api as sm\n",
    "from statsmodels.formula.api import ols"
   ]
  },
  {
   "cell_type": "code",
   "execution_count": 3,
   "metadata": {},
   "outputs": [],
   "source": [
    "pd.set_option('display.max_columns', None) # Display all the columns\n",
    "sns.set(color_codes=True)"
   ]
  },
  {
   "cell_type": "code",
   "execution_count": 4,
   "metadata": {},
   "outputs": [],
   "source": [
    "df = pd.read_csv(\"data/cleanflight.csv\")\n",
    "dfraw = pd.read_csv(\"data/flightdata.csv\")\n"
   ]
  },
  {
   "cell_type": "code",
   "execution_count": 5,
   "metadata": {},
   "outputs": [],
   "source": [
    "df = df.drop(['Unnamed: 0'], axis=1)\n"
   ]
  },
  {
   "cell_type": "code",
   "execution_count": 112,
   "metadata": {},
   "outputs": [
    {
     "data": {
      "text/html": [
       "<div>\n",
       "<style scoped>\n",
       "    .dataframe tbody tr th:only-of-type {\n",
       "        vertical-align: middle;\n",
       "    }\n",
       "\n",
       "    .dataframe tbody tr th {\n",
       "        vertical-align: top;\n",
       "    }\n",
       "\n",
       "    .dataframe thead th {\n",
       "        text-align: right;\n",
       "    }\n",
       "</style>\n",
       "<table border=\"1\" class=\"dataframe\">\n",
       "  <thead>\n",
       "    <tr style=\"text-align: right;\">\n",
       "      <th></th>\n",
       "      <th>Unnamed: 0</th>\n",
       "      <th>origin_airport_id</th>\n",
       "      <th>dest_airport_id</th>\n",
       "      <th>crs_dep_time</th>\n",
       "      <th>dep_delay</th>\n",
       "      <th>taxi_out</th>\n",
       "      <th>taxi_in</th>\n",
       "      <th>crs_arr_time</th>\n",
       "      <th>arr_delay</th>\n",
       "      <th>crs_elapsed_time</th>\n",
       "      <th>distance</th>\n",
       "      <th>first_dep_time</th>\n",
       "      <th>month</th>\n",
       "      <th>hr_dep</th>\n",
       "      <th>hr_arr</th>\n",
       "      <th>cat_delay</th>\n",
       "      <th>distance_catg_Short</th>\n",
       "      <th>distance_catg_Medium</th>\n",
       "      <th>distance_catg_Long</th>\n",
       "      <th>time_of_day_Wee Hours</th>\n",
       "      <th>time_of_day_Morning</th>\n",
       "      <th>time_of_day_Afternoon</th>\n",
       "      <th>time_of_day_Night</th>\n",
       "    </tr>\n",
       "  </thead>\n",
       "  <tbody>\n",
       "    <tr>\n",
       "      <th>4</th>\n",
       "      <td>4</td>\n",
       "      <td>12217</td>\n",
       "      <td>11298</td>\n",
       "      <td>1536</td>\n",
       "      <td>108.0</td>\n",
       "      <td>15.0</td>\n",
       "      <td>19.0</td>\n",
       "      <td>1749</td>\n",
       "      <td>115.0</td>\n",
       "      <td>133.0</td>\n",
       "      <td>603.0</td>\n",
       "      <td>0.0</td>\n",
       "      <td>12</td>\n",
       "      <td>15</td>\n",
       "      <td>17</td>\n",
       "      <td>1</td>\n",
       "      <td>0</td>\n",
       "      <td>1</td>\n",
       "      <td>0</td>\n",
       "      <td>0</td>\n",
       "      <td>0</td>\n",
       "      <td>1</td>\n",
       "      <td>0</td>\n",
       "    </tr>\n",
       "    <tr>\n",
       "      <th>13</th>\n",
       "      <td>14</td>\n",
       "      <td>12478</td>\n",
       "      <td>10785</td>\n",
       "      <td>2246</td>\n",
       "      <td>95.0</td>\n",
       "      <td>16.0</td>\n",
       "      <td>4.0</td>\n",
       "      <td>3</td>\n",
       "      <td>86.0</td>\n",
       "      <td>77.0</td>\n",
       "      <td>266.0</td>\n",
       "      <td>0.0</td>\n",
       "      <td>5</td>\n",
       "      <td>22</td>\n",
       "      <td>0</td>\n",
       "      <td>1</td>\n",
       "      <td>1</td>\n",
       "      <td>0</td>\n",
       "      <td>0</td>\n",
       "      <td>0</td>\n",
       "      <td>0</td>\n",
       "      <td>0</td>\n",
       "      <td>1</td>\n",
       "    </tr>\n",
       "    <tr>\n",
       "      <th>17</th>\n",
       "      <td>18</td>\n",
       "      <td>12266</td>\n",
       "      <td>15624</td>\n",
       "      <td>1805</td>\n",
       "      <td>149.0</td>\n",
       "      <td>17.0</td>\n",
       "      <td>10.0</td>\n",
       "      <td>1952</td>\n",
       "      <td>148.0</td>\n",
       "      <td>107.0</td>\n",
       "      <td>528.0</td>\n",
       "      <td>0.0</td>\n",
       "      <td>9</td>\n",
       "      <td>18</td>\n",
       "      <td>19</td>\n",
       "      <td>1</td>\n",
       "      <td>1</td>\n",
       "      <td>0</td>\n",
       "      <td>0</td>\n",
       "      <td>0</td>\n",
       "      <td>0</td>\n",
       "      <td>0</td>\n",
       "      <td>1</td>\n",
       "    </tr>\n",
       "    <tr>\n",
       "      <th>25</th>\n",
       "      <td>26</td>\n",
       "      <td>10721</td>\n",
       "      <td>14524</td>\n",
       "      <td>1510</td>\n",
       "      <td>51.0</td>\n",
       "      <td>62.0</td>\n",
       "      <td>7.0</td>\n",
       "      <td>1707</td>\n",
       "      <td>86.0</td>\n",
       "      <td>117.0</td>\n",
       "      <td>474.0</td>\n",
       "      <td>0.0</td>\n",
       "      <td>12</td>\n",
       "      <td>15</td>\n",
       "      <td>17</td>\n",
       "      <td>1</td>\n",
       "      <td>1</td>\n",
       "      <td>0</td>\n",
       "      <td>0</td>\n",
       "      <td>0</td>\n",
       "      <td>0</td>\n",
       "      <td>1</td>\n",
       "      <td>0</td>\n",
       "    </tr>\n",
       "    <tr>\n",
       "      <th>35</th>\n",
       "      <td>36</td>\n",
       "      <td>12448</td>\n",
       "      <td>10397</td>\n",
       "      <td>739</td>\n",
       "      <td>249.0</td>\n",
       "      <td>14.0</td>\n",
       "      <td>8.0</td>\n",
       "      <td>1000</td>\n",
       "      <td>243.0</td>\n",
       "      <td>81.0</td>\n",
       "      <td>341.0</td>\n",
       "      <td>0.0</td>\n",
       "      <td>5</td>\n",
       "      <td>7</td>\n",
       "      <td>10</td>\n",
       "      <td>1</td>\n",
       "      <td>1</td>\n",
       "      <td>0</td>\n",
       "      <td>0</td>\n",
       "      <td>0</td>\n",
       "      <td>1</td>\n",
       "      <td>0</td>\n",
       "      <td>0</td>\n",
       "    </tr>\n",
       "  </tbody>\n",
       "</table>\n",
       "</div>"
      ],
      "text/plain": [
       "    Unnamed: 0  origin_airport_id  dest_airport_id  crs_dep_time  dep_delay  \\\n",
       "4            4              12217            11298          1536      108.0   \n",
       "13          14              12478            10785          2246       95.0   \n",
       "17          18              12266            15624          1805      149.0   \n",
       "25          26              10721            14524          1510       51.0   \n",
       "35          36              12448            10397           739      249.0   \n",
       "\n",
       "    taxi_out  taxi_in  crs_arr_time  arr_delay  crs_elapsed_time  distance  \\\n",
       "4       15.0     19.0          1749      115.0             133.0     603.0   \n",
       "13      16.0      4.0             3       86.0              77.0     266.0   \n",
       "17      17.0     10.0          1952      148.0             107.0     528.0   \n",
       "25      62.0      7.0          1707       86.0             117.0     474.0   \n",
       "35      14.0      8.0          1000      243.0              81.0     341.0   \n",
       "\n",
       "    first_dep_time  month  hr_dep  hr_arr  cat_delay  distance_catg_Short  \\\n",
       "4              0.0     12      15      17          1                    0   \n",
       "13             0.0      5      22       0          1                    1   \n",
       "17             0.0      9      18      19          1                    1   \n",
       "25             0.0     12      15      17          1                    1   \n",
       "35             0.0      5       7      10          1                    1   \n",
       "\n",
       "    distance_catg_Medium  distance_catg_Long  time_of_day_Wee Hours  \\\n",
       "4                      1                   0                      0   \n",
       "13                     0                   0                      0   \n",
       "17                     0                   0                      0   \n",
       "25                     0                   0                      0   \n",
       "35                     0                   0                      0   \n",
       "\n",
       "    time_of_day_Morning  time_of_day_Afternoon  time_of_day_Night  \n",
       "4                     0                      1                  0  \n",
       "13                    0                      0                  1  \n",
       "17                    0                      0                  1  \n",
       "25                    0                      1                  0  \n",
       "35                    1                      0                  0  "
      ]
     },
     "execution_count": 112,
     "metadata": {},
     "output_type": "execute_result"
    }
   ],
   "source": [
    "df.head()"
   ]
  },
  {
   "cell_type": "markdown",
   "metadata": {},
   "source": [
    "#### **Task 1**: Test the hypothesis that the delay is from Normal distribution. and that **mean** of the delay is 0. Be careful about the outliers."
   ]
  },
  {
   "cell_type": "code",
   "execution_count": 63,
   "metadata": {},
   "outputs": [
    {
     "name": "stderr",
     "output_type": "stream",
     "text": [
      "c:\\Users\\k_mah\\anaconda3\\lib\\site-packages\\scipy\\stats\\morestats.py:1760: UserWarning: p-value may not be accurate for N > 5000.\n",
      "  warnings.warn(\"p-value may not be accurate for N > 5000.\")\n"
     ]
    }
   ],
   "source": [
    "#Our N is larger than 5000, so let's use the Shapiro Wilk test, but also double check with a KS test, as this is better with a larger N\n",
    "y = df.dep_delay\n",
    "x = y[y.between(y.quantile(.05), y.quantile(.95))] # remove outliers outliers\n",
    "\n",
    "shap_wilks = shapiro(x)"
   ]
  },
  {
   "cell_type": "code",
   "execution_count": 64,
   "metadata": {},
   "outputs": [
    {
     "data": {
      "text/plain": [
       "ShapiroResult(statistic=0.6907292008399963, pvalue=0.0)"
      ]
     },
     "execution_count": 64,
     "metadata": {},
     "output_type": "execute_result"
    }
   ],
   "source": [
    "shap_wilks"
   ]
  },
  {
   "cell_type": "code",
   "execution_count": 65,
   "metadata": {},
   "outputs": [
    {
     "name": "stdout",
     "output_type": "stream",
     "text": [
      "0.5366977553757645 0.0\n"
     ]
    }
   ],
   "source": [
    "ks_statistic, p_value = kstest(x, 'norm')\n",
    "print(ks_statistic, p_value)"
   ]
  },
  {
   "cell_type": "code",
   "execution_count": 66,
   "metadata": {},
   "outputs": [
    {
     "name": "stderr",
     "output_type": "stream",
     "text": [
      "c:\\Users\\k_mah\\anaconda3\\lib\\site-packages\\seaborn\\distributions.py:2619: FutureWarning: `distplot` is a deprecated function and will be removed in a future version. Please adapt your code to use either `displot` (a figure-level function with similar flexibility) or `histplot` (an axes-level function for histograms).\n",
      "  warnings.warn(msg, FutureWarning)\n",
      "c:\\Users\\k_mah\\anaconda3\\lib\\site-packages\\seaborn\\distributions.py:2103: FutureWarning: The `axis` variable is no longer used and will be removed. Instead, assign variables directly to `x` or `y`.\n",
      "  warnings.warn(msg, FutureWarning)\n"
     ]
    },
    {
     "data": {
      "text/plain": [
       "Text(0.5, 1.0, 'Departure delays distribution')"
      ]
     },
     "execution_count": 66,
     "metadata": {},
     "output_type": "execute_result"
    },
    {
     "data": {
      "image/png": "[encoded data removed]",
      "text/plain": [
       "<Figure size 1440x720 with 1 Axes>"
      ]
     },
     "metadata": {},
     "output_type": "display_data"
    }
   ],
   "source": [
    "#Histogram\n",
    "plt.figure(figsize=(20,10))\n",
    "sns.distplot(x, bins=20, rug=True).set_title('Departure delays distribution')"
   ]
  },
  {
   "cell_type": "markdown",
   "metadata": {},
   "source": [
    "The shapiro wilks test statistic (W) is is not close to 1, and nor is it for the KStest - and visually, we can see that the distribution is not normal. But if we look carefully, this includes flights that left early. Let's try this again excluding those."
   ]
  },
  {
   "cell_type": "code",
   "execution_count": 67,
   "metadata": {},
   "outputs": [
    {
     "name": "stderr",
     "output_type": "stream",
     "text": [
      "c:\\Users\\k_mah\\anaconda3\\lib\\site-packages\\scipy\\stats\\morestats.py:1760: UserWarning: p-value may not be accurate for N > 5000.\n",
      "  warnings.warn(\"p-value may not be accurate for N > 5000.\")\n"
     ]
    }
   ],
   "source": [
    "\n",
    "b = df.dep_delay\n",
    "a = b[b.between(0, b.quantile(.95))] # remove outliers outliers\n",
    "\n",
    "shap_wilks = shapiro(a)"
   ]
  },
  {
   "cell_type": "code",
   "execution_count": 68,
   "metadata": {},
   "outputs": [
    {
     "data": {
      "text/plain": [
       "ShapiroResult(statistic=0.8260799050331116, pvalue=0.0)"
      ]
     },
     "execution_count": 68,
     "metadata": {},
     "output_type": "execute_result"
    }
   ],
   "source": [
    "shap_wilks"
   ]
  },
  {
   "cell_type": "code",
   "execution_count": 69,
   "metadata": {},
   "outputs": [
    {
     "name": "stdout",
     "output_type": "stream",
     "text": [
      "0.5366977553757645 0.0\n"
     ]
    }
   ],
   "source": [
    "ks_statistic, p_value = kstest(x, 'norm')\n",
    "print(ks_statistic, p_value)"
   ]
  },
  {
   "cell_type": "code",
   "execution_count": 70,
   "metadata": {},
   "outputs": [
    {
     "name": "stderr",
     "output_type": "stream",
     "text": [
      "c:\\Users\\k_mah\\anaconda3\\lib\\site-packages\\seaborn\\distributions.py:2619: FutureWarning: `distplot` is a deprecated function and will be removed in a future version. Please adapt your code to use either `displot` (a figure-level function with similar flexibility) or `histplot` (an axes-level function for histograms).\n",
      "  warnings.warn(msg, FutureWarning)\n",
      "c:\\Users\\k_mah\\anaconda3\\lib\\site-packages\\seaborn\\distributions.py:2103: FutureWarning: The `axis` variable is no longer used and will be removed. Instead, assign variables directly to `x` or `y`.\n",
      "  warnings.warn(msg, FutureWarning)\n"
     ]
    },
    {
     "data": {
      "text/plain": [
       "Text(0.5, 1.0, 'Departure delays distribution')"
      ]
     },
     "execution_count": 70,
     "metadata": {},
     "output_type": "execute_result"
    },
    {
     "data": {
      "image/png": "[encoded data removed]",
      "text/plain": [
       "<Figure size 1440x720 with 1 Axes>"
      ]
     },
     "metadata": {},
     "output_type": "display_data"
    }
   ],
   "source": [
    "#Histogram\n",
    "plt.figure(figsize=(20,10))\n",
    "sns.distplot(a, bins=20, rug=True).set_title('Departure delays distribution')"
   ]
  },
  {
   "cell_type": "markdown",
   "metadata": {},
   "source": [
    "If we look at just delays and not also negative values (ie flights that left early) we can see that visually the distribution looks to be exponential, and our test results very much suggest that it isn't normal."
   ]
  },
  {
   "cell_type": "code",
   "execution_count": 71,
   "metadata": {},
   "outputs": [
    {
     "name": "stderr",
     "output_type": "stream",
     "text": [
      "c:\\Users\\k_mah\\anaconda3\\lib\\site-packages\\scipy\\stats\\morestats.py:1760: UserWarning: p-value may not be accurate for N > 5000.\n",
      "  warnings.warn(\"p-value may not be accurate for N > 5000.\")\n"
     ]
    }
   ],
   "source": [
    "#Let's also quickly look at arrival delays\n",
    "b = df.arr_delay\n",
    "a = b[b.between(b.quantile(.05), b.quantile(.95))] # remove outliers outliers\n",
    "\n",
    "shap_wilks = shapiro(a)"
   ]
  },
  {
   "cell_type": "code",
   "execution_count": 72,
   "metadata": {},
   "outputs": [
    {
     "data": {
      "text/plain": [
       "ShapiroResult(statistic=0.8590622544288635, pvalue=0.0)"
      ]
     },
     "execution_count": 72,
     "metadata": {},
     "output_type": "execute_result"
    }
   ],
   "source": [
    "shap_wilks"
   ]
  },
  {
   "cell_type": "code",
   "execution_count": 73,
   "metadata": {},
   "outputs": [
    {
     "name": "stderr",
     "output_type": "stream",
     "text": [
      "c:\\Users\\k_mah\\anaconda3\\lib\\site-packages\\seaborn\\distributions.py:2619: FutureWarning: `distplot` is a deprecated function and will be removed in a future version. Please adapt your code to use either `displot` (a figure-level function with similar flexibility) or `histplot` (an axes-level function for histograms).\n",
      "  warnings.warn(msg, FutureWarning)\n",
      "c:\\Users\\k_mah\\anaconda3\\lib\\site-packages\\seaborn\\distributions.py:2103: FutureWarning: The `axis` variable is no longer used and will be removed. Instead, assign variables directly to `x` or `y`.\n",
      "  warnings.warn(msg, FutureWarning)\n"
     ]
    },
    {
     "data": {
      "text/plain": [
       "Text(0.5, 1.0, 'Arrival delays distribution')"
      ]
     },
     "execution_count": 73,
     "metadata": {},
     "output_type": "execute_result"
    },
    {
     "data": {
      "image/png": "[encoded data removed]",
      "text/plain": [
       "<Figure size 1440x720 with 1 Axes>"
      ]
     },
     "metadata": {},
     "output_type": "display_data"
    }
   ],
   "source": [
    "#Histogram\n",
    "plt.figure(figsize=(20,10))\n",
    "sns.distplot(a, bins=20, rug=True).set_title('Arrival delays distribution')\n",
    "\n",
    "#not quite normal though W is closer to 1."
   ]
  },
  {
   "cell_type": "code",
   "execution_count": 74,
   "metadata": {},
   "outputs": [
    {
     "name": "stdout",
     "output_type": "stream",
     "text": [
      "The mean flight delay is 5.7 minutes.\n",
      "If we only consider delayed flights, the mean flight delay is 40.6 minutes.\n"
     ]
    },
    {
     "data": {
      "text/plain": [
       "<AxesSubplot:xlabel='arr_delay'>"
      ]
     },
     "execution_count": 74,
     "metadata": {},
     "output_type": "execute_result"
    },
    {
     "data": {
      "image/png": "[encoded data removed]",
      "text/plain": [
       "<Figure size 432x288 with 1 Axes>"
      ]
     },
     "metadata": {},
     "output_type": "display_data"
    }
   ],
   "source": [
    "#Let's look at the means\n",
    "delay = df['arr_delay'].mean()\n",
    "actual_delay = df[df['arr_delay']>0]['arr_delay'].mean()\n",
    "\n",
    "print(f'The mean flight delay is {delay:.1f} minutes.')\n",
    "print(f'If we only consider delayed flights, the mean flight delay is {actual_delay:.1f} minutes.')\n",
    "        \n",
    "sns.boxenplot(data = df, x = \"arr_delay\")"
   ]
  },
  {
   "cell_type": "markdown",
   "metadata": {},
   "source": [
    "#### **Task 2**: Is average/median monthly delay different during the year? If yes, which are months with the biggest delays and what could be the reason?"
   ]
  },
  {
   "cell_type": "code",
   "execution_count": 75,
   "metadata": {},
   "outputs": [],
   "source": [
    "months = [\"Jan\", \"Feb\", \"Mar\", \"Apr\", \"May\", \"Jun\", \"Jul\", \"Aug\", \"Sep\", \"Oct\", \"Nov\", \"Dec\"]\n",
    "\n",
    "median_arr = df[[\"month\", \"arr_delay\"]].groupby(df[\"month\"]).median()\n",
    "median_arr.index = months\n",
    "mean_arr = df[[\"month\", \"arr_delay\"]].groupby(df[\"month\"]).mean()\n",
    "mean_arr.index = months\n",
    "\n",
    "median_dep = df[[\"month\", \"dep_delay\"]].groupby(df[\"month\"]).median()\n",
    "median_dep.index = months\n",
    "mean_dep = df[[\"month\", \"dep_delay\"]].groupby(df[\"month\"]).mean()\n",
    "mean_dep.index = months"
   ]
  },
  {
   "cell_type": "code",
   "execution_count": 76,
   "metadata": {},
   "outputs": [
    {
     "data": {
      "image/png": "[encoded data removed]",
      "text/plain": [
       "<Figure size 1080x648 with 1 Axes>"
      ]
     },
     "metadata": {},
     "output_type": "display_data"
    }
   ],
   "source": [
    "figure = plt.figure(figsize=(15,9))\n",
    "\n",
    "plt.plot(median_arr.index, median_arr[\"arr_delay\"], label=\"Median Arrival Delay\")\n",
    "plt.plot(mean_arr.index, mean_arr[\"arr_delay\"], label=\"Mean Arrival Delay\")\n",
    "plt.plot(median_dep.index, median_dep[\"dep_delay\"], label=\"Median Departure Delay\")\n",
    "plt.plot(mean_dep.index, mean_dep[\"dep_delay\"], label=\"Mean Departure Delay\")\n",
    "\n",
    "plt.ylabel(\"Delay in minutes\")\n",
    "plt.yticks(range(-10, 12, 2))\n",
    "plt.grid()\n",
    "plt.legend()\n",
    "plt.title(\"Average Flight Delay by Month\")\n",
    "\n",
    "plt.show()"
   ]
  },
  {
   "cell_type": "markdown",
   "metadata": {},
   "source": [
    "#### **Task 3**: Does the weather affect the delay? \n",
    "Use the API to pull the weather information for flights. There is no need to get weather for ALL flights. We can choose the right representative sample. Let's focus on four weather types:\n",
    "- sunny\n",
    "- cloudy\n",
    "- rainy\n",
    "- snow.\n",
    "Test the hypothesis that these 4 delays are from the same distribution. If they are not, which ones are significantly different?"
   ]
  },
  {
   "cell_type": "code",
   "execution_count": 60,
   "metadata": {},
   "outputs": [],
   "source": [
    "#Pick flights with weather delays of more than 15 minutes\n",
    "dfweather = dfraw[dfraw.weather_delay >= 15]"
   ]
  },
  {
   "cell_type": "code",
   "execution_count": 75,
   "metadata": {},
   "outputs": [],
   "source": [
    "#Pick a sample - visual crossing allows 1000 pulls \n",
    "dfweather = dfweather.sample(n=200, random_state=42)"
   ]
  },
  {
   "cell_type": "code",
   "execution_count": 76,
   "metadata": {},
   "outputs": [
    {
     "data": {
      "text/html": [
       "<div>\n",
       "<style scoped>\n",
       "    .dataframe tbody tr th:only-of-type {\n",
       "        vertical-align: middle;\n",
       "    }\n",
       "\n",
       "    .dataframe tbody tr th {\n",
       "        vertical-align: top;\n",
       "    }\n",
       "\n",
       "    .dataframe thead th {\n",
       "        text-align: right;\n",
       "    }\n",
       "</style>\n",
       "<table border=\"1\" class=\"dataframe\">\n",
       "  <thead>\n",
       "    <tr style=\"text-align: right;\">\n",
       "      <th></th>\n",
       "      <th>Unnamed: 0</th>\n",
       "      <th>fl_date</th>\n",
       "      <th>mkt_unique_carrier</th>\n",
       "      <th>mkt_carrier_fl_num</th>\n",
       "      <th>tail_num</th>\n",
       "      <th>origin_airport_id</th>\n",
       "      <th>origin_city_name</th>\n",
       "      <th>dest_airport_id</th>\n",
       "      <th>dest_city_name</th>\n",
       "      <th>crs_dep_time</th>\n",
       "      <th>dep_delay</th>\n",
       "      <th>taxi_out</th>\n",
       "      <th>taxi_in</th>\n",
       "      <th>crs_arr_time</th>\n",
       "      <th>arr_delay</th>\n",
       "      <th>cancelled</th>\n",
       "      <th>cancellation_code</th>\n",
       "      <th>diverted</th>\n",
       "      <th>crs_elapsed_time</th>\n",
       "      <th>actual_elapsed_time</th>\n",
       "      <th>air_time</th>\n",
       "      <th>distance</th>\n",
       "      <th>carrier_delay</th>\n",
       "      <th>weather_delay</th>\n",
       "      <th>nas_delay</th>\n",
       "      <th>security_delay</th>\n",
       "      <th>late_aircraft_delay</th>\n",
       "      <th>first_dep_time</th>\n",
       "      <th>total_add_gtime</th>\n",
       "      <th>longest_add_gtime</th>\n",
       "      <th>month</th>\n",
       "      <th>year</th>\n",
       "      <th>day</th>\n",
       "    </tr>\n",
       "  </thead>\n",
       "  <tbody>\n",
       "    <tr>\n",
       "      <th>5918</th>\n",
       "      <td>5918</td>\n",
       "      <td>2019-03-24</td>\n",
       "      <td>UA</td>\n",
       "      <td>5726</td>\n",
       "      <td>N788SK</td>\n",
       "      <td>11292</td>\n",
       "      <td>Denver, CO</td>\n",
       "      <td>10372</td>\n",
       "      <td>Aspen, CO</td>\n",
       "      <td>13:26</td>\n",
       "      <td>97.0</td>\n",
       "      <td>15.0</td>\n",
       "      <td>3.0</td>\n",
       "      <td>1422</td>\n",
       "      <td>88.0</td>\n",
       "      <td>0.0</td>\n",
       "      <td>NaN</td>\n",
       "      <td>0.0</td>\n",
       "      <td>56.0</td>\n",
       "      <td>47.0</td>\n",
       "      <td>29.0</td>\n",
       "      <td>125.0</td>\n",
       "      <td>0.0</td>\n",
       "      <td>88.0</td>\n",
       "      <td>0.0</td>\n",
       "      <td>0.0</td>\n",
       "      <td>0.0</td>\n",
       "      <td>NaN</td>\n",
       "      <td>NaN</td>\n",
       "      <td>NaN</td>\n",
       "      <td>3</td>\n",
       "      <td>2019</td>\n",
       "      <td>24</td>\n",
       "    </tr>\n",
       "    <tr>\n",
       "      <th>49095</th>\n",
       "      <td>49095</td>\n",
       "      <td>2019-02-12</td>\n",
       "      <td>NK</td>\n",
       "      <td>917</td>\n",
       "      <td>N639NK</td>\n",
       "      <td>11298</td>\n",
       "      <td>Dallas/Fort Worth, TX</td>\n",
       "      <td>11292</td>\n",
       "      <td>Denver, CO</td>\n",
       "      <td>17:58</td>\n",
       "      <td>114.0</td>\n",
       "      <td>16.0</td>\n",
       "      <td>7.0</td>\n",
       "      <td>1907</td>\n",
       "      <td>113.0</td>\n",
       "      <td>0.0</td>\n",
       "      <td>NaN</td>\n",
       "      <td>0.0</td>\n",
       "      <td>129.0</td>\n",
       "      <td>128.0</td>\n",
       "      <td>105.0</td>\n",
       "      <td>641.0</td>\n",
       "      <td>9.0</td>\n",
       "      <td>24.0</td>\n",
       "      <td>2.0</td>\n",
       "      <td>0.0</td>\n",
       "      <td>78.0</td>\n",
       "      <td>NaN</td>\n",
       "      <td>NaN</td>\n",
       "      <td>NaN</td>\n",
       "      <td>2</td>\n",
       "      <td>2019</td>\n",
       "      <td>12</td>\n",
       "    </tr>\n",
       "    <tr>\n",
       "      <th>51560</th>\n",
       "      <td>51560</td>\n",
       "      <td>2018-07-21</td>\n",
       "      <td>DL</td>\n",
       "      <td>2124</td>\n",
       "      <td>N1402A</td>\n",
       "      <td>10397</td>\n",
       "      <td>Atlanta, GA</td>\n",
       "      <td>12892</td>\n",
       "      <td>Los Angeles, CA</td>\n",
       "      <td>08:30</td>\n",
       "      <td>50.0</td>\n",
       "      <td>23.0</td>\n",
       "      <td>8.0</td>\n",
       "      <td>1009</td>\n",
       "      <td>46.0</td>\n",
       "      <td>0.0</td>\n",
       "      <td>NaN</td>\n",
       "      <td>0.0</td>\n",
       "      <td>279.0</td>\n",
       "      <td>275.0</td>\n",
       "      <td>244.0</td>\n",
       "      <td>1947.0</td>\n",
       "      <td>0.0</td>\n",
       "      <td>46.0</td>\n",
       "      <td>0.0</td>\n",
       "      <td>0.0</td>\n",
       "      <td>0.0</td>\n",
       "      <td>NaN</td>\n",
       "      <td>NaN</td>\n",
       "      <td>NaN</td>\n",
       "      <td>7</td>\n",
       "      <td>2018</td>\n",
       "      <td>21</td>\n",
       "    </tr>\n",
       "    <tr>\n",
       "      <th>25431</th>\n",
       "      <td>25431</td>\n",
       "      <td>2018-09-18</td>\n",
       "      <td>AA</td>\n",
       "      <td>2059</td>\n",
       "      <td>N723UW</td>\n",
       "      <td>10721</td>\n",
       "      <td>Boston, MA</td>\n",
       "      <td>11057</td>\n",
       "      <td>Charlotte, NC</td>\n",
       "      <td>05:00</td>\n",
       "      <td>502.0</td>\n",
       "      <td>27.0</td>\n",
       "      <td>8.0</td>\n",
       "      <td>714</td>\n",
       "      <td>505.0</td>\n",
       "      <td>0.0</td>\n",
       "      <td>NaN</td>\n",
       "      <td>0.0</td>\n",
       "      <td>134.0</td>\n",
       "      <td>137.0</td>\n",
       "      <td>102.0</td>\n",
       "      <td>728.0</td>\n",
       "      <td>300.0</td>\n",
       "      <td>202.0</td>\n",
       "      <td>3.0</td>\n",
       "      <td>0.0</td>\n",
       "      <td>0.0</td>\n",
       "      <td>NaN</td>\n",
       "      <td>NaN</td>\n",
       "      <td>NaN</td>\n",
       "      <td>9</td>\n",
       "      <td>2018</td>\n",
       "      <td>18</td>\n",
       "    </tr>\n",
       "    <tr>\n",
       "      <th>13412</th>\n",
       "      <td>13412</td>\n",
       "      <td>2019-03-31</td>\n",
       "      <td>DL</td>\n",
       "      <td>2225</td>\n",
       "      <td>N582NW</td>\n",
       "      <td>10397</td>\n",
       "      <td>Atlanta, GA</td>\n",
       "      <td>12889</td>\n",
       "      <td>Las Vegas, NV</td>\n",
       "      <td>08:22</td>\n",
       "      <td>69.0</td>\n",
       "      <td>17.0</td>\n",
       "      <td>7.0</td>\n",
       "      <td>954</td>\n",
       "      <td>53.0</td>\n",
       "      <td>0.0</td>\n",
       "      <td>NaN</td>\n",
       "      <td>0.0</td>\n",
       "      <td>272.0</td>\n",
       "      <td>256.0</td>\n",
       "      <td>232.0</td>\n",
       "      <td>1747.0</td>\n",
       "      <td>0.0</td>\n",
       "      <td>53.0</td>\n",
       "      <td>0.0</td>\n",
       "      <td>0.0</td>\n",
       "      <td>0.0</td>\n",
       "      <td>NaN</td>\n",
       "      <td>NaN</td>\n",
       "      <td>NaN</td>\n",
       "      <td>3</td>\n",
       "      <td>2019</td>\n",
       "      <td>31</td>\n",
       "    </tr>\n",
       "    <tr>\n",
       "      <th>...</th>\n",
       "      <td>...</td>\n",
       "      <td>...</td>\n",
       "      <td>...</td>\n",
       "      <td>...</td>\n",
       "      <td>...</td>\n",
       "      <td>...</td>\n",
       "      <td>...</td>\n",
       "      <td>...</td>\n",
       "      <td>...</td>\n",
       "      <td>...</td>\n",
       "      <td>...</td>\n",
       "      <td>...</td>\n",
       "      <td>...</td>\n",
       "      <td>...</td>\n",
       "      <td>...</td>\n",
       "      <td>...</td>\n",
       "      <td>...</td>\n",
       "      <td>...</td>\n",
       "      <td>...</td>\n",
       "      <td>...</td>\n",
       "      <td>...</td>\n",
       "      <td>...</td>\n",
       "      <td>...</td>\n",
       "      <td>...</td>\n",
       "      <td>...</td>\n",
       "      <td>...</td>\n",
       "      <td>...</td>\n",
       "      <td>...</td>\n",
       "      <td>...</td>\n",
       "      <td>...</td>\n",
       "      <td>...</td>\n",
       "      <td>...</td>\n",
       "      <td>...</td>\n",
       "    </tr>\n",
       "    <tr>\n",
       "      <th>44144</th>\n",
       "      <td>44144</td>\n",
       "      <td>2019-06-28</td>\n",
       "      <td>UA</td>\n",
       "      <td>264</td>\n",
       "      <td>N37273</td>\n",
       "      <td>13485</td>\n",
       "      <td>Madison, WI</td>\n",
       "      <td>11292</td>\n",
       "      <td>Denver, CO</td>\n",
       "      <td>07:00</td>\n",
       "      <td>37.0</td>\n",
       "      <td>16.0</td>\n",
       "      <td>5.0</td>\n",
       "      <td>826</td>\n",
       "      <td>27.0</td>\n",
       "      <td>0.0</td>\n",
       "      <td>NaN</td>\n",
       "      <td>0.0</td>\n",
       "      <td>146.0</td>\n",
       "      <td>136.0</td>\n",
       "      <td>115.0</td>\n",
       "      <td>826.0</td>\n",
       "      <td>0.0</td>\n",
       "      <td>27.0</td>\n",
       "      <td>0.0</td>\n",
       "      <td>0.0</td>\n",
       "      <td>0.0</td>\n",
       "      <td>NaN</td>\n",
       "      <td>NaN</td>\n",
       "      <td>NaN</td>\n",
       "      <td>6</td>\n",
       "      <td>2019</td>\n",
       "      <td>28</td>\n",
       "    </tr>\n",
       "    <tr>\n",
       "      <th>94621</th>\n",
       "      <td>94621</td>\n",
       "      <td>2019-02-20</td>\n",
       "      <td>AA</td>\n",
       "      <td>3347</td>\n",
       "      <td>N532EA</td>\n",
       "      <td>10140</td>\n",
       "      <td>Albuquerque, NM</td>\n",
       "      <td>13930</td>\n",
       "      <td>Chicago, IL</td>\n",
       "      <td>07:07</td>\n",
       "      <td>116.0</td>\n",
       "      <td>17.0</td>\n",
       "      <td>8.0</td>\n",
       "      <td>1054</td>\n",
       "      <td>101.0</td>\n",
       "      <td>0.0</td>\n",
       "      <td>NaN</td>\n",
       "      <td>0.0</td>\n",
       "      <td>167.0</td>\n",
       "      <td>152.0</td>\n",
       "      <td>127.0</td>\n",
       "      <td>1118.0</td>\n",
       "      <td>0.0</td>\n",
       "      <td>101.0</td>\n",
       "      <td>0.0</td>\n",
       "      <td>0.0</td>\n",
       "      <td>0.0</td>\n",
       "      <td>NaN</td>\n",
       "      <td>NaN</td>\n",
       "      <td>NaN</td>\n",
       "      <td>2</td>\n",
       "      <td>2019</td>\n",
       "      <td>20</td>\n",
       "    </tr>\n",
       "    <tr>\n",
       "      <th>92177</th>\n",
       "      <td>92177</td>\n",
       "      <td>2019-01-21</td>\n",
       "      <td>DL</td>\n",
       "      <td>1196</td>\n",
       "      <td>N3768</td>\n",
       "      <td>14869</td>\n",
       "      <td>Salt Lake City, UT</td>\n",
       "      <td>14057</td>\n",
       "      <td>Portland, OR</td>\n",
       "      <td>11:15</td>\n",
       "      <td>49.0</td>\n",
       "      <td>36.0</td>\n",
       "      <td>5.0</td>\n",
       "      <td>1227</td>\n",
       "      <td>52.0</td>\n",
       "      <td>0.0</td>\n",
       "      <td>NaN</td>\n",
       "      <td>0.0</td>\n",
       "      <td>132.0</td>\n",
       "      <td>135.0</td>\n",
       "      <td>94.0</td>\n",
       "      <td>630.0</td>\n",
       "      <td>0.0</td>\n",
       "      <td>49.0</td>\n",
       "      <td>3.0</td>\n",
       "      <td>0.0</td>\n",
       "      <td>0.0</td>\n",
       "      <td>NaN</td>\n",
       "      <td>NaN</td>\n",
       "      <td>NaN</td>\n",
       "      <td>1</td>\n",
       "      <td>2019</td>\n",
       "      <td>21</td>\n",
       "    </tr>\n",
       "    <tr>\n",
       "      <th>43654</th>\n",
       "      <td>43654</td>\n",
       "      <td>2019-10-10</td>\n",
       "      <td>DL</td>\n",
       "      <td>3659</td>\n",
       "      <td>N440SW</td>\n",
       "      <td>14457</td>\n",
       "      <td>Rapid City, SD</td>\n",
       "      <td>13487</td>\n",
       "      <td>Minneapolis, MN</td>\n",
       "      <td>16:24</td>\n",
       "      <td>61.0</td>\n",
       "      <td>58.0</td>\n",
       "      <td>20.0</td>\n",
       "      <td>1905</td>\n",
       "      <td>114.0</td>\n",
       "      <td>0.0</td>\n",
       "      <td>NaN</td>\n",
       "      <td>0.0</td>\n",
       "      <td>101.0</td>\n",
       "      <td>154.0</td>\n",
       "      <td>76.0</td>\n",
       "      <td>489.0</td>\n",
       "      <td>0.0</td>\n",
       "      <td>53.0</td>\n",
       "      <td>53.0</td>\n",
       "      <td>0.0</td>\n",
       "      <td>8.0</td>\n",
       "      <td>NaN</td>\n",
       "      <td>NaN</td>\n",
       "      <td>NaN</td>\n",
       "      <td>10</td>\n",
       "      <td>2019</td>\n",
       "      <td>10</td>\n",
       "    </tr>\n",
       "    <tr>\n",
       "      <th>35428</th>\n",
       "      <td>35428</td>\n",
       "      <td>2019-08-06</td>\n",
       "      <td>WN</td>\n",
       "      <td>813</td>\n",
       "      <td>N8640D</td>\n",
       "      <td>14307</td>\n",
       "      <td>Providence, RI</td>\n",
       "      <td>10821</td>\n",
       "      <td>Baltimore, MD</td>\n",
       "      <td>19:45</td>\n",
       "      <td>74.0</td>\n",
       "      <td>12.0</td>\n",
       "      <td>4.0</td>\n",
       "      <td>2110</td>\n",
       "      <td>66.0</td>\n",
       "      <td>0.0</td>\n",
       "      <td>NaN</td>\n",
       "      <td>0.0</td>\n",
       "      <td>85.0</td>\n",
       "      <td>77.0</td>\n",
       "      <td>61.0</td>\n",
       "      <td>327.0</td>\n",
       "      <td>0.0</td>\n",
       "      <td>66.0</td>\n",
       "      <td>0.0</td>\n",
       "      <td>0.0</td>\n",
       "      <td>0.0</td>\n",
       "      <td>NaN</td>\n",
       "      <td>NaN</td>\n",
       "      <td>NaN</td>\n",
       "      <td>8</td>\n",
       "      <td>2019</td>\n",
       "      <td>6</td>\n",
       "    </tr>\n",
       "  </tbody>\n",
       "</table>\n",
       "<p>200 rows × 33 columns</p>\n",
       "</div>"
      ],
      "text/plain": [
       "       Unnamed: 0     fl_date mkt_unique_carrier  mkt_carrier_fl_num tail_num  \\\n",
       "5918         5918  2019-03-24                 UA                5726   N788SK   \n",
       "49095       49095  2019-02-12                 NK                 917   N639NK   \n",
       "51560       51560  2018-07-21                 DL                2124   N1402A   \n",
       "25431       25431  2018-09-18                 AA                2059   N723UW   \n",
       "13412       13412  2019-03-31                 DL                2225   N582NW   \n",
       "...           ...         ...                ...                 ...      ...   \n",
       "44144       44144  2019-06-28                 UA                 264   N37273   \n",
       "94621       94621  2019-02-20                 AA                3347   N532EA   \n",
       "92177       92177  2019-01-21                 DL                1196    N3768   \n",
       "43654       43654  2019-10-10                 DL                3659   N440SW   \n",
       "35428       35428  2019-08-06                 WN                 813   N8640D   \n",
       "\n",
       "       origin_airport_id       origin_city_name  dest_airport_id  \\\n",
       "5918               11292             Denver, CO            10372   \n",
       "49095              11298  Dallas/Fort Worth, TX            11292   \n",
       "51560              10397            Atlanta, GA            12892   \n",
       "25431              10721             Boston, MA            11057   \n",
       "13412              10397            Atlanta, GA            12889   \n",
       "...                  ...                    ...              ...   \n",
       "44144              13485            Madison, WI            11292   \n",
       "94621              10140        Albuquerque, NM            13930   \n",
       "92177              14869     Salt Lake City, UT            14057   \n",
       "43654              14457         Rapid City, SD            13487   \n",
       "35428              14307         Providence, RI            10821   \n",
       "\n",
       "        dest_city_name crs_dep_time  dep_delay  taxi_out  taxi_in  \\\n",
       "5918         Aspen, CO        13:26       97.0      15.0      3.0   \n",
       "49095       Denver, CO        17:58      114.0      16.0      7.0   \n",
       "51560  Los Angeles, CA        08:30       50.0      23.0      8.0   \n",
       "25431    Charlotte, NC        05:00      502.0      27.0      8.0   \n",
       "13412    Las Vegas, NV        08:22       69.0      17.0      7.0   \n",
       "...                ...          ...        ...       ...      ...   \n",
       "44144       Denver, CO        07:00       37.0      16.0      5.0   \n",
       "94621      Chicago, IL        07:07      116.0      17.0      8.0   \n",
       "92177     Portland, OR        11:15       49.0      36.0      5.0   \n",
       "43654  Minneapolis, MN        16:24       61.0      58.0     20.0   \n",
       "35428    Baltimore, MD        19:45       74.0      12.0      4.0   \n",
       "\n",
       "       crs_arr_time  arr_delay  cancelled cancellation_code  diverted  \\\n",
       "5918           1422       88.0        0.0               NaN       0.0   \n",
       "49095          1907      113.0        0.0               NaN       0.0   \n",
       "51560          1009       46.0        0.0               NaN       0.0   \n",
       "25431           714      505.0        0.0               NaN       0.0   \n",
       "13412           954       53.0        0.0               NaN       0.0   \n",
       "...             ...        ...        ...               ...       ...   \n",
       "44144           826       27.0        0.0               NaN       0.0   \n",
       "94621          1054      101.0        0.0               NaN       0.0   \n",
       "92177          1227       52.0        0.0               NaN       0.0   \n",
       "43654          1905      114.0        0.0               NaN       0.0   \n",
       "35428          2110       66.0        0.0               NaN       0.0   \n",
       "\n",
       "       crs_elapsed_time  actual_elapsed_time  air_time  distance  \\\n",
       "5918               56.0                 47.0      29.0     125.0   \n",
       "49095             129.0                128.0     105.0     641.0   \n",
       "51560             279.0                275.0     244.0    1947.0   \n",
       "25431             134.0                137.0     102.0     728.0   \n",
       "13412             272.0                256.0     232.0    1747.0   \n",
       "...                 ...                  ...       ...       ...   \n",
       "44144             146.0                136.0     115.0     826.0   \n",
       "94621             167.0                152.0     127.0    1118.0   \n",
       "92177             132.0                135.0      94.0     630.0   \n",
       "43654             101.0                154.0      76.0     489.0   \n",
       "35428              85.0                 77.0      61.0     327.0   \n",
       "\n",
       "       carrier_delay  weather_delay  nas_delay  security_delay  \\\n",
       "5918             0.0           88.0        0.0             0.0   \n",
       "49095            9.0           24.0        2.0             0.0   \n",
       "51560            0.0           46.0        0.0             0.0   \n",
       "25431          300.0          202.0        3.0             0.0   \n",
       "13412            0.0           53.0        0.0             0.0   \n",
       "...              ...            ...        ...             ...   \n",
       "44144            0.0           27.0        0.0             0.0   \n",
       "94621            0.0          101.0        0.0             0.0   \n",
       "92177            0.0           49.0        3.0             0.0   \n",
       "43654            0.0           53.0       53.0             0.0   \n",
       "35428            0.0           66.0        0.0             0.0   \n",
       "\n",
       "       late_aircraft_delay  first_dep_time  total_add_gtime  \\\n",
       "5918                   0.0             NaN              NaN   \n",
       "49095                 78.0             NaN              NaN   \n",
       "51560                  0.0             NaN              NaN   \n",
       "25431                  0.0             NaN              NaN   \n",
       "13412                  0.0             NaN              NaN   \n",
       "...                    ...             ...              ...   \n",
       "44144                  0.0             NaN              NaN   \n",
       "94621                  0.0             NaN              NaN   \n",
       "92177                  0.0             NaN              NaN   \n",
       "43654                  8.0             NaN              NaN   \n",
       "35428                  0.0             NaN              NaN   \n",
       "\n",
       "       longest_add_gtime  month  year  day  \n",
       "5918                 NaN      3  2019   24  \n",
       "49095                NaN      2  2019   12  \n",
       "51560                NaN      7  2018   21  \n",
       "25431                NaN      9  2018   18  \n",
       "13412                NaN      3  2019   31  \n",
       "...                  ...    ...   ...  ...  \n",
       "44144                NaN      6  2019   28  \n",
       "94621                NaN      2  2019   20  \n",
       "92177                NaN      1  2019   21  \n",
       "43654                NaN     10  2019   10  \n",
       "35428                NaN      8  2019    6  \n",
       "\n",
       "[200 rows x 33 columns]"
      ]
     },
     "execution_count": 76,
     "metadata": {},
     "output_type": "execute_result"
    }
   ],
   "source": [
    "#Time to 24hr clock and formatted\n",
    "dfweather['crs_dep_time'] = dfweather['crs_dep_time'].apply(lambda x: '{0:0>4}'.format(x))\n",
    "dfweather\n",
    "# dfweather['crs_dep_time'] = pd.to_datetime(dfweather['crs_dep_time'], format='%H%M').dt.strftime('%H:%M')\n",
    "# dfweather['fl_date'] = pd.to_datetime(dfweather['fl_date'], format='%Y-%m-%d').dt.strftime('%Y-%m-%d')\n"
   ]
  },
  {
   "cell_type": "code",
   "execution_count": 90,
   "metadata": {},
   "outputs": [],
   "source": [
    "def get_weather(city_name, fl_date):\n",
    "    depDT = fl_date\n",
    "    key = os.environ['VISUAL_CROSSING_API'] \n",
    "    url = f'https://weather.visualcrossing.com/VisualCrossingWebServices/rest/services/weatherdata/history?aggregateHours=1&combinationMethod=aggregate&startDateTime={depDT}T00%3A00%3A00&endDateTime={depDT}T00%3A00%3A00&maxStations=-1&maxDistance=-1&contentType=json&unitGroup=metric&locationMode=single&key={key}&dataElements=default&locations={city_name.strip()[:-2]}'\n",
    "    res = re.get(url)\n",
    "   \n",
    "    data = json.loads(res.text) \n",
    "\n",
    "    try:\n",
    "        return data['location']['values'][0]['conditions']\n",
    "    except (KeyError):\n",
    "        return data"
   ]
  },
  {
   "cell_type": "code",
   "execution_count": 92,
   "metadata": {},
   "outputs": [],
   "source": [
    "dfweather['origin_weather'] = dfweather.apply(lambda x: get_weather(x['origin_city_name'], x['fl_date'], x['crs_dep_time']), axis= 1)"
   ]
  },
  {
   "cell_type": "code",
   "execution_count": 94,
   "metadata": {},
   "outputs": [],
   "source": [
    "#saving it so we don't keep pulling from the API\n",
    "dfweather.to_csv('data/weather.csv')"
   ]
  },
  {
   "cell_type": "code",
   "execution_count": 104,
   "metadata": {},
   "outputs": [],
   "source": [
    "dfweather = pd.read_csv(\"data/weather.csv\")"
   ]
  },
  {
   "cell_type": "code",
   "execution_count": 105,
   "metadata": {},
   "outputs": [
    {
     "data": {
      "text/plain": [
       "array(['Clear', 'Partially cloudy', 'Overcast', 'Rain, Overcast',\n",
       "       'Rain, Partially cloudy'], dtype=object)"
      ]
     },
     "execution_count": 105,
     "metadata": {},
     "output_type": "execute_result"
    }
   ],
   "source": [
    "#Seems like our sample didn't contain any snowy days. Whoops.\n",
    "dfweather['origin_weather'].unique()"
   ]
  },
  {
   "cell_type": "code",
   "execution_count": 106,
   "metadata": {},
   "outputs": [],
   "source": [
    "dfweather = dfweather[['origin_weather', 'arr_delay']]"
   ]
  },
  {
   "cell_type": "code",
   "execution_count": 107,
   "metadata": {},
   "outputs": [
    {
     "data": {
      "text/html": [
       "<div>\n",
       "<style scoped>\n",
       "    .dataframe tbody tr th:only-of-type {\n",
       "        vertical-align: middle;\n",
       "    }\n",
       "\n",
       "    .dataframe tbody tr th {\n",
       "        vertical-align: top;\n",
       "    }\n",
       "\n",
       "    .dataframe thead th {\n",
       "        text-align: right;\n",
       "    }\n",
       "</style>\n",
       "<table border=\"1\" class=\"dataframe\">\n",
       "  <thead>\n",
       "    <tr style=\"text-align: right;\">\n",
       "      <th></th>\n",
       "      <th>origin_weather</th>\n",
       "      <th>arr_delay</th>\n",
       "    </tr>\n",
       "  </thead>\n",
       "  <tbody>\n",
       "    <tr>\n",
       "      <th>0</th>\n",
       "      <td>Clear</td>\n",
       "      <td>88.0</td>\n",
       "    </tr>\n",
       "    <tr>\n",
       "      <th>1</th>\n",
       "      <td>Partially cloudy</td>\n",
       "      <td>113.0</td>\n",
       "    </tr>\n",
       "    <tr>\n",
       "      <th>2</th>\n",
       "      <td>Clear</td>\n",
       "      <td>46.0</td>\n",
       "    </tr>\n",
       "    <tr>\n",
       "      <th>3</th>\n",
       "      <td>Partially cloudy</td>\n",
       "      <td>505.0</td>\n",
       "    </tr>\n",
       "    <tr>\n",
       "      <th>4</th>\n",
       "      <td>Overcast</td>\n",
       "      <td>53.0</td>\n",
       "    </tr>\n",
       "  </tbody>\n",
       "</table>\n",
       "</div>"
      ],
      "text/plain": [
       "     origin_weather  arr_delay\n",
       "0             Clear       88.0\n",
       "1  Partially cloudy      113.0\n",
       "2             Clear       46.0\n",
       "3  Partially cloudy      505.0\n",
       "4          Overcast       53.0"
      ]
     },
     "execution_count": 107,
     "metadata": {},
     "output_type": "execute_result"
    }
   ],
   "source": [
    "dfweather.head()"
   ]
  },
  {
   "cell_type": "code",
   "execution_count": 111,
   "metadata": {},
   "outputs": [
    {
     "data": {
      "image/png": "[encoded data removed]",
      "text/plain": [
       "<Figure size 432x288 with 1 Axes>"
      ]
     },
     "metadata": {},
     "output_type": "display_data"
    }
   ],
   "source": [
    "ax = sns.boxplot(x='origin_weather', y='arr_delay', data=dfweather, color='#99c2a2')\n",
    "plt.show()"
   ]
  },
  {
   "cell_type": "code",
   "execution_count": 113,
   "metadata": {},
   "outputs": [
    {
     "data": {
      "text/html": [
       "<div>\n",
       "<style scoped>\n",
       "    .dataframe tbody tr th:only-of-type {\n",
       "        vertical-align: middle;\n",
       "    }\n",
       "\n",
       "    .dataframe tbody tr th {\n",
       "        vertical-align: top;\n",
       "    }\n",
       "\n",
       "    .dataframe thead th {\n",
       "        text-align: right;\n",
       "    }\n",
       "</style>\n",
       "<table border=\"1\" class=\"dataframe\">\n",
       "  <thead>\n",
       "    <tr style=\"text-align: right;\">\n",
       "      <th></th>\n",
       "      <th>sum_sq</th>\n",
       "      <th>df</th>\n",
       "      <th>F</th>\n",
       "      <th>PR(&gt;F)</th>\n",
       "    </tr>\n",
       "  </thead>\n",
       "  <tbody>\n",
       "    <tr>\n",
       "      <th>C(origin_weather)</th>\n",
       "      <td>8.114811e+04</td>\n",
       "      <td>4.0</td>\n",
       "      <td>1.123319</td>\n",
       "      <td>0.346721</td>\n",
       "    </tr>\n",
       "    <tr>\n",
       "      <th>Residual</th>\n",
       "      <td>3.521680e+06</td>\n",
       "      <td>195.0</td>\n",
       "      <td>NaN</td>\n",
       "      <td>NaN</td>\n",
       "    </tr>\n",
       "  </tbody>\n",
       "</table>\n",
       "</div>"
      ],
      "text/plain": [
       "                         sum_sq     df         F    PR(>F)\n",
       "C(origin_weather)  8.114811e+04    4.0  1.123319  0.346721\n",
       "Residual           3.521680e+06  195.0       NaN       NaN"
      ]
     },
     "execution_count": 113,
     "metadata": {},
     "output_type": "execute_result"
    }
   ],
   "source": [
    "#Let's do a one-factor anova to see if the groups are different\n",
    "# Ordinary Least Squares (OLS) model\n",
    "model = ols('arr_delay ~ C(origin_weather)', data=dfweather).fit()\n",
    "anova_table = sm.stats.anova_lm(model, typ=2)\n",
    "anova_table\n",
    "#The p-value is around 0.35, and so this isn't really significant, but the sample size is quite small for an anova so it may be that if \n",
    "# we were able to use the full set there would be significance. Also, the sample didn't have any snowy days, so a larger sample would really be necessary here."
   ]
  },
  {
   "cell_type": "markdown",
   "metadata": {},
   "source": [
    "#### **Task 4**: How taxi times changing during the day? Does higher traffic lead to bigger taxi times?"
   ]
  },
  {
   "cell_type": "code",
   "execution_count": 77,
   "metadata": {},
   "outputs": [],
   "source": [
    "df_taxi = df[['crs_dep_time', 'arr_delay', 'taxi_out']]"
   ]
  },
  {
   "cell_type": "code",
   "execution_count": 78,
   "metadata": {},
   "outputs": [
    {
     "name": "stderr",
     "output_type": "stream",
     "text": [
      "C:\\Users\\k_mah\\AppData\\Local\\Temp\\ipykernel_764\\3403871304.py:1: SettingWithCopyWarning: \n",
      "A value is trying to be set on a copy of a slice from a DataFrame.\n",
      "Try using .loc[row_indexer,col_indexer] = value instead\n",
      "\n",
      "See the caveats in the documentation: https://pandas.pydata.org/pandas-docs/stable/user_guide/indexing.html#returning-a-view-versus-a-copy\n",
      "  df_taxi['hr_dep'] = df_taxi['crs_dep_time'] // 100 #Extract the hour of departure\n"
     ]
    }
   ],
   "source": [
    "df_taxi['hr_dep'] = df_taxi['crs_dep_time'] // 100 #Extract the hour of departure\n",
    "df_dep = df_taxi.groupby(\"hr_dep\")['taxi_out'].mean()"
   ]
  },
  {
   "cell_type": "code",
   "execution_count": 79,
   "metadata": {},
   "outputs": [
    {
     "data": {
      "text/plain": [
       "<AxesSubplot:xlabel='crs_dep_time', ylabel='Count'>"
      ]
     },
     "execution_count": 79,
     "metadata": {},
     "output_type": "execute_result"
    },
    {
     "data": {
      "image/png": "[encoded data removed]",
      "text/plain": [
       "<Figure size 432x288 with 1 Axes>"
      ]
     },
     "metadata": {},
     "output_type": "display_data"
    }
   ],
   "source": [
    "sns.histplot(data = df_taxi, x = \"crs_dep_time\",bins = 24, label = \"Departure time\", kde=True)"
   ]
  },
  {
   "cell_type": "code",
   "execution_count": 80,
   "metadata": {},
   "outputs": [
    {
     "data": {
      "text/plain": [
       "<AxesSubplot:xlabel='taxi_out', ylabel='Count'>"
      ]
     },
     "execution_count": 80,
     "metadata": {},
     "output_type": "execute_result"
    },
    {
     "data": {
      "image/png": "[encoded data removed]",
      "text/plain": [
       "<Figure size 432x288 with 1 Axes>"
      ]
     },
     "metadata": {},
     "output_type": "display_data"
    }
   ],
   "source": [
    "sns.histplot(data = df_taxi, x = \"taxi_out\", label = \"Taxi time on outgoing\", kde=True)"
   ]
  },
  {
   "cell_type": "code",
   "execution_count": 81,
   "metadata": {},
   "outputs": [
    {
     "data": {
      "text/plain": [
       "Text(0, 0.5, 'Arrival delay')"
      ]
     },
     "execution_count": 81,
     "metadata": {},
     "output_type": "execute_result"
    },
    {
     "data": {
      "image/png": "[encoded data removed]",
      "text/plain": [
       "<Figure size 432x288 with 1 Axes>"
      ]
     },
     "metadata": {},
     "output_type": "display_data"
    }
   ],
   "source": [
    "plt.scatter(df_taxi['taxi_out'], df_taxi['arr_delay'])\n",
    "plt.xlabel(\"Taxi time on departure\")\n",
    "plt.ylabel(\"Arrival delay\")"
   ]
  },
  {
   "cell_type": "code",
   "execution_count": 82,
   "metadata": {},
   "outputs": [
    {
     "data": {
      "text/plain": [
       "hr_dep\n",
       "3     0.240000\n",
       "19    0.229094\n",
       "18    0.228329\n",
       "20    0.219184\n",
       "21    0.218364\n",
       "17    0.217493\n",
       "2     0.217391\n",
       "16    0.200184\n",
       "15    0.191420\n",
       "22    0.185143\n",
       "14    0.181217\n",
       "13    0.166975\n",
       "23    0.159483\n",
       "4     0.153846\n",
       "12    0.153785\n",
       "11    0.135100\n",
       "10    0.127836\n",
       "1     0.123457\n",
       "0     0.117647\n",
       "9     0.114330\n",
       "8     0.100839\n",
       "7     0.093532\n",
       "6     0.078060\n",
       "5     0.062282\n",
       "Name: percent_delayed, dtype: float64"
      ]
     },
     "execution_count": 82,
     "metadata": {},
     "output_type": "execute_result"
    }
   ],
   "source": [
    "# Does time of day affect delays?\n",
    "flight_delay_time = 20\n",
    "delay = df_taxi[df_taxi['arr_delay']>flight_delay_time].groupby('hr_dep').count().sort_values(by=['arr_delay'], ascending=False)\n",
    "total = df_taxi.groupby('hr_dep').count().sort_values(by=['arr_delay'], ascending=False)\n",
    "\n",
    "mon_df = pd.merge(delay, total, how = \"inner\", on='hr_dep')\n",
    "mon_df = mon_df.rename(columns={'arr_delay_x': \"total_delays\", 'arr_delay_y': \"total_flights\"})\n",
    "mon_df['percent_delayed'] = mon_df['total_delays']/mon_df['total_flights']\n",
    "mon_df.sort_values(by=['percent_delayed'], ascending=False)['percent_delayed']"
   ]
  },
  {
   "cell_type": "code",
   "execution_count": null,
   "metadata": {},
   "outputs": [],
   "source": []
  },
  {
   "cell_type": "markdown",
   "metadata": {},
   "source": [
    "#### **Task 5**: What is the average percentage of delays that is already created before departure? (aka are arrival delays caused by departure delays?) Are airlines able to lower the delay during the flights?"
   ]
  },
  {
   "cell_type": "code",
   "execution_count": 83,
   "metadata": {},
   "outputs": [
    {
     "data": {
      "text/plain": [
       "<AxesSubplot:>"
      ]
     },
     "execution_count": 83,
     "metadata": {},
     "output_type": "execute_result"
    },
    {
     "data": {
      "image/png": "[encoded data removed]",
      "text/plain": [
       "<Figure size 432x288 with 2 Axes>"
      ]
     },
     "metadata": {},
     "output_type": "display_data"
    }
   ],
   "source": [
    "sns.heatmap(df.corr())"
   ]
  },
  {
   "cell_type": "code",
   "execution_count": 84,
   "metadata": {},
   "outputs": [
    {
     "data": {
      "text/plain": [
       "<seaborn.axisgrid.FacetGrid at 0x19b477202b0>"
      ]
     },
     "execution_count": 84,
     "metadata": {},
     "output_type": "execute_result"
    },
    {
     "data": {
      "image/png": "[encoded data removed]",
      "text/plain": [
       "<Figure size 360x360 with 1 Axes>"
      ]
     },
     "metadata": {},
     "output_type": "display_data"
    }
   ],
   "source": [
    "sns.lmplot(x=\"dep_delay\", y=\"arr_delay\", data=df)"
   ]
  },
  {
   "cell_type": "code",
   "execution_count": 85,
   "metadata": {},
   "outputs": [
    {
     "data": {
      "text/plain": [
       "(0.9642410779110518, 0.0)"
      ]
     },
     "execution_count": 85,
     "metadata": {},
     "output_type": "execute_result"
    }
   ],
   "source": [
    "stats.pearsonr(df['dep_delay'], df['arr_delay'])"
   ]
  },
  {
   "cell_type": "markdown",
   "metadata": {},
   "source": [
    "Visually, we can see on hour heatmap and scatter plot that the two are almost completely correlated, and our pearson correlation shows the same"
   ]
  },
  {
   "cell_type": "code",
   "execution_count": 86,
   "metadata": {},
   "outputs": [
    {
     "name": "stdout",
     "output_type": "stream",
     "text": [
      "0.7604864052466184\n",
      "0.7946509303764336\n"
     ]
    }
   ],
   "source": [
    "#Looking at the arrival delays we can see that around 76% of flights that had an arrival delay also had a departure delay and around 80% of flights that had\n",
    "# a departure delay also had an arrival delay (a delay in this case is more than 10 minutes)\n",
    "arrival_delay = df[\"arr_delay\"].gt(10).sum()\n",
    "depart_delay = df[\"dep_delay\"].gt(10).sum()\n",
    "both_delayed = (df[\"arr_delay\"].gt(10) & df[\"dep_delay\"].gt(10)).sum()\n",
    "print(both_delayed/arrival_delay)\n",
    "print(both_delayed/depart_delay)"
   ]
  },
  {
   "cell_type": "markdown",
   "metadata": {},
   "source": [
    "#### **Task 6**: How many states cover 50% of US air traffic? "
   ]
  },
  {
   "cell_type": "code",
   "execution_count": 123,
   "metadata": {},
   "outputs": [],
   "source": [
    "#Get states from the origin city\n",
    "dfstate = dfraw\n",
    "dfstate['origin_state'] = dfstate['origin_city_name'].str[-2:]\n",
    "dfstate['dest_state'] = dfstate['dest_city_name'].str[-2:]"
   ]
  },
  {
   "cell_type": "code",
   "execution_count": 129,
   "metadata": {},
   "outputs": [
    {
     "data": {
      "text/plain": [
       "CA    11.053\n",
       "TX     9.880\n",
       "FL     7.231\n",
       "IL     6.359\n",
       "GA     5.159\n",
       "NY     5.110\n",
       "NC     4.698\n",
       "CO     4.002\n",
       "WA     2.916\n",
       "PA     2.901\n",
       "MI     2.898\n",
       "DC     2.892\n",
       "AZ     2.535\n",
       "NV     2.377\n",
       "OH     2.293\n",
       "MN     2.178\n",
       "NJ     2.090\n",
       "MA     1.923\n",
       "MO     1.837\n",
       "TN     1.777\n",
       "UT     1.609\n",
       "HI     1.485\n",
       "MD     1.399\n",
       "OR     1.369\n",
       "LA     1.139\n",
       "VA     0.946\n",
       "IN     0.929\n",
       "WI     0.845\n",
       "SC     0.812\n",
       "OK     0.575\n",
       "KY     0.535\n",
       "AL     0.524\n",
       "AK     0.508\n",
       "NE     0.429\n",
       "ID     0.422\n",
       "AR     0.415\n",
       "IA     0.399\n",
       "PR     0.383\n",
       "NM     0.368\n",
       "CT     0.365\n",
       "MT     0.365\n",
       "ND     0.301\n",
       "RI     0.281\n",
       "ME     0.276\n",
       "KS     0.211\n",
       "MS     0.204\n",
       "SD     0.203\n",
       "VT     0.155\n",
       "NH     0.154\n",
       "WY     0.121\n",
       "WV     0.087\n",
       "VI     0.049\n",
       "TT     0.028\n",
       "Name: origin_state, dtype: float64"
      ]
     },
     "execution_count": 129,
     "metadata": {},
     "output_type": "execute_result"
    }
   ],
   "source": [
    "#percentage of flights by origin\n",
    "dfstate['origin_state'].value_counts(normalize=True) * 100\n"
   ]
  },
  {
   "cell_type": "code",
   "execution_count": 130,
   "metadata": {},
   "outputs": [
    {
     "data": {
      "text/plain": [
       "CA    10.928\n",
       "TX     9.811\n",
       "FL     7.274\n",
       "IL     6.343\n",
       "GA     5.303\n",
       "NY     5.199\n",
       "NC     4.472\n",
       "CO     3.899\n",
       "PA     2.970\n",
       "DC     2.933\n",
       "WA     2.829\n",
       "MI     2.715\n",
       "AZ     2.607\n",
       "NV     2.409\n",
       "OH     2.287\n",
       "MN     2.237\n",
       "NJ     2.132\n",
       "MO     1.941\n",
       "MA     1.868\n",
       "TN     1.749\n",
       "HI     1.524\n",
       "UT     1.504\n",
       "OR     1.457\n",
       "MD     1.337\n",
       "LA     1.075\n",
       "VA     0.976\n",
       "IN     0.955\n",
       "WI     0.914\n",
       "SC     0.888\n",
       "OK     0.598\n",
       "AL     0.558\n",
       "AK     0.528\n",
       "KY     0.521\n",
       "IA     0.422\n",
       "ID     0.418\n",
       "NE     0.416\n",
       "NM     0.404\n",
       "AR     0.397\n",
       "MT     0.389\n",
       "CT     0.373\n",
       "PR     0.349\n",
       "ND     0.300\n",
       "ME     0.298\n",
       "RI     0.239\n",
       "SD     0.209\n",
       "MS     0.200\n",
       "KS     0.197\n",
       "VT     0.162\n",
       "NH     0.161\n",
       "WY     0.145\n",
       "WV     0.095\n",
       "VI     0.055\n",
       "TT     0.030\n",
       "Name: dest_state, dtype: float64"
      ]
     },
     "execution_count": 130,
     "metadata": {},
     "output_type": "execute_result"
    }
   ],
   "source": [
    "#percentage of flights by origin\n",
    "dfstate['dest_state'].value_counts(normalize=True) * 100"
   ]
  },
  {
   "cell_type": "markdown",
   "metadata": {},
   "source": [
    "#### **Task 7**: Test the hypothesis whether planes fly faster when there is the departure delay? "
   ]
  },
  {
   "cell_type": "code",
   "execution_count": 87,
   "metadata": {},
   "outputs": [
    {
     "name": "stdout",
     "output_type": "stream",
     "text": [
      "Ttest_indResult(statistic=-5.42088683315952, pvalue=5.966477519876454e-08)\n"
     ]
    }
   ],
   "source": [
    "import scipy.stats as st\n",
    "#Use a t-test for this\n",
    "df[\"arr_dep_delay_diff\"] = df['arr_delay'] - df['dep_delay']\n",
    "#I picked less than 5 minutes delay as \"no delay\"...I mean, it's 5 minutes.\n",
    "no_delay = df[df['dep_delay'] < 5]\n",
    "delay = df[df['dep_delay'] > 5]\n",
    "delay_ttest = st.ttest_ind(no_delay.arr_dep_delay_diff, delay.arr_dep_delay_diff, equal_var=False)\n",
    "print(delay_ttest)\n",
    "# No difference (very high p-value) in the original run - a very low p-value here. Look at data, just to be sure (mean of delay_diff is the relavant variable)"
   ]
  },
  {
   "cell_type": "code",
   "execution_count": 88,
   "metadata": {},
   "outputs": [
    {
     "data": {
      "text/html": [
       "<div>\n",
       "<style scoped>\n",
       "    .dataframe tbody tr th:only-of-type {\n",
       "        vertical-align: middle;\n",
       "    }\n",
       "\n",
       "    .dataframe tbody tr th {\n",
       "        vertical-align: top;\n",
       "    }\n",
       "\n",
       "    .dataframe thead th {\n",
       "        text-align: right;\n",
       "    }\n",
       "</style>\n",
       "<table border=\"1\" class=\"dataframe\">\n",
       "  <thead>\n",
       "    <tr style=\"text-align: right;\">\n",
       "      <th></th>\n",
       "      <th>dep_delay</th>\n",
       "      <th>arr_dep_delay_diff</th>\n",
       "    </tr>\n",
       "  </thead>\n",
       "  <tbody>\n",
       "    <tr>\n",
       "      <th>count</th>\n",
       "      <td>71060.000000</td>\n",
       "      <td>71060.000000</td>\n",
       "    </tr>\n",
       "    <tr>\n",
       "      <th>mean</th>\n",
       "      <td>-4.324993</td>\n",
       "      <td>-5.224106</td>\n",
       "    </tr>\n",
       "    <tr>\n",
       "      <th>std</th>\n",
       "      <td>3.988035</td>\n",
       "      <td>12.600707</td>\n",
       "    </tr>\n",
       "    <tr>\n",
       "      <th>min</th>\n",
       "      <td>-46.000000</td>\n",
       "      <td>-70.000000</td>\n",
       "    </tr>\n",
       "    <tr>\n",
       "      <th>25%</th>\n",
       "      <td>-7.000000</td>\n",
       "      <td>-13.000000</td>\n",
       "    </tr>\n",
       "    <tr>\n",
       "      <th>50%</th>\n",
       "      <td>-4.000000</td>\n",
       "      <td>-6.000000</td>\n",
       "    </tr>\n",
       "    <tr>\n",
       "      <th>75%</th>\n",
       "      <td>-2.000000</td>\n",
       "      <td>1.000000</td>\n",
       "    </tr>\n",
       "    <tr>\n",
       "      <th>max</th>\n",
       "      <td>4.000000</td>\n",
       "      <td>143.000000</td>\n",
       "    </tr>\n",
       "  </tbody>\n",
       "</table>\n",
       "</div>"
      ],
      "text/plain": [
       "          dep_delay  arr_dep_delay_diff\n",
       "count  71060.000000        71060.000000\n",
       "mean      -4.324993           -5.224106\n",
       "std        3.988035           12.600707\n",
       "min      -46.000000          -70.000000\n",
       "25%       -7.000000          -13.000000\n",
       "50%       -4.000000           -6.000000\n",
       "75%       -2.000000            1.000000\n",
       "max        4.000000          143.000000"
      ]
     },
     "execution_count": 88,
     "metadata": {},
     "output_type": "execute_result"
    }
   ],
   "source": [
    "no_delay_check = no_delay[['dep_delay', 'arr_dep_delay_diff']]\n",
    "no_delay_check.describe()"
   ]
  },
  {
   "cell_type": "code",
   "execution_count": 89,
   "metadata": {},
   "outputs": [
    {
     "data": {
      "text/html": [
       "<div>\n",
       "<style scoped>\n",
       "    .dataframe tbody tr th:only-of-type {\n",
       "        vertical-align: middle;\n",
       "    }\n",
       "\n",
       "    .dataframe tbody tr th {\n",
       "        vertical-align: top;\n",
       "    }\n",
       "\n",
       "    .dataframe thead th {\n",
       "        text-align: right;\n",
       "    }\n",
       "</style>\n",
       "<table border=\"1\" class=\"dataframe\">\n",
       "  <thead>\n",
       "    <tr style=\"text-align: right;\">\n",
       "      <th></th>\n",
       "      <th>dep_delay</th>\n",
       "      <th>arr_dep_delay_diff</th>\n",
       "    </tr>\n",
       "  </thead>\n",
       "  <tbody>\n",
       "    <tr>\n",
       "      <th>count</th>\n",
       "      <td>71060.000000</td>\n",
       "      <td>71060.000000</td>\n",
       "    </tr>\n",
       "    <tr>\n",
       "      <th>mean</th>\n",
       "      <td>-4.324993</td>\n",
       "      <td>-5.224106</td>\n",
       "    </tr>\n",
       "    <tr>\n",
       "      <th>std</th>\n",
       "      <td>3.988035</td>\n",
       "      <td>12.600707</td>\n",
       "    </tr>\n",
       "    <tr>\n",
       "      <th>min</th>\n",
       "      <td>-46.000000</td>\n",
       "      <td>-70.000000</td>\n",
       "    </tr>\n",
       "    <tr>\n",
       "      <th>25%</th>\n",
       "      <td>-7.000000</td>\n",
       "      <td>-13.000000</td>\n",
       "    </tr>\n",
       "    <tr>\n",
       "      <th>50%</th>\n",
       "      <td>-4.000000</td>\n",
       "      <td>-6.000000</td>\n",
       "    </tr>\n",
       "    <tr>\n",
       "      <th>75%</th>\n",
       "      <td>-2.000000</td>\n",
       "      <td>1.000000</td>\n",
       "    </tr>\n",
       "    <tr>\n",
       "      <th>max</th>\n",
       "      <td>4.000000</td>\n",
       "      <td>143.000000</td>\n",
       "    </tr>\n",
       "  </tbody>\n",
       "</table>\n",
       "</div>"
      ],
      "text/plain": [
       "          dep_delay  arr_dep_delay_diff\n",
       "count  71060.000000        71060.000000\n",
       "mean      -4.324993           -5.224106\n",
       "std        3.988035           12.600707\n",
       "min      -46.000000          -70.000000\n",
       "25%       -7.000000          -13.000000\n",
       "50%       -4.000000           -6.000000\n",
       "75%       -2.000000            1.000000\n",
       "max        4.000000          143.000000"
      ]
     },
     "execution_count": 89,
     "metadata": {},
     "output_type": "execute_result"
    }
   ],
   "source": [
    "no_delay_check = no_delay[['dep_delay', 'arr_dep_delay_diff']]\n",
    "no_delay_check.describe()"
   ]
  },
  {
   "cell_type": "code",
   "execution_count": 90,
   "metadata": {},
   "outputs": [
    {
     "data": {
      "text/html": [
       "<div>\n",
       "<style scoped>\n",
       "    .dataframe tbody tr th:only-of-type {\n",
       "        vertical-align: middle;\n",
       "    }\n",
       "\n",
       "    .dataframe tbody tr th {\n",
       "        vertical-align: top;\n",
       "    }\n",
       "\n",
       "    .dataframe thead th {\n",
       "        text-align: right;\n",
       "    }\n",
       "</style>\n",
       "<table border=\"1\" class=\"dataframe\">\n",
       "  <thead>\n",
       "    <tr style=\"text-align: right;\">\n",
       "      <th></th>\n",
       "      <th>dep_delay</th>\n",
       "      <th>arr_dep_delay_diff</th>\n",
       "    </tr>\n",
       "  </thead>\n",
       "  <tbody>\n",
       "    <tr>\n",
       "      <th>count</th>\n",
       "      <td>25693.000000</td>\n",
       "      <td>25693.000000</td>\n",
       "    </tr>\n",
       "    <tr>\n",
       "      <th>mean</th>\n",
       "      <td>52.621609</td>\n",
       "      <td>-4.628420</td>\n",
       "    </tr>\n",
       "    <tr>\n",
       "      <th>std</th>\n",
       "      <td>81.979356</td>\n",
       "      <td>15.900919</td>\n",
       "    </tr>\n",
       "    <tr>\n",
       "      <th>min</th>\n",
       "      <td>6.000000</td>\n",
       "      <td>-194.000000</td>\n",
       "    </tr>\n",
       "    <tr>\n",
       "      <th>25%</th>\n",
       "      <td>13.000000</td>\n",
       "      <td>-14.000000</td>\n",
       "    </tr>\n",
       "    <tr>\n",
       "      <th>50%</th>\n",
       "      <td>27.000000</td>\n",
       "      <td>-7.000000</td>\n",
       "    </tr>\n",
       "    <tr>\n",
       "      <th>75%</th>\n",
       "      <td>61.000000</td>\n",
       "      <td>2.000000</td>\n",
       "    </tr>\n",
       "    <tr>\n",
       "      <th>max</th>\n",
       "      <td>1752.000000</td>\n",
       "      <td>168.000000</td>\n",
       "    </tr>\n",
       "  </tbody>\n",
       "</table>\n",
       "</div>"
      ],
      "text/plain": [
       "          dep_delay  arr_dep_delay_diff\n",
       "count  25693.000000        25693.000000\n",
       "mean      52.621609           -4.628420\n",
       "std       81.979356           15.900919\n",
       "min        6.000000         -194.000000\n",
       "25%       13.000000          -14.000000\n",
       "50%       27.000000           -7.000000\n",
       "75%       61.000000            2.000000\n",
       "max     1752.000000          168.000000"
      ]
     },
     "execution_count": 90,
     "metadata": {},
     "output_type": "execute_result"
    }
   ],
   "source": [
    "\n",
    "delay_check = delay[['dep_delay', 'arr_dep_delay_diff']]\n",
    "delay_check.describe() "
   ]
  },
  {
   "cell_type": "markdown",
   "metadata": {},
   "source": [
    "#### **Task 8**: When (which hour) do most 'LONG', 'SHORT', 'MEDIUM' haul flights take off?"
   ]
  },
  {
   "cell_type": "code",
   "execution_count": 116,
   "metadata": {},
   "outputs": [
    {
     "data": {
      "text/plain": [
       "flight_haul\n",
       "long-haul      13.545455\n",
       "medium-haul    14.469602\n",
       "short-haul     14.400915\n",
       "Name: hr_dep, dtype: float64"
      ]
     },
     "execution_count": 116,
     "metadata": {},
     "output_type": "execute_result"
    }
   ],
   "source": [
    "flight_type = []\n",
    "\n",
    "def get_flight_haul_type(sched_flighttime):\n",
    "    for element in sched_flighttime:\n",
    "        flight_duration = round((element/60), 2)\n",
    "        if flight_duration <= 3:\n",
    "            flight_type.append(\"short-haul\")\n",
    "        elif flight_duration >= 6:\n",
    "            flight_type.append('long-haul')\n",
    "        else:\n",
    "            flight_type.append('medium-haul')\n",
    "\n",
    "get_flight_haul_type(df['crs_elapsed_time'])\n",
    "flight_type2 = pd.Series(flight_type)\n",
    "df = df.merge(flight_type2.rename(\"flight_haul\"), left_index=True, right_index=True)\n",
    "df['hr_dep'].groupby(df['flight_haul']).mean()"
   ]
  },
  {
   "cell_type": "code",
   "execution_count": null,
   "metadata": {},
   "outputs": [],
   "source": []
  },
  {
   "cell_type": "markdown",
   "metadata": {},
   "source": [
    "#### **Task 9**: Find the top 10 the bussiest airports. Does the biggest number of flights mean that the biggest number of passengers went through the particular airport? How much traffic do these 10 airports cover?"
   ]
  },
  {
   "cell_type": "code",
   "execution_count": 93,
   "metadata": {},
   "outputs": [
    {
     "data": {
      "text/plain": [
       "origin_city_name       origin_airport_id\n",
       "Chicago, IL            13930                5014\n",
       "Atlanta, GA            10397                4804\n",
       "Dallas/Fort Worth, TX  11298                3772\n",
       "Denver, CO             11292                3583\n",
       "Charlotte, NC          11057                3240\n",
       "Los Angeles, CA        12892                3087\n",
       "Seattle, WA            14747                2425\n",
       "San Francisco, CA      14771                2355\n",
       "Detroit, MI            11433                2291\n",
       "Houston, TX            12266                2246\n",
       "Name: origin_airport_id, dtype: int64"
      ]
     },
     "execution_count": 93,
     "metadata": {},
     "output_type": "execute_result"
    }
   ],
   "source": [
    "# Get 10 busiest airport origin by flight count\n",
    "busy_airports_dep = dfraw[['origin_city_name','origin_airport_id']]\n",
    "busy_airports_dep = dfraw.groupby(['origin_city_name','origin_airport_id'])['origin_airport_id'].count().sort_values(ascending=False).head(10)\n",
    "\n",
    "busy_airports_dep"
   ]
  },
  {
   "cell_type": "code",
   "execution_count": 94,
   "metadata": {},
   "outputs": [
    {
     "data": {
      "text/plain": [
       "dest_city_name         dest_airport_id\n",
       "Atlanta, GA            10397              4959\n",
       "Chicago, IL            13930              4929\n",
       "Dallas/Fort Worth, TX  11298              3592\n",
       "Denver, CO             11292              3450\n",
       "Los Angeles, CA        12892              3198\n",
       "Charlotte, NC          11057              3017\n",
       "Seattle, WA            14747              2317\n",
       "Houston, TX            12266              2272\n",
       "Phoenix, AZ            14107              2211\n",
       "San Francisco, CA      14771              2192\n",
       "Name: dest_airport_id, dtype: int64"
      ]
     },
     "execution_count": 94,
     "metadata": {},
     "output_type": "execute_result"
    }
   ],
   "source": [
    "# Get 10 busiest airport origin by flight count\n",
    "busy_airports_arr = dfraw[['dest_city_name','dest_airport_id']]\n",
    "busy_airports_arr = dfraw.groupby(['dest_city_name','dest_airport_id'])['dest_airport_id'].count().sort_values(ascending=False).head(10)\n",
    "\n",
    "busy_airports_arr"
   ]
  },
  {
   "cell_type": "code",
   "execution_count": 106,
   "metadata": {},
   "outputs": [
    {
     "name": "stdout",
     "output_type": "stream",
     "text": [
      "The top 10 origin airports account for 36.1% of the number of flights.\n"
     ]
    }
   ],
   "source": [
    "delay = df.groupby(\"origin_airport_id\")[\"arr_delay\"].mean()\n",
    "common_arpts = df.groupby(\"origin_airport_id\")[\"arr_delay\"].count()\n",
    "\n",
    "n = 10\n",
    "traffic = (common_arpts.sort_values(ascending=False).head(n).sum()/common_arpts.sort_values(ascending=False).sum())*100\n",
    "print(f\"The top {n} origin airports account for {traffic:.1f}% of the number of flights.\")"
   ]
  },
  {
   "cell_type": "code",
   "execution_count": 107,
   "metadata": {},
   "outputs": [
    {
     "name": "stdout",
     "output_type": "stream",
     "text": [
      "The top 10 origin airports account for 36.1% of the number of delayed flights.\n"
     ]
    }
   ],
   "source": [
    "#Again, only look at actual \"delays\", where the flight lands later than it was supposed to\n",
    "df = df[df['arr_delay']>20]\n",
    "\n",
    "delay = df.groupby(\"origin_airport_id\")[\"arr_delay\"].mean()\n",
    "common_arpts = df.groupby(\"origin_airport_id\")[\"arr_delay\"].count()\n",
    "n = 10\n",
    "traffic = (common_arpts.sort_values(ascending=False).head(n).sum()/common_arpts.sort_values(ascending=False).sum())*100\n",
    "print(f\"The top {n} origin airports account for {traffic:.1f}% of the number of delayed flights.\")"
   ]
  },
  {
   "cell_type": "code",
   "execution_count": 108,
   "metadata": {},
   "outputs": [
    {
     "name": "stdout",
     "output_type": "stream",
     "text": [
      "The top 10 dest airports account for 33.8% of the number of flights.\n"
     ]
    }
   ],
   "source": [
    "delay = df.groupby(\"dest_airport_id\")[\"arr_delay\"].mean()\n",
    "common_arpts = df.groupby(\"dest_airport_id\")[\"arr_delay\"].count()\n",
    "\n",
    "n = 10\n",
    "traffic = (common_arpts.sort_values(ascending=False).head(n).sum()/common_arpts.sort_values(ascending=False).sum())*100\n",
    "print(f\"The top {n} dest airports account for {traffic:.1f}% of the number of flights.\")"
   ]
  },
  {
   "cell_type": "code",
   "execution_count": 109,
   "metadata": {},
   "outputs": [
    {
     "name": "stdout",
     "output_type": "stream",
     "text": [
      "The top 10 dest airports account for 33.8% of the number of delayed flights.\n"
     ]
    }
   ],
   "source": [
    "#Again, only look at actual \"delays\", where the flight lands later than it was supposed to\n",
    "df = df[df['arr_delay']>20]\n",
    "\n",
    "delay = df.groupby(\"dest_airport_id\")[\"arr_delay\"].mean()\n",
    "common_arpts = df.groupby(\"dest_airport_id\")[\"arr_delay\"].count()\n",
    "n = 10\n",
    "traffic = (common_arpts.sort_values(ascending=False).head(n).sum()/common_arpts.sort_values(ascending=False).sum())*100\n",
    "print(f\"The top {n} dest airports account for {traffic:.1f}% of the number of delayed flights.\")"
   ]
  },
  {
   "cell_type": "markdown",
   "metadata": {},
   "source": [
    "#### **Task 10**: Do bigger delays lead to bigger fuel comsumption per passenger? \n",
    "We need to do four things to answer this as accurate as possible:\n",
    "- Find out average monthly delay per air carrier (monthly delay is sum of all delays in 1 month)\n",
    "- Find out distance covered monthly by different air carriers\n",
    "- Find out number of passengers that were carried by different air carriers\n",
    "- Find out total fuel comsumption per air carrier.\n",
    "\n",
    "Use this information to get the average fuel comsumption per passenger per km. Is this higher for the airlines with bigger average delays?"
   ]
  },
  {
   "cell_type": "code",
   "execution_count": null,
   "metadata": {},
   "outputs": [],
   "source": []
  },
  {
   "cell_type": "code",
   "execution_count": null,
   "metadata": {},
   "outputs": [],
   "source": []
  }
 ],
 "metadata": {
  "kernelspec": {
   "display_name": "Python 3.9.12 ('base')",
   "language": "python",
   "name": "python3"
  },
  "language_info": {
   "codemirror_mode": {
    "name": "ipython",
    "version": 3
   },
   "file_extension": ".py",
   "mimetype": "text/x-python",
   "name": "python",
   "nbconvert_exporter": "python",
   "pygments_lexer": "ipython3",
   "version": "3.9.12"
  },
  "toc": {
   "base_numbering": 1,
   "nav_menu": {},
   "number_sections": true,
   "sideBar": true,
   "skip_h1_title": false,
   "title_cell": "Table of Contents",
   "title_sidebar": "Contents",
   "toc_cell": false,
   "toc_position": {},
   "toc_section_display": true,
   "toc_window_display": false
  },
  "varInspector": {
   "cols": {
    "lenName": 16,
    "lenType": 16,
    "lenVar": 40
   },
   "kernels_config": {
    "python": {
     "delete_cmd_postfix": "",
     "delete_cmd_prefix": "del ",
     "library": "var_list.py",
     "varRefreshCmd": "print(var_dic_list())"
    },
    "r": {
     "delete_cmd_postfix": ") ",
     "delete_cmd_prefix": "rm(",
     "library": "var_list.r",
     "varRefreshCmd": "cat(var_dic_list()) "
    }
   },
   "types_to_exclude": [
    "module",
    "function",
    "builtin_function_or_method",
    "instance",
    "_Feature"
   ],
   "window_display": false
  },
  "vscode": {
   "interpreter": {
    "hash": "c0d89b5f63db5632f8f002f79a09b21938afa1ab48b28293f9c2c3a2f99e497b"
   }
  }
 },
 "nbformat": 4,
 "nbformat_minor": 4
}
