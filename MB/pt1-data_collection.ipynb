{
 "cells": [
  {
   "cell_type": "markdown",
   "metadata": {},
   "source": [
    "## Part I: Data collection"
   ]
  },
  {
   "cell_type": "markdown",
   "metadata": {},
   "source": [
    "Where we extract the data from the PostgreSQL table and store it as a csv"
   ]
  },
  {
   "cell_type": "code",
   "execution_count": 1,
   "metadata": {},
   "outputs": [],
   "source": [
    "import psycopg2\n",
    "import pandas as pd\n",
    "import os"
   ]
  },
  {
   "cell_type": "code",
   "execution_count": 2,
   "metadata": {},
   "outputs": [],
   "source": [
    "# Get local variables from environment\n",
    "username = os.environ['DB_USERNAME']\n",
    "pword = os.environ['DB_PASSWORD']\n",
    "db_host = os.environ['DB_HOST']"
   ]
  },
  {
   "cell_type": "code",
   "execution_count": 3,
   "metadata": {},
   "outputs": [],
   "source": [
    "# Create a connection to the database \n",
    "con = psycopg2.connect(database='mid_term_project', user=username, password=pword,\n",
    "                       host=db_host, port='5432')"
   ]
  },
  {
   "cell_type": "code",
   "execution_count": 4,
   "metadata": {},
   "outputs": [],
   "source": [
    "def execute_read_query(connection, query, return_pandas=True):\n",
    "    cursor = connection.cursor()\n",
    "    result = None\n",
    "    try:\n",
    "        if return_pandas:\n",
    "            result = pd.read_sql_query(query, connection)\n",
    "        else:\n",
    "            cursor.execute(query)\n",
    "            result = cursor.fetchall()\n",
    "        return result\n",
    "    except Error as e:\n",
    "        print(f\"The error '{e}' occurred\")"
   ]
  },
  {
   "cell_type": "code",
   "execution_count": 15,
   "metadata": {},
   "outputs": [
    {
     "name": "stderr",
     "output_type": "stream",
     "text": [
      "/home/marcjb/anaconda3/envs/lhl_env/lib/python3.9/site-packages/pandas/io/sql.py:762: UserWarning: pandas only support SQLAlchemy connectable(engine/connection) ordatabase string URI or sqlite3 DBAPI2 connectionother DBAPI2 objects are not tested, please consider using SQLAlchemy\n",
      "  warnings.warn(\n"
     ]
    }
   ],
   "source": [
    "# Limit early flights/delays to 12 hours \n",
    "flight_info =      \"\"\"\n",
    "                   SELECT * FROM flights\n",
    "                   WHERE arr_delay < 720\n",
    "                   AND arr_delay > -720\n",
    "                   ORDER BY RANDOM()\n",
    "                   LIMIT 200000;\n",
    "\n",
    "                   \"\"\"\n",
    "flight_delay = execute_read_query(con,flight_info)\n",
    "# flight_delay"
   ]
  },
  {
   "cell_type": "code",
   "execution_count": 7,
   "metadata": {},
   "outputs": [],
   "source": [
    "flight_delay.to_csv(\"flight_information.csv\")"
   ]
  },
  {
   "cell_type": "markdown",
   "metadata": {},
   "source": [
    "Getting Test data for our model"
   ]
  },
  {
   "cell_type": "code",
   "execution_count": null,
   "metadata": {},
   "outputs": [],
   "source": [
    "flight_info =      \"\"\"\n",
    "                   SELECT \n",
    "                   fl_date, \n",
    "                   mkt_unique_carrier, \n",
    "                   origin, dest, \n",
    "                   crs_dep_time,  \n",
    "                   crs_arr_time,\n",
    "                   crs_elapsed_time,\n",
    "                   flights,\n",
    "                   distance,\n",
    "                   arr_delay\n",
    "                   FROM flights_test\n",
    "                   \"\"\"\n",
    "flight_delay = execute_read_query(con,flight_info)\n",
    "# flight_delay"
   ]
  },
  {
   "cell_type": "code",
   "execution_count": null,
   "metadata": {},
   "outputs": [],
   "source": [
    "\n",
    "flight_delay.to_csv(\"flight_test.csv\")"
   ]
  },
  {
   "cell_type": "markdown",
   "metadata": {},
   "source": [
    "The data above is not filtered in any way; just a random selection of the available flight data. This is challenging if we want to see how weather affects flight delays (that's a lot of weather data!). \n",
    "\n",
    "Based on the exploratory data analysis, we will take a subsample of the available data: airlines with lots of flights, airports with lots of traffic and specific days. "
   ]
  },
  {
   "cell_type": "code",
   "execution_count": 7,
   "metadata": {},
   "outputs": [
    {
     "name": "stderr",
     "output_type": "stream",
     "text": [
      "/home/marcjb/anaconda3/envs/lhl_env/lib/python3.9/site-packages/pandas/io/sql.py:762: UserWarning: pandas only support SQLAlchemy connectable(engine/connection) ordatabase string URI or sqlite3 DBAPI2 connectionother DBAPI2 objects are not tested, please consider using SQLAlchemy\n",
      "  warnings.warn(\n"
     ]
    }
   ],
   "source": [
    "# Limit early flights/delays to 12 hours \n",
    "flight_info =      \"\"\"\n",
    "                   SELECT * FROM flights\n",
    "                   WHERE arr_delay < 720\n",
    "                   AND arr_delay > -60\n",
    "                   AND fl_date = '2019-12-20'\n",
    "                   OR fl_date = '2019-12-27'\n",
    "                   OR fl_date = '2019-11-04'\n",
    "                   OR fl_date = '2019-11-20'\n",
    "                   OR fl_date = '2019-08-15'\n",
    "                   OR fl_date = '2019-08-25'\n",
    "                   OR fl_date = '2019-06-25'\n",
    "                   OR fl_date = '2019-06-03'\n",
    "                   OR fl_date = '2019-03-24'\n",
    "                   OR fl_date = '2019-03-14';\n",
    "\n",
    "                   \"\"\"\n",
    "flights = execute_read_query(con,flight_info)"
   ]
  },
  {
   "cell_type": "code",
   "execution_count": 10,
   "metadata": {},
   "outputs": [],
   "source": [
    "flights.to_csv(\"flight_information_dates.csv\")"
   ]
  }
 ],
 "metadata": {
  "kernelspec": {
   "display_name": "Python 3.9.12 ('lhl_env')",
   "language": "python",
   "name": "python3"
  },
  "language_info": {
   "codemirror_mode": {
    "name": "ipython",
    "version": 3
   },
   "file_extension": ".py",
   "mimetype": "text/x-python",
   "name": "python",
   "nbconvert_exporter": "python",
   "pygments_lexer": "ipython3",
   "version": "3.9.12"
  },
  "orig_nbformat": 4,
  "vscode": {
   "interpreter": {
    "hash": "6701a37b50cf3fe420c1c168326b5df267cda9c0faa66bc5c6c8150dd9165b51"
   }
  }
 },
 "nbformat": 4,
 "nbformat_minor": 2
}
