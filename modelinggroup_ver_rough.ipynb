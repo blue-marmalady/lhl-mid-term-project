{
 "cells": [
  {
   "cell_type": "markdown",
   "metadata": {},
   "source": [
    "# Machine Learning\n",
    "\n",
    "In this file, instructions how to approach the challenge can be found."
   ]
  },
  {
   "cell_type": "markdown",
   "metadata": {},
   "source": [
    "We are going to work on different types of Machine Learning problems:\n",
    "\n",
    "- **Regression Problem**: The goal is to predict delay of flights.\n",
    "- **(Stretch) Multiclass Classification**: If the plane was delayed, we will predict what type of delay it is (will be).\n",
    "- **(Stretch) Binary Classification**: The goal is to predict if the flight will be cancelled."
   ]
  },
  {
   "cell_type": "code",
   "execution_count": null,
   "metadata": {},
   "outputs": [],
   "source": []
  },
  {
   "cell_type": "markdown",
   "metadata": {},
   "source": [
    "## Main Task: Regression Problem"
   ]
  },
  {
   "cell_type": "markdown",
   "metadata": {},
   "source": [
    "The target variable is **ARR_DELAY**. We need to be careful which columns to use and which don't. For example, DEP_DELAY is going to be the perfect predictor, but we can't use it because in real-life scenario, we want to predict the delay before the flight takes of --> We can use average delay from earlier days but not the one from the actual flight we predict.  \n",
    "\n",
    "For example, variables **CARRIER_DELAY, WEATHER_DELAY, NAS_DELAY, SECURITY_DELAY, LATE_AIRCRAFT_DELAY** shouldn't be used directly as predictors as well. However, we can create various transformations from earlier values.\n",
    "\n",
    "We will be evaluating your models by predicting the ARR_DELAY for all flights **1 week in advance**."
   ]
  },
  {
   "cell_type": "code",
   "execution_count": 1,
   "metadata": {},
   "outputs": [
    {
     "name": "stderr",
     "output_type": "stream",
     "text": [
      "/home/reubenaboye/anaconda3_2/envs/midterm_env/lib/python3.8/site-packages/scipy/__init__.py:146: UserWarning: A NumPy version >=1.16.5 and <1.23.0 is required for this version of SciPy (detected version 1.23.2\n",
      "  warnings.warn(f\"A NumPy version >={np_minversion} and <{np_maxversion}\"\n"
     ]
    },
    {
     "name": "stdout",
     "output_type": "stream",
     "text": [
      "Connecting to the PostgreSQL database...\n",
      "Connection successful\n"
     ]
    }
   ],
   "source": [
    "\n",
    "import psycopg2\n",
    "import pandas as pd\n",
    "import numpy as np\n",
    "import seaborn as sns\n",
    "import sklearn\n",
    "import matplotlib.pyplot as plt\n",
    "\n",
    "# I. PRELIM ================================================================\n",
    "\n",
    "# I.1. IMPORT DATA ---------------------------------------------------------------------\n",
    "\n",
    "\n",
    "param_dic = {\n",
    "    \"host\"      : \"lhl-data-bootcamp.crzjul5qln0e.ca-central-1.rds.amazonaws.com\",\n",
    "    \"database\"  : \"mid_term_project\",\n",
    "    \"user\"      : \"lhl_student\",\n",
    "    \"password\"  : \"lhl_student\"\n",
    "}\n",
    "\n",
    "def connect(params_dic):\n",
    "    \"\"\" Connect to the PostgreSQL database server \"\"\"\n",
    "    conn = None\n",
    "    try:\n",
    "        # connect to the PostgreSQL server\n",
    "        print('Connecting to the PostgreSQL database...')\n",
    "        conn = psycopg2.connect(**params_dic)\n",
    "    except (Exception, psycopg2.DatabaseError) as error:\n",
    "        print(error)\n",
    "        sys.exit(1) \n",
    "    print(\"Connection successful\")\n",
    "    return conn\n",
    "\n",
    "\n",
    "    # Get DataFrame Function\n",
    "def postgresql_to_dataframe(conn, select_query, column_names):\n",
    "    \"\"\"\n",
    "    Tranform a SELECT query into a pandas dataframe\n",
    "    \"\"\"\n",
    "    cursor = conn.cursor()\n",
    "    try:\n",
    "        cursor.execute(select_query)\n",
    "    except (Exception, psycopg2.DatabaseError) as error:\n",
    "        print(\"Error: %s\" % error)\n",
    "        cursor.close()\n",
    "        return 1\n",
    "    \n",
    "    # Naturally we get a list of tupples\n",
    "    tupples = cursor.fetchall()\n",
    "    cursor.close()\n",
    "    \n",
    "    # We just need to turn it into a pandas dataframe\n",
    "    df = pd.DataFrame(tupples, columns=column_names)\n",
    "    return df\n",
    "\n",
    "    # instantiate function parameters\n",
    "select_query = \"SELECT fl_date, mkt_unique_carrier, mkt_carrier, mkt_carrier_fl_num, op_unique_carrier, op_carrier_fl_num, tail_num, origin_airport_id, origin, origin_city_name, dest_airport_id, dest_city_name, crs_dep_time, crs_arr_time, dep_delay, arr_delay, crs_elapsed_time, flights, distance, dup, dest FROM flights ORDER BY RANDOM() LIMIT 200000;\"\n",
    "columns = [\"fl_date\", \"mkt_unique_carrier\", \"mkt_carrier\", \"mkt_carrier_fl_num\", \"op_unique_carrier\", \"op_carrier_fl_num\", \"tail_num\", \"origin_airport_id\", \"origin\", \"origin_city_name\", \"dest_airport_id\", \"dest_city_name\", \"crs_dep_time\", \"crs_arr_time\", \"dep_delay\", \"arr_delay\", \"crs_elapsed_time\", \"flights\", \"distance\", \"dup\", \"dest\"]\n",
    "conn = connect(param_dic)\n",
    "\n",
    "    #import data\n",
    "flights_sample = postgresql_to_dataframe(conn, select_query, columns)\n",
    "df = flights_sample\n"
   ]
  },
  {
   "cell_type": "code",
   "execution_count": 2,
   "metadata": {},
   "outputs": [
    {
     "name": "stdout",
     "output_type": "stream",
     "text": [
      "Number of Nulls left: 0\n",
      "Number of Nulls left: 0\n",
      "Number of Nulls left: 0\n"
     ]
    }
   ],
   "source": [
    "#II. DATA CLEANING ==================================================\n",
    "\n",
    "#       1. Check & Impute Null Values\n",
    "def null_values_perc(df):\n",
    "    total_null = df.isnull().sum().sort_values(ascending=False)\n",
    "    percent_null = (df.isnull().sum()/df.isnull().count()).sort_values(ascending=False) \n",
    "    null_df = pd.concat([total_null, percent_null], axis=1, keys=['Total', 'Percent'])\n",
    "    return null_df\n",
    "null_values_perc(df)\n",
    "\n",
    "def fill_null_val_mean(df, df_col):\n",
    "    \"\"\"\n",
    "    Fills null values in a column with the column's mean value. \n",
    "    Note: dataframe column (df_col) must be of numeric type\n",
    "    \"\"\"\n",
    "    col_mean = df[df_col].mean()\n",
    "    df[df_col].fillna(col_mean, inplace=True)\n",
    "    return print(\"Number of Nulls left:\",df[df_col].isnull().sum())\n",
    "fill_null_val_mean(df, 'dep_delay')\n",
    "fill_null_val_mean(df, 'arr_delay')\n",
    "\n",
    "\n",
    "def fill_null_val_mode(df, df_col):\n",
    "    \"\"\"\n",
    "    Fills null values in a column with the column's mode value. \n",
    "    \"\"\"\n",
    "    col_mode = df[df_col].mode()[0]\n",
    "    df[df_col].fillna(col_mode, inplace=True)\n",
    "    return print(\"Number of Nulls left:\",df[df_col].isnull().sum())\n",
    "\n",
    "fill_null_val_mode(df, 'tail_num')\n",
    "\n"
   ]
  },
  {
   "cell_type": "code",
   "execution_count": null,
   "metadata": {},
   "outputs": [],
   "source": []
  },
  {
   "cell_type": "markdown",
   "metadata": {},
   "source": [
    "### Feature Engineering"
   ]
  },
  {
   "cell_type": "markdown",
   "metadata": {},
   "source": [
    "Feature engineering will play a crucial role in this problems. We have only very little attributes so we need to create some features that will have some predictive power.\n",
    "\n",
    "- weather: we can use some weather API to look for the weather in time of the scheduled departure and scheduled arrival.\n",
    "- statistics (avg, mean, median, std, min, max...): we can take a look at previous delays and compute descriptive statistics\n",
    "- airports encoding: we need to think about what to do with the airports and other categorical variables\n",
    "- time of the day: the delay probably depends on the airport traffic which varies during the day.\n",
    "- airport traffic\n",
    "- unsupervised learning as feature engineering?\n",
    "- **what are the additional options?**: Think about what we could do more to improve the model."
   ]
  },
  {
   "cell_type": "code",
   "execution_count": 3,
   "metadata": {},
   "outputs": [],
   "source": [
    "#   III.1. FEATURE CONSTRUCTION\n",
    "\n",
    "#          1. Date & Time Variables\n",
    "from datetime import datetime\n",
    "flight_date = []\n",
    "for date in df['fl_date']:\n",
    "    flight_date.append(datetime.strptime(date, \"%Y-%m-%d\"))\n",
    "\n",
    "date = pd.Series(flight_date)\n",
    "df1 = df.merge(date.rename(\"flight_date\"), left_index=True, right_index=True)\n",
    "df1 = df1.drop('fl_date', axis=1)\n",
    "\n",
    "#           1.1. Construct Features: Year, Month, Day\n",
    "\n",
    "#def decompose_date(df, date_col, datetime_feat, new_col):\n",
    "#    \"\"\"\n",
    "#    Extract date information from datetime col\n",
    "#    Note: requires container list specified before function is called, and list needs same name as datetime_feat\n",
    "#    \"\"\"\n",
    "#    feat_list = []\n",
    "#    for date in df[date_col]:\n",
    "#        feat_list.append(date.datetime_feat)\n",
    "#    feat_series = pd.Series(feat_list)\n",
    "#    df1 = df1.merge(feat_series.rename(new_col), left_index=True, right_index=True)\n",
    " \n",
    "#decompose_date(df, 'flight_date', year, \"Year\")\n",
    "fl_years = []\n",
    "for date in df1['flight_date']:\n",
    "    fl_years.append(date.year)\n",
    "years = pd.Series(fl_years)\n",
    "df1 = df1.merge(years.rename(\"Year\"), left_index=True, right_index=True)\n",
    "\n",
    "fl_month = []\n",
    "for date in df1['flight_date']:\n",
    "    fl_month.append(date.month)\n",
    "month = pd.Series(fl_month)\n",
    "df1 = df1.merge(month.rename(\"Month\"), left_index=True, right_index=True)\n",
    "\n",
    "fl_days = []\n",
    "for date in df1['flight_date']:\n",
    "    fl_days.append(date.day)\n",
    "days = pd.Series(fl_days)\n",
    "df1 = df1.merge(days.rename(\"Days\"), left_index=True, right_index=True)\n",
    "    # drop flight date\n",
    "df1 = df1.drop('flight_date', axis=1)\n",
    "\n",
    "#       1.2. COnstruct Features: Time of Day\n",
    "df1['hr_dep'] = df1['crs_dep_time']//100 \n",
    "\n",
    "time_of_day = []\n",
    "for hour in df1['hr_dep']:\n",
    "    if hour < 12:\n",
    "        time_of_day.append(\"Morning\")\n",
    "    if hour >=12 and hour < 17:\n",
    "        time_of_day.append(\"Afternoon\")\n",
    "    if hour >=17 and hour <= 24:\n",
    "        time_of_day.append(\"Evening\")\n",
    "time = pd.Series(time_of_day)\n",
    "df1 = df1.merge(time.rename('Time of Day'), left_index=True, right_index=True)\n",
    "\n",
    "#     2. Construct Features: Season\n",
    "seasons = []\n",
    "for month in df1['Month']:\n",
    "    if month <=2 or month > 11:\n",
    "        seasons.append(\"Winter\")\n",
    "    if month >= 3 and month <= 5:\n",
    "        seasons.append('Spring')\n",
    "    if month >=6 and month <9:\n",
    "        seasons.append('Summer')\n",
    "    if month >= 9 and month <= 11:\n",
    "        seasons.append('Fall')\n",
    "season_series = pd.Series(seasons)\n",
    "df1 = df1.merge(season_series.rename(\"Seasons\"), left_index=True, right_index=True)\n",
    "\n",
    "\n",
    "#      3. Construct Features: Dummy Variables for Categorical Variables\n",
    "\n",
    "# Variable: Origin\n",
    "origin_dum = pd.get_dummies(df1['origin'])\n",
    "# Variable: Destination\n",
    "dest_dum = pd.get_dummies(df1['dest'])\n",
    "# Variabel: Mkt Carrier\n",
    "mktcarrier_dum = pd.get_dummies(df1['mkt_unique_carrier'])\n",
    "# Variable: Oper. Carrier\n",
    "opercarrier_dum = pd.get_dummies(df1['op_unique_carrier'])\n",
    "# Variable: Time of Day\n",
    "timeofday_dum = pd.get_dummies(df1['Time of Day'])\n",
    "# Variable: Seasons\n",
    "season_dum = pd.get_dummies(df1['Seasons'])\n",
    "# Variable: Tail_num\n",
    "tail_dum = pd.get_dummies(df1['tail_num'])\n",
    "\n",
    "# MERGE DUMMIES TO DF\n",
    "df2 = pd.concat([df1, origin_dum, dest_dum, mktcarrier_dum, opercarrier_dum, \n",
    "timeofday_dum, season_dum, tail_dum], axis=1)\n",
    "#Drop Correpsondent Non-Dummy Ver. of Variables\n",
    "\n",
    "df2 = df2.drop(['origin', 'dest', 'mkt_unique_carrier', 'op_unique_carrier', 'Time of Day', 'Seasons', 'tail_num'], axis=1)\n",
    "\n",
    "#   4.  Drop Hypothesized Non-Central Variables\n",
    "df2 = df2.drop(['origin_city_name', 'dest_city_name', 'origin_airport_id', 'mkt_carrier', 'dest_airport_id', 'dep_delay'], axis=1)\n",
    "\n"
   ]
  },
  {
   "cell_type": "code",
   "execution_count": null,
   "metadata": {},
   "outputs": [],
   "source": []
  },
  {
   "cell_type": "markdown",
   "metadata": {},
   "source": [
    "### Feature Selection / Dimensionality Reduction"
   ]
  },
  {
   "cell_type": "markdown",
   "metadata": {},
   "source": [
    "We need to apply different selection techniques to find out which one will be the best for our problems.\n",
    "\n",
    "- Original Features vs. PCA conponents?"
   ]
  },
  {
   "cell_type": "code",
   "execution_count": 4,
   "metadata": {},
   "outputs": [
    {
     "ename": "",
     "evalue": "",
     "output_type": "error",
     "traceback": [
      "\u001b[1;31mCanceled future for execute_request message before replies were done"
     ]
    },
    {
     "ename": "",
     "evalue": "",
     "output_type": "error",
     "traceback": [
      "\u001b[1;31mThe Kernel crashed while executing code in the the current cell or a previous cell. Please review the code in the cell(s) to identify a possible cause of the failure. Click <a href='https://aka.ms/vscodeJupyterKernelCrash'>here</a> for more info. View Jupyter <a href='command:jupyter.viewOutput'>log</a> for further details."
     ]
    }
   ],
   "source": [
    "#1. Check for Outliers & Variable Transformation\n",
    "\n",
    "y = df2['arr_delay']\n",
    "df3 = df2.drop('arr_delay', axis=1)\n",
    "df3_numeric = df3.select_dtypes(include='number')\n",
    "\n",
    "#       1. Feature Selection on Small Variance\n",
    "\n",
    "from sklearn.feature_selection import VarianceThreshold\n",
    "vt = VarianceThreshold(0.1)\n",
    "df3_transformed = vt.fit_transform(df3)\n",
    "\n",
    "# columns we have selected\n",
    "# get_support() is method of VarianceThreshold and stores boolean of each variable in the numpy array.\n",
    "selected_columns = df3.columns[vt.get_support()]\n",
    "# transforming an array back to a data-frame preserves column labels\n",
    "df3_transformed_df = pd.DataFrame(df3_transformed, columns = selected_columns)\n",
    "df3_transformed_df.head() # data with variance above 0.1\n",
    "    # KEY: we have reduced the features from 798 to 24\n",
    "\n",
    "df4 = df3_transformed_df.drop(['crs_dep_time'], axis=1)\n",
    "\n",
    "\n",
    "#       2. Forward Regression/Selection\n",
    "\n",
    "from sklearn.feature_selection import f_regression, SelectKBest\n",
    "skb = SelectKBest(f_regression, k=10)\n",
    "X = skb.fit_transform(df4, y)\n",
    "\n",
    "skb.get_support()\n",
    "#column names\n",
    "df4.columns[skb.get_support()]\n",
    "X2 = pd.DataFrame(X, columns = df4.columns[skb.get_support()])\n",
    "X2\n",
    "# NOW WER ARE DOWN to 10 Columns\n",
    "\n"
   ]
  },
  {
   "cell_type": "code",
   "execution_count": null,
   "metadata": {},
   "outputs": [],
   "source": []
  },
  {
   "cell_type": "markdown",
   "metadata": {},
   "source": [
    "### Modeling"
   ]
  },
  {
   "cell_type": "markdown",
   "metadata": {},
   "source": [
    "Use different ML techniques to predict each problem.\n",
    "\n",
    "- linear / logistic / multinomial logistic regression\n",
    "- Naive Bayes\n",
    "- Random Forest\n",
    "- SVM\n",
    "- XGBoost\n",
    "- The ensemble of your own choice"
   ]
  },
  {
   "cell_type": "markdown",
   "metadata": {},
   "source": [
    "### 1. LINEAR REGRESSION"
   ]
  },
  {
   "cell_type": "code",
   "execution_count": 4,
   "metadata": {},
   "outputs": [
    {
     "name": "stdout",
     "output_type": "stream",
     "text": [
      "0    0.816506\n",
      "1    0.183494\n",
      "Name: Delayed_Arrival, dtype: float64\n",
      "0    0.816518\n",
      "1    0.183482\n",
      "Name: Delayed_Arrival, dtype: float64\n"
     ]
    }
   ],
   "source": [
    "\n",
    "\n",
    "sklearn.preprocessing import StandardScaler\n",
    "from sklearn.decomposition import PCA\n",
    "from sklearn.linear_model import LinearRegression\n",
    "from sklearn.pipeline import make_pipeline\n",
    "\n",
    "pipe_lr = make_pipeline(StandardScaler(),\n",
    "LinearRegression())\n",
    "\n",
    "pipe_lr.fit(X_train, y_train)\n",
    "y_train_pred = pipe_lr.predict(X_train)\n",
    "y_val_pred = pipe_lr.predict(X_val)\n",
    "\n",
    "# EVAL\n",
    "from sklearn.metrics import r2_score\n",
    "print('R^2 train: %.3f, validation: %.3f' %\n",
    "(r2_score(y_train, y_train_pred),\n",
    "r2_score(y_val, y_val_pred)))\n",
    "#R^2 train: 0.015, validation: 0.012\n",
    "print('MSE train: %.3f, test: %.3f' %(\n",
    "    mean_squared_error(y_train,y_train_pred),\n",
    "    mean_squared_error(y_val, y_val_pred)\n",
    "))\n",
    "# MSE train: 2448.770, test: 2567.939\n",
    "\n",
    "#print('Test Accuracy %.3f' % pipe_lr.score(X_val, y_val))\n",
    "    # Test accuract is 0.012\n",
    "        # implication: we are underfitting\n",
    "        # sol'n polynomial regression\n"
   ]
  },
  {
   "cell_type": "code",
   "execution_count": 5,
   "metadata": {},
   "outputs": [
    {
     "data": {
      "text/html": [
       "<style>#sk-container-id-1 {color: black;background-color: white;}#sk-container-id-1 pre{padding: 0;}#sk-container-id-1 div.sk-toggleable {background-color: white;}#sk-container-id-1 label.sk-toggleable__label {cursor: pointer;display: block;width: 100%;margin-bottom: 0;padding: 0.3em;box-sizing: border-box;text-align: center;}#sk-container-id-1 label.sk-toggleable__label-arrow:before {content: \"▸\";float: left;margin-right: 0.25em;color: #696969;}#sk-container-id-1 label.sk-toggleable__label-arrow:hover:before {color: black;}#sk-container-id-1 div.sk-estimator:hover label.sk-toggleable__label-arrow:before {color: black;}#sk-container-id-1 div.sk-toggleable__content {max-height: 0;max-width: 0;overflow: hidden;text-align: left;background-color: #f0f8ff;}#sk-container-id-1 div.sk-toggleable__content pre {margin: 0.2em;color: black;border-radius: 0.25em;background-color: #f0f8ff;}#sk-container-id-1 input.sk-toggleable__control:checked~div.sk-toggleable__content {max-height: 200px;max-width: 100%;overflow: auto;}#sk-container-id-1 input.sk-toggleable__control:checked~label.sk-toggleable__label-arrow:before {content: \"▾\";}#sk-container-id-1 div.sk-estimator input.sk-toggleable__control:checked~label.sk-toggleable__label {background-color: #d4ebff;}#sk-container-id-1 div.sk-label input.sk-toggleable__control:checked~label.sk-toggleable__label {background-color: #d4ebff;}#sk-container-id-1 input.sk-hidden--visually {border: 0;clip: rect(1px 1px 1px 1px);clip: rect(1px, 1px, 1px, 1px);height: 1px;margin: -1px;overflow: hidden;padding: 0;position: absolute;width: 1px;}#sk-container-id-1 div.sk-estimator {font-family: monospace;background-color: #f0f8ff;border: 1px dotted black;border-radius: 0.25em;box-sizing: border-box;margin-bottom: 0.5em;}#sk-container-id-1 div.sk-estimator:hover {background-color: #d4ebff;}#sk-container-id-1 div.sk-parallel-item::after {content: \"\";width: 100%;border-bottom: 1px solid gray;flex-grow: 1;}#sk-container-id-1 div.sk-label:hover label.sk-toggleable__label {background-color: #d4ebff;}#sk-container-id-1 div.sk-serial::before {content: \"\";position: absolute;border-left: 1px solid gray;box-sizing: border-box;top: 0;bottom: 0;left: 50%;z-index: 0;}#sk-container-id-1 div.sk-serial {display: flex;flex-direction: column;align-items: center;background-color: white;padding-right: 0.2em;padding-left: 0.2em;position: relative;}#sk-container-id-1 div.sk-item {position: relative;z-index: 1;}#sk-container-id-1 div.sk-parallel {display: flex;align-items: stretch;justify-content: center;background-color: white;position: relative;}#sk-container-id-1 div.sk-item::before, #sk-container-id-1 div.sk-parallel-item::before {content: \"\";position: absolute;border-left: 1px solid gray;box-sizing: border-box;top: 0;bottom: 0;left: 50%;z-index: -1;}#sk-container-id-1 div.sk-parallel-item {display: flex;flex-direction: column;z-index: 1;position: relative;background-color: white;}#sk-container-id-1 div.sk-parallel-item:first-child::after {align-self: flex-end;width: 50%;}#sk-container-id-1 div.sk-parallel-item:last-child::after {align-self: flex-start;width: 50%;}#sk-container-id-1 div.sk-parallel-item:only-child::after {width: 0;}#sk-container-id-1 div.sk-dashed-wrapped {border: 1px dashed gray;margin: 0 0.4em 0.5em 0.4em;box-sizing: border-box;padding-bottom: 0.4em;background-color: white;}#sk-container-id-1 div.sk-label label {font-family: monospace;font-weight: bold;display: inline-block;line-height: 1.2em;}#sk-container-id-1 div.sk-label-container {text-align: center;}#sk-container-id-1 div.sk-container {/* jupyter's `normalize.less` sets `[hidden] { display: none; }` but bootstrap.min.css set `[hidden] { display: none !important; }` so we also need the `!important` here to be able to override the default hidden behavior on the sphinx rendered scikit-learn.org. See: https://github.com/scikit-learn/scikit-learn/issues/21755 */display: inline-block !important;position: relative;}#sk-container-id-1 div.sk-text-repr-fallback {display: none;}</style><div id=\"sk-container-id-1\" class=\"sk-top-container\"><div class=\"sk-text-repr-fallback\"><pre>LogisticRegression(class_weight=&#x27;balanced&#x27;, penalty=&#x27;none&#x27;, solver=&#x27;newton-cg&#x27;)</pre><b>In a Jupyter environment, please rerun this cell to show the HTML representation or trust the notebook. <br />On GitHub, the HTML representation is unable to render, please try loading this page with nbviewer.org.</b></div><div class=\"sk-container\" hidden><div class=\"sk-item\"><div class=\"sk-estimator sk-toggleable\"><input class=\"sk-toggleable__control sk-hidden--visually\" id=\"sk-estimator-id-1\" type=\"checkbox\" checked><label for=\"sk-estimator-id-1\" class=\"sk-toggleable__label sk-toggleable__label-arrow\">LogisticRegression</label><div class=\"sk-toggleable__content\"><pre>LogisticRegression(class_weight=&#x27;balanced&#x27;, penalty=&#x27;none&#x27;, solver=&#x27;newton-cg&#x27;)</pre></div></div></div></div></div>"
      ],
      "text/plain": [
       "LogisticRegression(class_weight='balanced', penalty='none', solver='newton-cg')"
      ]
     },
     "execution_count": 5,
     "metadata": {},
     "output_type": "execute_result"
    }
   ],
   "source": []
  },
  {
   "cell_type": "markdown",
   "metadata": {},
   "source": [
    "### 2. RANDOM TREES"
   ]
  },
  {
   "cell_type": "code",
   "execution_count": 4,
   "metadata": {},
   "outputs": [],
   "source": [
    "from sklearn.ensemble import RandomForestRegressor\n",
    "rfr = RandomForestRegressor(n_estimators=5)\n",
    "rfr.fit(X_train, y_train)\n",
    "y_train_pred_rf = rfr.predict(X_train)\n",
    "y_val_pred_rf = rfr.predict(X_val)\n"
   ]
  },
  {
   "cell_type": "code",
   "execution_count": 1,
   "metadata": {},
   "outputs": [
    {
     "name": "stderr",
     "output_type": "stream",
     "text": [
      "/home/reubenaboye/anaconda3_2/envs/midterm_env/lib/python3.8/site-packages/scipy/__init__.py:146: UserWarning: A NumPy version >=1.16.5 and <1.23.0 is required for this version of SciPy (detected version 1.23.2\n",
      "  warnings.warn(f\"A NumPy version >={np_minversion} and <{np_maxversion}\"\n"
     ]
    },
    {
     "ename": "NameError",
     "evalue": "name 'X_train' is not defined",
     "output_type": "error",
     "traceback": [
      "\u001b[0;31m---------------------------------------------------------------------------\u001b[0m",
      "\u001b[0;31mNameError\u001b[0m                                 Traceback (most recent call last)",
      "\u001b[1;32m/home/reubenaboye/lighthouselabs/midterm-capstone/mid-term-project-I/modeling.ipynb Cell 32\u001b[0m in \u001b[0;36m<cell line: 8>\u001b[0;34m()\u001b[0m\n\u001b[1;32m      <a href='vscode-notebook-cell://wsl%2Bubuntu/home/reubenaboye/lighthouselabs/midterm-capstone/mid-term-project-I/modeling.ipynb#X43sdnNjb2RlLXJlbW90ZQ%3D%3D?line=4'>5</a>\u001b[0m rfc \u001b[39m=\u001b[39m RandomForestClassifier(random_state\u001b[39m=\u001b[39m\u001b[39m0\u001b[39m)\n\u001b[1;32m      <a href='vscode-notebook-cell://wsl%2Bubuntu/home/reubenaboye/lighthouselabs/midterm-capstone/mid-term-project-I/modeling.ipynb#X43sdnNjb2RlLXJlbW90ZQ%3D%3D?line=6'>7</a>\u001b[0m \u001b[39m# fit the model\u001b[39;00m\n\u001b[0;32m----> <a href='vscode-notebook-cell://wsl%2Bubuntu/home/reubenaboye/lighthouselabs/midterm-capstone/mid-term-project-I/modeling.ipynb#X43sdnNjb2RlLXJlbW90ZQ%3D%3D?line=7'>8</a>\u001b[0m rfc\u001b[39m.\u001b[39mfit(X_train, y_train)\n\u001b[1;32m     <a href='vscode-notebook-cell://wsl%2Bubuntu/home/reubenaboye/lighthouselabs/midterm-capstone/mid-term-project-I/modeling.ipynb#X43sdnNjb2RlLXJlbW90ZQ%3D%3D?line=9'>10</a>\u001b[0m \u001b[39m# predict the test set result\u001b[39;00m\n\u001b[1;32m     <a href='vscode-notebook-cell://wsl%2Bubuntu/home/reubenaboye/lighthouselabs/midterm-capstone/mid-term-project-I/modeling.ipynb#X43sdnNjb2RlLXJlbW90ZQ%3D%3D?line=10'>11</a>\u001b[0m y_pred \u001b[39m=\u001b[39m rfc\u001b[39m.\u001b[39mpredict(X_test)\n",
      "\u001b[0;31mNameError\u001b[0m: name 'X_train' is not defined"
     ]
    }
   ],
   "source": []
  },
  {
   "cell_type": "markdown",
   "metadata": {},
   "source": [
    "### Evaluation"
   ]
  },
  {
   "cell_type": "markdown",
   "metadata": {},
   "source": [
    "You have data from 2018 and 2019 to develop models. Use different evaluation metrics for each problem and compare the performance of different models.\n",
    "\n",
    "You are required to predict delays on **out of sample** data from **first 7 days (1st-7th) of January 2020** and to share the file with LighthouseLabs. Sample submission can be found in the file **_sample_submission.csv_**"
   ]
  },
  {
   "cell_type": "markdown",
   "metadata": {},
   "source": [
    "##### **Linear Regression Evaluation**"
   ]
  },
  {
   "cell_type": "code",
   "execution_count": 7,
   "metadata": {},
   "outputs": [
    {
     "name": "stderr",
     "output_type": "stream",
     "text": [
      "/home/reubenaboye/anaconda3_2/envs/midterm_env/lib/python3.8/site-packages/sklearn/utils/deprecation.py:87: FutureWarning: Function plot_roc_curve is deprecated; Function :func:`plot_roc_curve` is deprecated in 1.0 and will be removed in 1.2. Use one of the class methods: :meth:`sklearn.metric.RocCurveDisplay.from_predictions` or :meth:`sklearn.metric.RocCurveDisplay.from_estimator`.\n",
      "  warnings.warn(msg, category=FutureWarning)\n",
      "/home/reubenaboye/anaconda3_2/envs/midterm_env/lib/python3.8/site-packages/sklearn/utils/deprecation.py:87: FutureWarning: Function plot_precision_recall_curve is deprecated; Function `plot_precision_recall_curve` is deprecated in 1.0 and will be removed in 1.2. Use one of the class methods: PrecisionRecallDisplay.from_predictions or PrecisionRecallDisplay.from_estimator.\n",
      "  warnings.warn(msg, category=FutureWarning)\n"
     ]
    },
    {
     "data": {
      "image/png": "[encoded data removed]",
      "text/plain": [
       "<Figure size 640x480 with 1 Axes>"
      ]
     },
     "metadata": {},
     "output_type": "display_data"
    },
    {
     "data": {
      "image/png": "[encoded data removed]",
      "text/plain": [
       "<Figure size 640x480 with 1 Axes>"
      ]
     },
     "metadata": {},
     "output_type": "display_data"
    }
   ],
   "source": [
    "# V. MODEL EVALUATION==========================================================================================================================================\n",
    "\n",
    "# LINEAR REGRESSIOn\n",
    "from sklearn.metrics import r2_score\n",
    "print('R^2 train: %.3f, validation: %.3f' %\n",
    "(r2_score(y_train, y_train_pred),\n",
    "r2_score(y_val, y_val_pred)))\n",
    "#R^2 train: 0.015, validation: 0.012\n",
    "print('MSE train: %.3f, test: %.3f' %(\n",
    "    mean_squared_error(y_train,y_train_pred),\n",
    "    mean_squared_error(y_val, y_val_pred)\n",
    "))\n",
    "# MSE train: 2448.770, test: 2567.939\n",
    "\n",
    "#print('Test Accuracy %.3f' % pipe_lr.score(X_val, y_val))\n",
    "    # Test accuract is 0.012\n",
    "        # implication: we are underfitting\n",
    "        # sol'n polynomial regression\n",
    "\n",
    "\n"
   ]
  },
  {
   "cell_type": "markdown",
   "metadata": {},
   "source": [
    "#### Random Trees Evaluation"
   ]
  },
  {
   "cell_type": "code",
   "execution_count": null,
   "metadata": {},
   "outputs": [],
   "source": [
    "print('R^2 train: %.3f, validation: %.3f' %\n",
    "(r2_score(y_train, y_train_pred_rf),\n",
    "r2_score(y_val, y_val_pred_rf)))"
   ]
  },
  {
   "cell_type": "code",
   "execution_count": null,
   "metadata": {},
   "outputs": [],
   "source": []
  },
  {
   "cell_type": "markdown",
   "metadata": {},
   "source": [
    "======================================================================\n",
    "## Stretch Tasks"
   ]
  },
  {
   "cell_type": "markdown",
   "metadata": {},
   "source": [
    "### Multiclass Classification"
   ]
  },
  {
   "cell_type": "markdown",
   "metadata": {},
   "source": [
    "The target variables are **CARRIER_DELAY, WEATHER_DELAY, NAS_DELAY, SECURITY_DELAY, LATE_AIRCRAFT_DELAY**. We need to do additional transformations because these variables are not binary but continuos. For each flight that was delayed, we need to have one of these variables as 1 and others 0.\n",
    "\n",
    "It can happen that we have two types of delays with more than 0 minutes. In this case, take the bigger one as 1 and others as 0."
   ]
  },
  {
   "cell_type": "code",
   "execution_count": null,
   "metadata": {},
   "outputs": [],
   "source": []
  },
  {
   "cell_type": "code",
   "execution_count": null,
   "metadata": {},
   "outputs": [],
   "source": []
  },
  {
   "cell_type": "code",
   "execution_count": null,
   "metadata": {},
   "outputs": [],
   "source": []
  },
  {
   "cell_type": "markdown",
   "metadata": {},
   "source": [
    "### Binary Classification"
   ]
  },
  {
   "cell_type": "markdown",
   "metadata": {},
   "source": [
    "The target variable is **CANCELLED**. The main problem here is going to be huge class imbalance. We have only very little cancelled flights with comparison to all flights. It is important to do the right sampling before training and to choose correct evaluation metrics."
   ]
  },
  {
   "cell_type": "code",
   "execution_count": null,
   "metadata": {},
   "outputs": [],
   "source": []
  },
  {
   "cell_type": "code",
   "execution_count": null,
   "metadata": {},
   "outputs": [],
   "source": []
  },
  {
   "cell_type": "code",
   "execution_count": null,
   "metadata": {},
   "outputs": [],
   "source": []
  }
 ],
 "metadata": {
  "kernelspec": {
   "display_name": "Python 3.8.13",
   "language": "python",
   "name": "python3"
  },
  "language_info": {
   "codemirror_mode": {
    "name": "ipython",
    "version": 3
   },
   "file_extension": ".py",
   "mimetype": "text/x-python",
   "name": "python",
   "nbconvert_exporter": "python",
   "pygments_lexer": "ipython3",
   "version": "3.8.13"
  },
  "vscode": {
   "interpreter": {
    "hash": "b166b41c63b319703b43fbfdad6fc1c2d3d8a8df599d0cf6fdbe58174333ea47"
   }
  }
 },
 "nbformat": 4,
 "nbformat_minor": 4
}
