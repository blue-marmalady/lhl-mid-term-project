{
 "cells": [
  {
   "cell_type": "markdown",
   "metadata": {},
   "source": [
    "## Exploratory Data Analysis\n",
    "\n",
    "Use this notebook to get familiar with the datasets we have. There is 10 questions we need to answer during the EDA.\n",
    "\n",
    "\n",
    "We shouldn't limit our EDA to these 10 questions. Let's be creative :)."
   ]
  },
  {
   "cell_type": "markdown",
   "metadata": {},
   "source": [
    "Below, we will select the entire table for a certain number of random entries and work with that, since the table \"flights\" has like 16 million entries..."
   ]
  },
  {
   "cell_type": "code",
   "execution_count": 79,
   "metadata": {},
   "outputs": [],
   "source": [
    "import pandas as pd\n",
    "import numpy as np\n",
    "import matplotlib.pyplot as plt\n",
    "import seaborn as sns"
   ]
  },
  {
   "cell_type": "code",
   "execution_count": 193,
   "metadata": {},
   "outputs": [],
   "source": [
    "flight_delay = pd.read_csv(\"flight_information.csv\")"
   ]
  },
  {
   "cell_type": "code",
   "execution_count": 195,
   "metadata": {},
   "outputs": [],
   "source": [
    "# Some feature engineering/data prep\n",
    "flight_delay['arr_delay'] = flight_delay[\"arr_delay\"].fillna(0)\n",
    "flight_delay[\"dep_delay\"] = flight_delay[\"dep_delay\"].fillna(0)"
   ]
  },
  {
   "cell_type": "markdown",
   "metadata": {},
   "source": [
    "#### **Task 1**: Test the hypothesis that the delay is from Normal distribution. and that **mean** of the delay is 0. Be careful about the outliers."
   ]
  },
  {
   "cell_type": "code",
   "execution_count": 157,
   "metadata": {},
   "outputs": [
    {
     "name": "stdout",
     "output_type": "stream",
     "text": [
      "The mean flight delay is 4.5 minutes.\n",
      "If we only consider delayed flights, the mean flight delay is 37.4 minutes.\n"
     ]
    },
    {
     "data": {
      "text/plain": [
       "<AxesSubplot:xlabel='arr_delay'>"
      ]
     },
     "execution_count": 157,
     "metadata": {},
     "output_type": "execute_result"
    },
    {
     "data": {
      "image/png": "[encoded data removed]",
      "text/plain": [
       "<Figure size 640x480 with 1 Axes>"
      ]
     },
     "metadata": {},
     "output_type": "display_data"
    }
   ],
   "source": [
    "import seaborn as sns\n",
    "\n",
    "delay = flight_delay['arr_delay'].mean()\n",
    "actual_delay = flight_delay[flight_delay['arr_delay']>0]['arr_delay'].mean()\n",
    "\n",
    "print(f'The mean flight delay is {delay:.1f} minutes.')\n",
    "print(f'If we only consider delayed flights, the mean flight delay is {actual_delay:.1f} minutes.')\n",
    "        \n",
    "sns.boxenplot(data = flight_delay, x = \"arr_delay\")\n"
   ]
  },
  {
   "cell_type": "code",
   "execution_count": 92,
   "metadata": {},
   "outputs": [
    {
     "name": "stderr",
     "output_type": "stream",
     "text": [
      "/home/marcjb/anaconda3/envs/lhl_env/lib/python3.9/site-packages/pandas/core/arraylike.py:397: RuntimeWarning: divide by zero encountered in log10\n",
      "  result = getattr(ufunc, method)(*inputs, **kwargs)\n",
      "/home/marcjb/anaconda3/envs/lhl_env/lib/python3.9/site-packages/pandas/core/arraylike.py:397: RuntimeWarning: invalid value encountered in log10\n",
      "  result = getattr(ufunc, method)(*inputs, **kwargs)\n"
     ]
    }
   ],
   "source": [
    "flight_delay['log delay'] = np.log10(flight_delay['arr_delay'])"
   ]
  },
  {
   "cell_type": "code",
   "execution_count": 94,
   "metadata": {},
   "outputs": [
    {
     "data": {
      "text/plain": [
       "<AxesSubplot:xlabel='log delay', ylabel='Count'>"
      ]
     },
     "execution_count": 94,
     "metadata": {},
     "output_type": "execute_result"
    },
    {
     "data": {
      "image/png": "[encoded data removed]",
      "text/plain": [
       "<Figure size 640x480 with 1 Axes>"
      ]
     },
     "metadata": {},
     "output_type": "display_data"
    }
   ],
   "source": [
    "sns.histplot(data = flight_delay, x = \"log delay\", bins = 100)\n",
    "#Actual log scale\n",
    "# sns.histplot(data = flight_delay, x = \"arr_delay\", bins = 100, log_scale= True)"
   ]
  },
  {
   "cell_type": "markdown",
   "metadata": {},
   "source": [
    "#### **Task 2**: Is average/median monthly delay different during the year? If yes, which are months with the biggest delays and what could be the reason?"
   ]
  },
  {
   "cell_type": "code",
   "execution_count": 175,
   "metadata": {},
   "outputs": [],
   "source": [
    "df = flight_delay[['fl_date', 'arr_delay']]"
   ]
  },
  {
   "cell_type": "code",
   "execution_count": 176,
   "metadata": {},
   "outputs": [
    {
     "name": "stderr",
     "output_type": "stream",
     "text": [
      "/tmp/ipykernel_46478/4187747994.py:1: SettingWithCopyWarning: \n",
      "A value is trying to be set on a copy of a slice from a DataFrame.\n",
      "Try using .loc[row_indexer,col_indexer] = value instead\n",
      "\n",
      "See the caveats in the documentation: https://pandas.pydata.org/pandas-docs/stable/user_guide/indexing.html#returning-a-view-versus-a-copy\n",
      "  df['month']= pd.DatetimeIndex(df['fl_date']).month\n"
     ]
    },
    {
     "data": {
      "text/html": [
       "<div>\n",
       "<style scoped>\n",
       "    .dataframe tbody tr th:only-of-type {\n",
       "        vertical-align: middle;\n",
       "    }\n",
       "\n",
       "    .dataframe tbody tr th {\n",
       "        vertical-align: top;\n",
       "    }\n",
       "\n",
       "    .dataframe thead th {\n",
       "        text-align: right;\n",
       "    }\n",
       "</style>\n",
       "<table border=\"1\" class=\"dataframe\">\n",
       "  <thead>\n",
       "    <tr style=\"text-align: right;\">\n",
       "      <th></th>\n",
       "      <th>arr_delay</th>\n",
       "    </tr>\n",
       "    <tr>\n",
       "      <th>month</th>\n",
       "      <th></th>\n",
       "    </tr>\n",
       "  </thead>\n",
       "  <tbody>\n",
       "    <tr>\n",
       "      <th>1</th>\n",
       "      <td>43.536058</td>\n",
       "    </tr>\n",
       "    <tr>\n",
       "      <th>2</th>\n",
       "      <td>43.995370</td>\n",
       "    </tr>\n",
       "    <tr>\n",
       "      <th>3</th>\n",
       "      <td>46.245146</td>\n",
       "    </tr>\n",
       "    <tr>\n",
       "      <th>4</th>\n",
       "      <td>44.392344</td>\n",
       "    </tr>\n",
       "    <tr>\n",
       "      <th>5</th>\n",
       "      <td>50.243243</td>\n",
       "    </tr>\n",
       "    <tr>\n",
       "      <th>6</th>\n",
       "      <td>55.893309</td>\n",
       "    </tr>\n",
       "    <tr>\n",
       "      <th>7</th>\n",
       "      <td>52.119374</td>\n",
       "    </tr>\n",
       "    <tr>\n",
       "      <th>8</th>\n",
       "      <td>54.094697</td>\n",
       "    </tr>\n",
       "    <tr>\n",
       "      <th>9</th>\n",
       "      <td>41.329480</td>\n",
       "    </tr>\n",
       "    <tr>\n",
       "      <th>10</th>\n",
       "      <td>35.471464</td>\n",
       "    </tr>\n",
       "    <tr>\n",
       "      <th>11</th>\n",
       "      <td>42.275862</td>\n",
       "    </tr>\n",
       "    <tr>\n",
       "      <th>12</th>\n",
       "      <td>47.624754</td>\n",
       "    </tr>\n",
       "  </tbody>\n",
       "</table>\n",
       "</div>"
      ],
      "text/plain": [
       "       arr_delay\n",
       "month           \n",
       "1      43.536058\n",
       "2      43.995370\n",
       "3      46.245146\n",
       "4      44.392344\n",
       "5      50.243243\n",
       "6      55.893309\n",
       "7      52.119374\n",
       "8      54.094697\n",
       "9      41.329480\n",
       "10     35.471464\n",
       "11     42.275862\n",
       "12     47.624754"
      ]
     },
     "execution_count": 176,
     "metadata": {},
     "output_type": "execute_result"
    }
   ],
   "source": [
    "df['month']= pd.DatetimeIndex(df['fl_date']).month\n",
    "\n",
    "#Looking only at delays\n",
    "delay_df = df[df['arr_delay']>5].reset_index(drop=True)\n",
    "# df\n",
    "delay_df.groupby('month').mean()"
   ]
  },
  {
   "cell_type": "markdown",
   "metadata": {},
   "source": [
    "Seems like Summer months have largest delays. Are those also the months with the highest number of flights? Let's check..."
   ]
  },
  {
   "cell_type": "code",
   "execution_count": 9,
   "metadata": {},
   "outputs": [
    {
     "data": {
      "text/plain": [
       "month\n",
       "1     1530\n",
       "2     1416\n",
       "3     1741\n",
       "4     1626\n",
       "5     1783\n",
       "6     1714\n",
       "7     1809\n",
       "8     1748\n",
       "9     1600\n",
       "10    1707\n",
       "11    1658\n",
       "12    1668\n",
       "Name: fl_date, dtype: int64"
      ]
     },
     "execution_count": 9,
     "metadata": {},
     "output_type": "execute_result"
    }
   ],
   "source": [
    "df.groupby('month')['fl_date'].count()"
   ]
  },
  {
   "cell_type": "markdown",
   "metadata": {},
   "source": [
    "Looks like it...hmmm"
   ]
  },
  {
   "cell_type": "code",
   "execution_count": 177,
   "metadata": {},
   "outputs": [
    {
     "data": {
      "text/html": [
       "<div>\n",
       "<style scoped>\n",
       "    .dataframe tbody tr th:only-of-type {\n",
       "        vertical-align: middle;\n",
       "    }\n",
       "\n",
       "    .dataframe tbody tr th {\n",
       "        vertical-align: top;\n",
       "    }\n",
       "\n",
       "    .dataframe thead th {\n",
       "        text-align: right;\n",
       "    }\n",
       "</style>\n",
       "<table border=\"1\" class=\"dataframe\">\n",
       "  <thead>\n",
       "    <tr style=\"text-align: right;\">\n",
       "      <th></th>\n",
       "      <th>total_delays</th>\n",
       "      <th>total_flights</th>\n",
       "      <th>percent_delayed</th>\n",
       "    </tr>\n",
       "    <tr>\n",
       "      <th>month</th>\n",
       "      <th></th>\n",
       "      <th></th>\n",
       "      <th></th>\n",
       "    </tr>\n",
       "  </thead>\n",
       "  <tbody>\n",
       "    <tr>\n",
       "      <th>6</th>\n",
       "      <td>349</td>\n",
       "      <td>1714</td>\n",
       "      <td>0.203617</td>\n",
       "    </tr>\n",
       "    <tr>\n",
       "      <th>8</th>\n",
       "      <td>338</td>\n",
       "      <td>1748</td>\n",
       "      <td>0.193364</td>\n",
       "    </tr>\n",
       "    <tr>\n",
       "      <th>12</th>\n",
       "      <td>302</td>\n",
       "      <td>1668</td>\n",
       "      <td>0.181055</td>\n",
       "    </tr>\n",
       "    <tr>\n",
       "      <th>7</th>\n",
       "      <td>320</td>\n",
       "      <td>1809</td>\n",
       "      <td>0.176893</td>\n",
       "    </tr>\n",
       "    <tr>\n",
       "      <th>2</th>\n",
       "      <td>248</td>\n",
       "      <td>1416</td>\n",
       "      <td>0.175141</td>\n",
       "    </tr>\n",
       "    <tr>\n",
       "      <th>5</th>\n",
       "      <td>300</td>\n",
       "      <td>1783</td>\n",
       "      <td>0.168256</td>\n",
       "    </tr>\n",
       "    <tr>\n",
       "      <th>11</th>\n",
       "      <td>242</td>\n",
       "      <td>1658</td>\n",
       "      <td>0.145959</td>\n",
       "    </tr>\n",
       "    <tr>\n",
       "      <th>1</th>\n",
       "      <td>222</td>\n",
       "      <td>1530</td>\n",
       "      <td>0.145098</td>\n",
       "    </tr>\n",
       "    <tr>\n",
       "      <th>4</th>\n",
       "      <td>230</td>\n",
       "      <td>1626</td>\n",
       "      <td>0.141451</td>\n",
       "    </tr>\n",
       "    <tr>\n",
       "      <th>9</th>\n",
       "      <td>198</td>\n",
       "      <td>1600</td>\n",
       "      <td>0.123750</td>\n",
       "    </tr>\n",
       "    <tr>\n",
       "      <th>3</th>\n",
       "      <td>211</td>\n",
       "      <td>1741</td>\n",
       "      <td>0.121195</td>\n",
       "    </tr>\n",
       "    <tr>\n",
       "      <th>10</th>\n",
       "      <td>202</td>\n",
       "      <td>1707</td>\n",
       "      <td>0.118336</td>\n",
       "    </tr>\n",
       "  </tbody>\n",
       "</table>\n",
       "</div>"
      ],
      "text/plain": [
       "       total_delays  total_flights  percent_delayed\n",
       "month                                              \n",
       "6               349           1714         0.203617\n",
       "8               338           1748         0.193364\n",
       "12              302           1668         0.181055\n",
       "7               320           1809         0.176893\n",
       "2               248           1416         0.175141\n",
       "5               300           1783         0.168256\n",
       "11              242           1658         0.145959\n",
       "1               222           1530         0.145098\n",
       "4               230           1626         0.141451\n",
       "9               198           1600         0.123750\n",
       "3               211           1741         0.121195\n",
       "10              202           1707         0.118336"
      ]
     },
     "execution_count": 177,
     "metadata": {},
     "output_type": "execute_result"
    }
   ],
   "source": [
    "flight_delay_time = 20\n",
    "delay = df[df['arr_delay']>flight_delay_time].groupby('month').count().sort_values(by=['arr_delay'], ascending=False)\n",
    "total = df.groupby('month').count().sort_values(by=['arr_delay'], ascending=False)\n",
    "\n",
    "mon_df = pd.merge(delay, total, how = \"inner\", on='month')\n",
    "mon_df = mon_df.rename(columns={'arr_delay_x': \"total_delays\", 'arr_delay_y': \"total_flights\"})\n",
    "mon_df = mon_df.drop(columns=['fl_date_x', 'fl_date_y'])\n",
    "mon_df['percent_delayed'] = mon_df['total_delays']/mon_df['total_flights']\n",
    "\n",
    "mon_df.sort_values(by=['percent_delayed'], ascending=False)"
   ]
  },
  {
   "cell_type": "markdown",
   "metadata": {},
   "source": [
    "#### **Task 3**: Does the weather affect the delay? \n",
    "Use the API to pull the weather information for flights. There is no need to get weather for ALL flights. We can choose the right representative sample. Let's focus on four weather types:\n",
    "- sunny\n",
    "- cloudy\n",
    "- rainy\n",
    "- snow.\n",
    "Test the hypothesis that these 4 delays are from the same distribution. If they are not, which ones are significantly different?"
   ]
  },
  {
   "cell_type": "code",
   "execution_count": null,
   "metadata": {},
   "outputs": [],
   "source": []
  },
  {
   "cell_type": "code",
   "execution_count": null,
   "metadata": {},
   "outputs": [],
   "source": []
  },
  {
   "cell_type": "markdown",
   "metadata": {},
   "source": [
    "#### **Task 4**: How taxi times changing during the day? Does higher traffic lead to bigger taxi times?"
   ]
  },
  {
   "cell_type": "code",
   "execution_count": 178,
   "metadata": {},
   "outputs": [],
   "source": [
    "df = flight_delay[['crs_dep_time', 'arr_delay', 'taxi_out']]"
   ]
  },
  {
   "cell_type": "code",
   "execution_count": 179,
   "metadata": {},
   "outputs": [
    {
     "name": "stderr",
     "output_type": "stream",
     "text": [
      "/tmp/ipykernel_46478/2251038840.py:1: SettingWithCopyWarning: \n",
      "A value is trying to be set on a copy of a slice from a DataFrame.\n",
      "Try using .loc[row_indexer,col_indexer] = value instead\n",
      "\n",
      "See the caveats in the documentation: https://pandas.pydata.org/pandas-docs/stable/user_guide/indexing.html#returning-a-view-versus-a-copy\n",
      "  df['hr_dep'] = df['crs_dep_time'] // 100 #Extract the hour of departure\n"
     ]
    }
   ],
   "source": [
    "df['hr_dep'] = df['crs_dep_time'] // 100 #Extract the hour of departure\n",
    "df_dep = df.groupby(\"hr_dep\")['taxi_out'].mean()"
   ]
  },
  {
   "cell_type": "code",
   "execution_count": 180,
   "metadata": {},
   "outputs": [
    {
     "data": {
      "text/plain": [
       "<AxesSubplot:xlabel='crs_dep_time', ylabel='Count'>"
      ]
     },
     "execution_count": 180,
     "metadata": {},
     "output_type": "execute_result"
    },
    {
     "data": {
      "image/png": "[encoded data removed]",
      "text/plain": [
       "<Figure size 640x480 with 1 Axes>"
      ]
     },
     "metadata": {},
     "output_type": "display_data"
    }
   ],
   "source": [
    "sns.histplot(data = df, x = \"crs_dep_time\",bins = 24, label = \"Departure time\", kde=True)"
   ]
  },
  {
   "cell_type": "code",
   "execution_count": 181,
   "metadata": {},
   "outputs": [
    {
     "data": {
      "text/plain": [
       "<AxesSubplot:xlabel='taxi_out', ylabel='Count'>"
      ]
     },
     "execution_count": 181,
     "metadata": {},
     "output_type": "execute_result"
    },
    {
     "data": {
      "image/png": "[encoded data removed]",
      "text/plain": [
       "<Figure size 640x480 with 1 Axes>"
      ]
     },
     "metadata": {},
     "output_type": "display_data"
    }
   ],
   "source": [
    "sns.histplot(data = df, x = \"taxi_out\", label = \"Taxi time on outgoing\", kde=True)"
   ]
  },
  {
   "cell_type": "code",
   "execution_count": 182,
   "metadata": {},
   "outputs": [
    {
     "data": {
      "text/plain": [
       "Text(0, 0.5, 'Arrival delay')"
      ]
     },
     "execution_count": 182,
     "metadata": {},
     "output_type": "execute_result"
    },
    {
     "data": {
      "image/png": "[encoded data removed]",
      "text/plain": [
       "<Figure size 640x480 with 1 Axes>"
      ]
     },
     "metadata": {},
     "output_type": "display_data"
    }
   ],
   "source": [
    "plt.scatter(df['taxi_out'], df['arr_delay'])\n",
    "plt.xlabel(\"Taxi time on departure\")\n",
    "plt.ylabel(\"Arrival delay\")"
   ]
  },
  {
   "cell_type": "code",
   "execution_count": 183,
   "metadata": {},
   "outputs": [
    {
     "data": {
      "text/plain": [
       "hr_dep\n",
       "1     0.250000\n",
       "22    0.238289\n",
       "20    0.232891\n",
       "19    0.228290\n",
       "18    0.224365\n",
       "17    0.214450\n",
       "15    0.213278\n",
       "21    0.194662\n",
       "14    0.180651\n",
       "16    0.175472\n",
       "0     0.173077\n",
       "13    0.162116\n",
       "12    0.146283\n",
       "3     0.142857\n",
       "10    0.131643\n",
       "11    0.126126\n",
       "23    0.120690\n",
       "9     0.115188\n",
       "7     0.101523\n",
       "8     0.100884\n",
       "6     0.065562\n",
       "5     0.054167\n",
       "Name: percent_delayed, dtype: float64"
      ]
     },
     "execution_count": 183,
     "metadata": {},
     "output_type": "execute_result"
    }
   ],
   "source": [
    "# Does time of day affect delays?\n",
    "flight_delay_time = 20\n",
    "delay = df[df['arr_delay']>flight_delay_time].groupby('hr_dep').count().sort_values(by=['arr_delay'], ascending=False)\n",
    "total = df.groupby('hr_dep').count().sort_values(by=['arr_delay'], ascending=False)\n",
    "\n",
    "mon_df = pd.merge(delay, total, how = \"inner\", on='hr_dep')\n",
    "mon_df = mon_df.rename(columns={'arr_delay_x': \"total_delays\", 'arr_delay_y': \"total_flights\"})\n",
    "mon_df['percent_delayed'] = mon_df['total_delays']/mon_df['total_flights']\n",
    "mon_df.sort_values(by=['percent_delayed'], ascending=False)['percent_delayed']"
   ]
  },
  {
   "cell_type": "markdown",
   "metadata": {},
   "source": [
    "#### **Task 5**: What is the average percentage of delays that is already created before departure? (aka are arrival delays caused by departure delays?) Are airlines able to lower the delay during the flights?\n",
    "\n"
   ]
  },
  {
   "cell_type": "code",
   "execution_count": 188,
   "metadata": {},
   "outputs": [
    {
     "name": "stderr",
     "output_type": "stream",
     "text": [
      "/tmp/ipykernel_46478/132089407.py:2: SettingWithCopyWarning: \n",
      "A value is trying to be set on a copy of a slice from a DataFrame.\n",
      "Try using .loc[row_indexer,col_indexer] = value instead\n",
      "\n",
      "See the caveats in the documentation: https://pandas.pydata.org/pandas-docs/stable/user_guide/indexing.html#returning-a-view-versus-a-copy\n",
      "  int_df[\"arr_dep_delay_diff\"] = int_df['arr_delay'] - int_df['dep_delay']\n"
     ]
    },
    {
     "data": {
      "text/plain": [
       "count    6986.000000\n",
       "mean        2.854280\n",
       "std        16.252621\n",
       "min       -55.000000\n",
       "25%        -8.000000\n",
       "50%         2.000000\n",
       "75%        11.000000\n",
       "max       141.000000\n",
       "Name: arr_dep_delay_diff, dtype: float64"
      ]
     },
     "execution_count": 188,
     "metadata": {},
     "output_type": "execute_result"
    }
   ],
   "source": [
    "int_df = flight_delay[flight_delay['arr_delay'] > 0]\n",
    "int_df[\"arr_dep_delay_diff\"] = int_df['arr_delay'] - int_df['dep_delay']\n",
    "delay_diff = int_df[\"arr_dep_delay_diff\"] \n",
    "delay_diff.describe()"
   ]
  },
  {
   "cell_type": "code",
   "execution_count": 189,
   "metadata": {},
   "outputs": [
    {
     "data": {
      "text/plain": [
       "<AxesSubplot:xlabel='arr_dep_delay_diff', ylabel='Count'>"
      ]
     },
     "execution_count": 189,
     "metadata": {},
     "output_type": "execute_result"
    },
    {
     "data": {
      "image/png": "[encoded data removed]",
      "text/plain": [
       "<Figure size 640x480 with 1 Axes>"
      ]
     },
     "metadata": {},
     "output_type": "display_data"
    }
   ],
   "source": [
    "sns.histplot(data = delay_diff,  bins = 100)"
   ]
  },
  {
   "cell_type": "markdown",
   "metadata": {},
   "source": [
    "So generally, departure delay will have a similar arrival delay, within about 15 minutes. Try a scatter plot though..."
   ]
  },
  {
   "cell_type": "code",
   "execution_count": 190,
   "metadata": {},
   "outputs": [
    {
     "data": {
      "text/plain": [
       "Text(0, 0.5, 'Arrival Delay')"
      ]
     },
     "execution_count": 190,
     "metadata": {},
     "output_type": "execute_result"
    },
    {
     "data": {
      "image/png": "[encoded data removed]",
      "text/plain": [
       "<Figure size 640x480 with 1 Axes>"
      ]
     },
     "metadata": {},
     "output_type": "display_data"
    }
   ],
   "source": [
    "from sklearn.linear_model import LinearRegression\n",
    "\n",
    "\n",
    "x = np.array(flight_delay['dep_delay'])\n",
    "y = np.array(flight_delay['arr_delay'])\n",
    "#We'll plot the regression, so let's do it first\n",
    "reg = LinearRegression().fit(x.reshape(-1,1), y)\n",
    "b = reg.intercept_\n",
    "m = reg.coef_[0]\n",
    "plt.axline(xy1=(0, b), slope=m, label=f'$y = {m:.1f}x {b:+.1f}$')\n",
    "plt.scatter(flight_delay['dep_delay'], flight_delay['arr_delay'])\n",
    "plt.legend(fontsize=12)\n",
    "plt.xlabel(\"Departure Delay\")\n",
    "plt.ylabel(\"Arrival Delay\")"
   ]
  },
  {
   "cell_type": "markdown",
   "metadata": {},
   "source": [
    "#### **Task 6**: How many states cover 50% of US air traffic? "
   ]
  },
  {
   "cell_type": "code",
   "execution_count": null,
   "metadata": {},
   "outputs": [],
   "source": []
  },
  {
   "cell_type": "code",
   "execution_count": null,
   "metadata": {},
   "outputs": [],
   "source": []
  },
  {
   "cell_type": "markdown",
   "metadata": {},
   "source": [
    "#### **Task 7**: Test the hypothesis whether planes fly faster when there is the departure delay? \n",
    "\n",
    "- We'll use T-test for this..."
   ]
  },
  {
   "cell_type": "code",
   "execution_count": 198,
   "metadata": {},
   "outputs": [
    {
     "name": "stdout",
     "output_type": "stream",
     "text": [
      "Ttest_indResult(statistic=-0.4359023962813644, pvalue=0.6629192895085847)\n"
     ]
    }
   ],
   "source": [
    "import scipy.stats as st\n",
    "\n",
    "flight_delay[\"arr_dep_delay_diff\"] = flight_delay['arr_delay'] - flight_delay['dep_delay']\n",
    "#I picked less than 5 minutes delay as \"no delay\"...I mean, it's 5 minutes.\n",
    "no_delay = flight_delay[flight_delay['dep_delay'] < 5]\n",
    "delay = flight_delay[flight_delay['dep_delay'] > 5]\n",
    "delay_ttest = st.ttest_ind(no_delay.arr_dep_delay_diff, delay.arr_dep_delay_diff, equal_var=False )\n",
    "print(delay_ttest)"
   ]
  },
  {
   "cell_type": "markdown",
   "metadata": {},
   "source": [
    "No difference (very high p-value). Look at data, just to be sure (mean of delay_diff is the relavant variable)"
   ]
  },
  {
   "cell_type": "code",
   "execution_count": 199,
   "metadata": {},
   "outputs": [
    {
     "data": {
      "text/html": [
       "<div>\n",
       "<style scoped>\n",
       "    .dataframe tbody tr th:only-of-type {\n",
       "        vertical-align: middle;\n",
       "    }\n",
       "\n",
       "    .dataframe tbody tr th {\n",
       "        vertical-align: top;\n",
       "    }\n",
       "\n",
       "    .dataframe thead th {\n",
       "        text-align: right;\n",
       "    }\n",
       "</style>\n",
       "<table border=\"1\" class=\"dataframe\">\n",
       "  <thead>\n",
       "    <tr style=\"text-align: right;\">\n",
       "      <th></th>\n",
       "      <th>dep_delay</th>\n",
       "      <th>arr_dep_delay_diff</th>\n",
       "    </tr>\n",
       "  </thead>\n",
       "  <tbody>\n",
       "    <tr>\n",
       "      <th>count</th>\n",
       "      <td>14531.000000</td>\n",
       "      <td>14531.000000</td>\n",
       "    </tr>\n",
       "    <tr>\n",
       "      <th>mean</th>\n",
       "      <td>-4.341133</td>\n",
       "      <td>-5.211685</td>\n",
       "    </tr>\n",
       "    <tr>\n",
       "      <th>std</th>\n",
       "      <td>4.001703</td>\n",
       "      <td>12.478813</td>\n",
       "    </tr>\n",
       "    <tr>\n",
       "      <th>min</th>\n",
       "      <td>-33.000000</td>\n",
       "      <td>-69.000000</td>\n",
       "    </tr>\n",
       "    <tr>\n",
       "      <th>25%</th>\n",
       "      <td>-7.000000</td>\n",
       "      <td>-12.000000</td>\n",
       "    </tr>\n",
       "    <tr>\n",
       "      <th>50%</th>\n",
       "      <td>-4.000000</td>\n",
       "      <td>-6.000000</td>\n",
       "    </tr>\n",
       "    <tr>\n",
       "      <th>75%</th>\n",
       "      <td>-2.000000</td>\n",
       "      <td>1.000000</td>\n",
       "    </tr>\n",
       "    <tr>\n",
       "      <th>max</th>\n",
       "      <td>4.000000</td>\n",
       "      <td>135.000000</td>\n",
       "    </tr>\n",
       "  </tbody>\n",
       "</table>\n",
       "</div>"
      ],
      "text/plain": [
       "          dep_delay  arr_dep_delay_diff\n",
       "count  14531.000000        14531.000000\n",
       "mean      -4.341133           -5.211685\n",
       "std        4.001703           12.478813\n",
       "min      -33.000000          -69.000000\n",
       "25%       -7.000000          -12.000000\n",
       "50%       -4.000000           -6.000000\n",
       "75%       -2.000000            1.000000\n",
       "max        4.000000          135.000000"
      ]
     },
     "execution_count": 199,
     "metadata": {},
     "output_type": "execute_result"
    }
   ],
   "source": [
    "no_delay_check = no_delay[['dep_delay', 'arr_dep_delay_diff']]\n",
    "no_delay_check.describe()"
   ]
  },
  {
   "cell_type": "code",
   "execution_count": 200,
   "metadata": {},
   "outputs": [
    {
     "data": {
      "text/html": [
       "<div>\n",
       "<style scoped>\n",
       "    .dataframe tbody tr th:only-of-type {\n",
       "        vertical-align: middle;\n",
       "    }\n",
       "\n",
       "    .dataframe tbody tr th {\n",
       "        vertical-align: top;\n",
       "    }\n",
       "\n",
       "    .dataframe thead th {\n",
       "        text-align: right;\n",
       "    }\n",
       "</style>\n",
       "<table border=\"1\" class=\"dataframe\">\n",
       "  <thead>\n",
       "    <tr style=\"text-align: right;\">\n",
       "      <th></th>\n",
       "      <th>dep_delay</th>\n",
       "      <th>arr_dep_delay_diff</th>\n",
       "    </tr>\n",
       "  </thead>\n",
       "  <tbody>\n",
       "    <tr>\n",
       "      <th>count</th>\n",
       "      <td>5266.000000</td>\n",
       "      <td>5266.000000</td>\n",
       "    </tr>\n",
       "    <tr>\n",
       "      <th>mean</th>\n",
       "      <td>48.689518</td>\n",
       "      <td>-5.110330</td>\n",
       "    </tr>\n",
       "    <tr>\n",
       "      <th>std</th>\n",
       "      <td>59.618826</td>\n",
       "      <td>15.108615</td>\n",
       "    </tr>\n",
       "    <tr>\n",
       "      <th>min</th>\n",
       "      <td>6.000000</td>\n",
       "      <td>-61.000000</td>\n",
       "    </tr>\n",
       "    <tr>\n",
       "      <th>25%</th>\n",
       "      <td>13.000000</td>\n",
       "      <td>-14.000000</td>\n",
       "    </tr>\n",
       "    <tr>\n",
       "      <th>50%</th>\n",
       "      <td>27.000000</td>\n",
       "      <td>-7.000000</td>\n",
       "    </tr>\n",
       "    <tr>\n",
       "      <th>75%</th>\n",
       "      <td>60.000000</td>\n",
       "      <td>1.000000</td>\n",
       "    </tr>\n",
       "    <tr>\n",
       "      <th>max</th>\n",
       "      <td>693.000000</td>\n",
       "      <td>141.000000</td>\n",
       "    </tr>\n",
       "  </tbody>\n",
       "</table>\n",
       "</div>"
      ],
      "text/plain": [
       "         dep_delay  arr_dep_delay_diff\n",
       "count  5266.000000         5266.000000\n",
       "mean     48.689518           -5.110330\n",
       "std      59.618826           15.108615\n",
       "min       6.000000          -61.000000\n",
       "25%      13.000000          -14.000000\n",
       "50%      27.000000           -7.000000\n",
       "75%      60.000000            1.000000\n",
       "max     693.000000          141.000000"
      ]
     },
     "execution_count": 200,
     "metadata": {},
     "output_type": "execute_result"
    }
   ],
   "source": [
    "delay_check = delay[['dep_delay', 'arr_dep_delay_diff']]\n",
    "delay_check.describe() "
   ]
  },
  {
   "cell_type": "markdown",
   "metadata": {},
   "source": [
    "#### **Task 8**: When (which hour) do most 'LONG', 'SHORT', 'MEDIUM' haul flights take off?"
   ]
  },
  {
   "cell_type": "code",
   "execution_count": null,
   "metadata": {},
   "outputs": [],
   "source": []
  },
  {
   "cell_type": "code",
   "execution_count": null,
   "metadata": {},
   "outputs": [],
   "source": []
  },
  {
   "cell_type": "markdown",
   "metadata": {},
   "source": [
    "#### **Task 9**: Find the top 10 the bussiest airports. Does the biggest number of flights mean that the biggest number of passengers went through the particular airport? How much traffic do these 10 airports cover?"
   ]
  },
  {
   "cell_type": "code",
   "execution_count": 201,
   "metadata": {},
   "outputs": [],
   "source": [
    "df = flight_delay[[\"origin\", \"arr_delay\"]]\n"
   ]
  },
  {
   "cell_type": "code",
   "execution_count": 202,
   "metadata": {},
   "outputs": [
    {
     "name": "stdout",
     "output_type": "stream",
     "text": [
      "(347,)\n"
     ]
    }
   ],
   "source": [
    "delay = df.groupby(\"origin\")[\"arr_delay\"].mean()\n",
    "common_arpts = df.groupby(\"origin\")[\"arr_delay\"].count()\n",
    "print(common_arpts.shape)"
   ]
  },
  {
   "cell_type": "code",
   "execution_count": 212,
   "metadata": {},
   "outputs": [
    {
     "name": "stdout",
     "output_type": "stream",
     "text": [
      "The top 20 airports account for 51.8% of the number of flights.\n",
      "The top 20 airports account for 57.4% of the number of delayed flights.\n"
     ]
    }
   ],
   "source": [
    "n = 20\n",
    "traffic = (common_arpts.sort_values(ascending=False).head(n).sum()/common_arpts.sort_values(ascending=False).sum())*100\n",
    "print(f\"The top {n} airports account for {traffic:.1f}% of the number of flights.\")\n",
    "\n",
    "\n",
    "#Again, only look at actual \"delays\", where the flight lands later than it was supposed to\n",
    "df = df[df['arr_delay']>20]\n",
    "\n",
    "delay = df.groupby(\"origin\")[\"arr_delay\"].mean()\n",
    "common_arpts = df.groupby(\"origin\")[\"arr_delay\"].count()\n",
    "n = 20\n",
    "traffic = (common_arpts.sort_values(ascending=False).head(n).sum()/common_arpts.sort_values(ascending=False).sum())*100\n",
    "print(f\"The top {n} airports account for {traffic:.1f}% of the number of delayed flights.\")\n"
   ]
  },
  {
   "cell_type": "code",
   "execution_count": 214,
   "metadata": {},
   "outputs": [
    {
     "data": {
      "text/plain": [
       "<matplotlib.collections.PathCollection at 0x7f69bc9c9160>"
      ]
     },
     "execution_count": 214,
     "metadata": {},
     "output_type": "execute_result"
    },
    {
     "data": {
      "image/png": "[encoded data removed]",
      "text/plain": [
       "<Figure size 640x480 with 1 Axes>"
      ]
     },
     "metadata": {},
     "output_type": "display_data"
    }
   ],
   "source": [
    "new_df = pd.merge(delay, common_arpts, how = \"inner\", on=['origin'])\n",
    "new_df = new_df.rename(columns={'arr_delay_x': \"mean_delay\", 'arr_delay_y': \"airprt_count\"})\n",
    "\n",
    "plt.scatter(new_df['mean_delay'], new_df['airprt_count'])\n",
    "plt.xlabel(\"Mean delay\")\n",
    "plt.ylabel(\"Delayed flights departing from airport\")\n",
    "plt.scatter(new_df['mean_delay'], new_df['airprt_count'])"
   ]
  },
  {
   "cell_type": "code",
   "execution_count": 215,
   "metadata": {},
   "outputs": [
    {
     "data": {
      "text/html": [
       "<div>\n",
       "<style scoped>\n",
       "    .dataframe tbody tr th:only-of-type {\n",
       "        vertical-align: middle;\n",
       "    }\n",
       "\n",
       "    .dataframe tbody tr th {\n",
       "        vertical-align: top;\n",
       "    }\n",
       "\n",
       "    .dataframe thead th {\n",
       "        text-align: right;\n",
       "    }\n",
       "</style>\n",
       "<table border=\"1\" class=\"dataframe\">\n",
       "  <thead>\n",
       "    <tr style=\"text-align: right;\">\n",
       "      <th></th>\n",
       "      <th>mean_delay</th>\n",
       "      <th>airprt_count</th>\n",
       "    </tr>\n",
       "    <tr>\n",
       "      <th>origin</th>\n",
       "      <th></th>\n",
       "      <th></th>\n",
       "    </tr>\n",
       "  </thead>\n",
       "  <tbody>\n",
       "    <tr>\n",
       "      <th>ORD</th>\n",
       "      <td>77.861878</td>\n",
       "      <td>181</td>\n",
       "    </tr>\n",
       "    <tr>\n",
       "      <th>DFW</th>\n",
       "      <td>73.973856</td>\n",
       "      <td>153</td>\n",
       "    </tr>\n",
       "    <tr>\n",
       "      <th>ATL</th>\n",
       "      <td>67.128378</td>\n",
       "      <td>148</td>\n",
       "    </tr>\n",
       "    <tr>\n",
       "      <th>DEN</th>\n",
       "      <td>67.078571</td>\n",
       "      <td>140</td>\n",
       "    </tr>\n",
       "    <tr>\n",
       "      <th>CLT</th>\n",
       "      <td>77.072727</td>\n",
       "      <td>110</td>\n",
       "    </tr>\n",
       "    <tr>\n",
       "      <th>SFO</th>\n",
       "      <td>71.628866</td>\n",
       "      <td>97</td>\n",
       "    </tr>\n",
       "    <tr>\n",
       "      <th>EWR</th>\n",
       "      <td>82.863158</td>\n",
       "      <td>95</td>\n",
       "    </tr>\n",
       "    <tr>\n",
       "      <th>LAX</th>\n",
       "      <td>64.549451</td>\n",
       "      <td>91</td>\n",
       "    </tr>\n",
       "    <tr>\n",
       "      <th>LAS</th>\n",
       "      <td>54.045977</td>\n",
       "      <td>87</td>\n",
       "    </tr>\n",
       "    <tr>\n",
       "      <th>BOS</th>\n",
       "      <td>85.376623</td>\n",
       "      <td>77</td>\n",
       "    </tr>\n",
       "  </tbody>\n",
       "</table>\n",
       "</div>"
      ],
      "text/plain": [
       "        mean_delay  airprt_count\n",
       "origin                          \n",
       "ORD      77.861878           181\n",
       "DFW      73.973856           153\n",
       "ATL      67.128378           148\n",
       "DEN      67.078571           140\n",
       "CLT      77.072727           110\n",
       "SFO      71.628866            97\n",
       "EWR      82.863158            95\n",
       "LAX      64.549451            91\n",
       "LAS      54.045977            87\n",
       "BOS      85.376623            77"
      ]
     },
     "execution_count": 215,
     "metadata": {},
     "output_type": "execute_result"
    }
   ],
   "source": [
    "new_df.sort_values(by=['airprt_count'], ascending=False).head(10)"
   ]
  },
  {
   "cell_type": "code",
   "execution_count": 217,
   "metadata": {},
   "outputs": [
    {
     "data": {
      "text/html": [
       "<div>\n",
       "<style scoped>\n",
       "    .dataframe tbody tr th:only-of-type {\n",
       "        vertical-align: middle;\n",
       "    }\n",
       "\n",
       "    .dataframe tbody tr th {\n",
       "        vertical-align: top;\n",
       "    }\n",
       "\n",
       "    .dataframe thead th {\n",
       "        text-align: right;\n",
       "    }\n",
       "</style>\n",
       "<table border=\"1\" class=\"dataframe\">\n",
       "  <thead>\n",
       "    <tr style=\"text-align: right;\">\n",
       "      <th></th>\n",
       "      <th>total_delays</th>\n",
       "      <th>total_flights</th>\n",
       "      <th>percent_delayed</th>\n",
       "    </tr>\n",
       "    <tr>\n",
       "      <th>origin</th>\n",
       "      <th></th>\n",
       "      <th></th>\n",
       "      <th></th>\n",
       "    </tr>\n",
       "  </thead>\n",
       "  <tbody>\n",
       "    <tr>\n",
       "      <th>EWR</th>\n",
       "      <td>95</td>\n",
       "      <td>406</td>\n",
       "      <td>0.233990</td>\n",
       "    </tr>\n",
       "    <tr>\n",
       "      <th>DFW</th>\n",
       "      <td>153</td>\n",
       "      <td>714</td>\n",
       "      <td>0.214286</td>\n",
       "    </tr>\n",
       "    <tr>\n",
       "      <th>MCO</th>\n",
       "      <td>74</td>\n",
       "      <td>346</td>\n",
       "      <td>0.213873</td>\n",
       "    </tr>\n",
       "    <tr>\n",
       "      <th>SFO</th>\n",
       "      <td>97</td>\n",
       "      <td>475</td>\n",
       "      <td>0.204211</td>\n",
       "    </tr>\n",
       "    <tr>\n",
       "      <th>LAS</th>\n",
       "      <td>87</td>\n",
       "      <td>445</td>\n",
       "      <td>0.195506</td>\n",
       "    </tr>\n",
       "    <tr>\n",
       "      <th>BOS</th>\n",
       "      <td>77</td>\n",
       "      <td>399</td>\n",
       "      <td>0.192982</td>\n",
       "    </tr>\n",
       "    <tr>\n",
       "      <th>DEN</th>\n",
       "      <td>140</td>\n",
       "      <td>729</td>\n",
       "      <td>0.192044</td>\n",
       "    </tr>\n",
       "    <tr>\n",
       "      <th>ORD</th>\n",
       "      <td>181</td>\n",
       "      <td>953</td>\n",
       "      <td>0.189927</td>\n",
       "    </tr>\n",
       "    <tr>\n",
       "      <th>JFK</th>\n",
       "      <td>55</td>\n",
       "      <td>302</td>\n",
       "      <td>0.182119</td>\n",
       "    </tr>\n",
       "    <tr>\n",
       "      <th>LGA</th>\n",
       "      <td>74</td>\n",
       "      <td>417</td>\n",
       "      <td>0.177458</td>\n",
       "    </tr>\n",
       "    <tr>\n",
       "      <th>CLT</th>\n",
       "      <td>110</td>\n",
       "      <td>623</td>\n",
       "      <td>0.176565</td>\n",
       "    </tr>\n",
       "    <tr>\n",
       "      <th>DCA</th>\n",
       "      <td>56</td>\n",
       "      <td>326</td>\n",
       "      <td>0.171779</td>\n",
       "    </tr>\n",
       "    <tr>\n",
       "      <th>PHL</th>\n",
       "      <td>63</td>\n",
       "      <td>370</td>\n",
       "      <td>0.170270</td>\n",
       "    </tr>\n",
       "    <tr>\n",
       "      <th>IAH</th>\n",
       "      <td>74</td>\n",
       "      <td>449</td>\n",
       "      <td>0.164811</td>\n",
       "    </tr>\n",
       "    <tr>\n",
       "      <th>PHX</th>\n",
       "      <td>74</td>\n",
       "      <td>475</td>\n",
       "      <td>0.155789</td>\n",
       "    </tr>\n",
       "    <tr>\n",
       "      <th>LAX</th>\n",
       "      <td>91</td>\n",
       "      <td>609</td>\n",
       "      <td>0.149425</td>\n",
       "    </tr>\n",
       "    <tr>\n",
       "      <th>ATL</th>\n",
       "      <td>148</td>\n",
       "      <td>1001</td>\n",
       "      <td>0.147852</td>\n",
       "    </tr>\n",
       "    <tr>\n",
       "      <th>DTW</th>\n",
       "      <td>63</td>\n",
       "      <td>429</td>\n",
       "      <td>0.146853</td>\n",
       "    </tr>\n",
       "    <tr>\n",
       "      <th>MSP</th>\n",
       "      <td>55</td>\n",
       "      <td>409</td>\n",
       "      <td>0.134474</td>\n",
       "    </tr>\n",
       "    <tr>\n",
       "      <th>SEA</th>\n",
       "      <td>49</td>\n",
       "      <td>468</td>\n",
       "      <td>0.104701</td>\n",
       "    </tr>\n",
       "    <tr>\n",
       "      <th>SLC</th>\n",
       "      <td>17</td>\n",
       "      <td>318</td>\n",
       "      <td>0.053459</td>\n",
       "    </tr>\n",
       "  </tbody>\n",
       "</table>\n",
       "</div>"
      ],
      "text/plain": [
       "        total_delays  total_flights  percent_delayed\n",
       "origin                                              \n",
       "EWR               95            406         0.233990\n",
       "DFW              153            714         0.214286\n",
       "MCO               74            346         0.213873\n",
       "SFO               97            475         0.204211\n",
       "LAS               87            445         0.195506\n",
       "BOS               77            399         0.192982\n",
       "DEN              140            729         0.192044\n",
       "ORD              181            953         0.189927\n",
       "JFK               55            302         0.182119\n",
       "LGA               74            417         0.177458\n",
       "CLT              110            623         0.176565\n",
       "DCA               56            326         0.171779\n",
       "PHL               63            370         0.170270\n",
       "IAH               74            449         0.164811\n",
       "PHX               74            475         0.155789\n",
       "LAX               91            609         0.149425\n",
       "ATL              148           1001         0.147852\n",
       "DTW               63            429         0.146853\n",
       "MSP               55            409         0.134474\n",
       "SEA               49            468         0.104701\n",
       "SLC               17            318         0.053459"
      ]
     },
     "execution_count": 217,
     "metadata": {},
     "output_type": "execute_result"
    }
   ],
   "source": [
    "# Look at individual airports, see if some are more likely to have delays\n",
    "df = flight_delay[[\"origin\", \"arr_delay\"]]\n",
    "delay_count = df[df['arr_delay']> flight_delay_time].groupby('origin').count()\n",
    "total_count = df.groupby('origin').count()\n",
    "\n",
    "delay_df = pd.merge(delay_count, total_count, how='inner', on=['origin'])\n",
    "delay_df = delay_df.rename(columns={'arr_delay_x': \"total_delays\", 'arr_delay_y': \"total_flights\"})\n",
    "delay_df['percent_delayed'] = delay_df['total_delays']/delay_df['total_flights']\n",
    "delay_df[delay_df['total_flights'] >300].sort_values(by=['percent_delayed'], ascending=False)"
   ]
  },
  {
   "cell_type": "code",
   "execution_count": 218,
   "metadata": {},
   "outputs": [
    {
     "data": {
      "text/plain": [
       "0.16163991411921072"
      ]
     },
     "execution_count": 218,
     "metadata": {},
     "output_type": "execute_result"
    }
   ],
   "source": [
    "delay_df['total_delays'].sum()/delay_df['total_flights'].sum() #Total percent of flights delayed"
   ]
  },
  {
   "cell_type": "code",
   "execution_count": 208,
   "metadata": {},
   "outputs": [],
   "source": [
    "## See if specific airports ar more likely to have delays\n",
    "# sns.histplot(data = df, x = \"dep_time\", label = \"Departure time\", kde=True)"
   ]
  },
  {
   "cell_type": "markdown",
   "metadata": {},
   "source": [
    "#### **Task 10**: Do bigger delays lead to bigger fuel comsumption per passenger? \n",
    "We need to do four things to answer this as accurate as possible:\n",
    "- Find out average monthly delay per air carrier (monthly delay is sum of all delays in 1 month)\n",
    "- Find out distance covered monthly by different air carriers\n",
    "- Find out number of passengers that were carried by different air carriers\n",
    "- Find out total fuel comsumption per air carrier.\n",
    "\n",
    "Use this information to get the average fuel comsumption per passenger per km. Is this higher for the airlines with bigger average delays?"
   ]
  },
  {
   "cell_type": "code",
   "execution_count": null,
   "metadata": {},
   "outputs": [],
   "source": []
  },
  {
   "cell_type": "code",
   "execution_count": null,
   "metadata": {},
   "outputs": [],
   "source": []
  },
  {
   "cell_type": "code",
   "execution_count": null,
   "metadata": {},
   "outputs": [],
   "source": []
  },
  {
   "cell_type": "markdown",
   "metadata": {},
   "source": [
    "#### Task...11? Find flight delays based on aircrat operator"
   ]
  },
  {
   "cell_type": "code",
   "execution_count": 219,
   "metadata": {},
   "outputs": [
    {
     "data": {
      "text/html": [
       "<div>\n",
       "<style scoped>\n",
       "    .dataframe tbody tr th:only-of-type {\n",
       "        vertical-align: middle;\n",
       "    }\n",
       "\n",
       "    .dataframe tbody tr th {\n",
       "        vertical-align: top;\n",
       "    }\n",
       "\n",
       "    .dataframe thead th {\n",
       "        text-align: right;\n",
       "    }\n",
       "</style>\n",
       "<table border=\"1\" class=\"dataframe\">\n",
       "  <thead>\n",
       "    <tr style=\"text-align: right;\">\n",
       "      <th></th>\n",
       "      <th>total_delays</th>\n",
       "      <th>total_flights</th>\n",
       "      <th>percent_delayed</th>\n",
       "    </tr>\n",
       "    <tr>\n",
       "      <th>mkt_unique_carrier</th>\n",
       "      <th></th>\n",
       "      <th></th>\n",
       "      <th></th>\n",
       "    </tr>\n",
       "  </thead>\n",
       "  <tbody>\n",
       "    <tr>\n",
       "      <th>F9</th>\n",
       "      <td>83</td>\n",
       "      <td>345</td>\n",
       "      <td>0.240580</td>\n",
       "    </tr>\n",
       "    <tr>\n",
       "      <th>B6</th>\n",
       "      <td>172</td>\n",
       "      <td>747</td>\n",
       "      <td>0.230254</td>\n",
       "    </tr>\n",
       "    <tr>\n",
       "      <th>G4</th>\n",
       "      <td>48</td>\n",
       "      <td>249</td>\n",
       "      <td>0.192771</td>\n",
       "    </tr>\n",
       "    <tr>\n",
       "      <th>UA</th>\n",
       "      <td>687</td>\n",
       "      <td>3938</td>\n",
       "      <td>0.174454</td>\n",
       "    </tr>\n",
       "    <tr>\n",
       "      <th>AA</th>\n",
       "      <td>877</td>\n",
       "      <td>5119</td>\n",
       "      <td>0.171323</td>\n",
       "    </tr>\n",
       "    <tr>\n",
       "      <th>NK</th>\n",
       "      <td>70</td>\n",
       "      <td>451</td>\n",
       "      <td>0.155211</td>\n",
       "    </tr>\n",
       "    <tr>\n",
       "      <th>VX</th>\n",
       "      <td>2</td>\n",
       "      <td>13</td>\n",
       "      <td>0.153846</td>\n",
       "    </tr>\n",
       "    <tr>\n",
       "      <th>WN</th>\n",
       "      <td>532</td>\n",
       "      <td>3474</td>\n",
       "      <td>0.153138</td>\n",
       "    </tr>\n",
       "    <tr>\n",
       "      <th>AS</th>\n",
       "      <td>134</td>\n",
       "      <td>1073</td>\n",
       "      <td>0.124884</td>\n",
       "    </tr>\n",
       "    <tr>\n",
       "      <th>DL</th>\n",
       "      <td>537</td>\n",
       "      <td>4346</td>\n",
       "      <td>0.123562</td>\n",
       "    </tr>\n",
       "    <tr>\n",
       "      <th>HA</th>\n",
       "      <td>20</td>\n",
       "      <td>245</td>\n",
       "      <td>0.081633</td>\n",
       "    </tr>\n",
       "  </tbody>\n",
       "</table>\n",
       "</div>"
      ],
      "text/plain": [
       "                    total_delays  total_flights  percent_delayed\n",
       "mkt_unique_carrier                                              \n",
       "F9                            83            345         0.240580\n",
       "B6                           172            747         0.230254\n",
       "G4                            48            249         0.192771\n",
       "UA                           687           3938         0.174454\n",
       "AA                           877           5119         0.171323\n",
       "NK                            70            451         0.155211\n",
       "VX                             2             13         0.153846\n",
       "WN                           532           3474         0.153138\n",
       "AS                           134           1073         0.124884\n",
       "DL                           537           4346         0.123562\n",
       "HA                            20            245         0.081633"
      ]
     },
     "execution_count": 219,
     "metadata": {},
     "output_type": "execute_result"
    }
   ],
   "source": [
    "op_df = flight_delay[['mkt_unique_carrier', 'arr_delay']]\n",
    "delay = op_df[op_df['arr_delay']>20].groupby('mkt_unique_carrier').count().sort_values(by=['arr_delay'], ascending=False)\n",
    "total = op_df.groupby('mkt_unique_carrier').count().sort_values(by=['arr_delay'], ascending=False)\n",
    "al_df = pd.merge(delay, total, how = \"inner\", on='mkt_unique_carrier')\n",
    "al_df = al_df.rename(columns={'arr_delay_x': \"total_delays\", 'arr_delay_y': \"total_flights\"})\n",
    "al_df['percent_delayed'] = al_df['total_delays']/al_df['total_flights']\n",
    "al_df.sort_values(by=['percent_delayed'], ascending=False)"
   ]
  },
  {
   "cell_type": "markdown",
   "metadata": {},
   "source": [
    "F9: Frontier Airlines; B6: JetBlue"
   ]
  },
  {
   "cell_type": "code",
   "execution_count": 220,
   "metadata": {},
   "outputs": [
    {
     "data": {
      "text/html": [
       "<div>\n",
       "<style scoped>\n",
       "    .dataframe tbody tr th:only-of-type {\n",
       "        vertical-align: middle;\n",
       "    }\n",
       "\n",
       "    .dataframe tbody tr th {\n",
       "        vertical-align: top;\n",
       "    }\n",
       "\n",
       "    .dataframe thead th {\n",
       "        text-align: right;\n",
       "    }\n",
       "</style>\n",
       "<table border=\"1\" class=\"dataframe\">\n",
       "  <thead>\n",
       "    <tr style=\"text-align: right;\">\n",
       "      <th></th>\n",
       "      <th>total_delays</th>\n",
       "      <th>total_flights</th>\n",
       "      <th>percent_delayed</th>\n",
       "    </tr>\n",
       "    <tr>\n",
       "      <th>fl_date</th>\n",
       "      <th></th>\n",
       "      <th></th>\n",
       "      <th></th>\n",
       "    </tr>\n",
       "  </thead>\n",
       "  <tbody>\n",
       "    <tr>\n",
       "      <th>2019-12-20</th>\n",
       "      <td>17</td>\n",
       "      <td>33</td>\n",
       "      <td>0.515152</td>\n",
       "    </tr>\n",
       "    <tr>\n",
       "      <th>2019-01-31</th>\n",
       "      <td>9</td>\n",
       "      <td>18</td>\n",
       "      <td>0.500000</td>\n",
       "    </tr>\n",
       "    <tr>\n",
       "      <th>2019-12-09</th>\n",
       "      <td>11</td>\n",
       "      <td>22</td>\n",
       "      <td>0.500000</td>\n",
       "    </tr>\n",
       "    <tr>\n",
       "      <th>2018-11-26</th>\n",
       "      <td>13</td>\n",
       "      <td>30</td>\n",
       "      <td>0.433333</td>\n",
       "    </tr>\n",
       "    <tr>\n",
       "      <th>2018-12-27</th>\n",
       "      <td>13</td>\n",
       "      <td>30</td>\n",
       "      <td>0.433333</td>\n",
       "    </tr>\n",
       "    <tr>\n",
       "      <th>2019-05-11</th>\n",
       "      <td>11</td>\n",
       "      <td>26</td>\n",
       "      <td>0.423077</td>\n",
       "    </tr>\n",
       "    <tr>\n",
       "      <th>2018-06-19</th>\n",
       "      <td>11</td>\n",
       "      <td>26</td>\n",
       "      <td>0.423077</td>\n",
       "    </tr>\n",
       "    <tr>\n",
       "      <th>2019-07-18</th>\n",
       "      <td>13</td>\n",
       "      <td>31</td>\n",
       "      <td>0.419355</td>\n",
       "    </tr>\n",
       "    <tr>\n",
       "      <th>2018-08-13</th>\n",
       "      <td>10</td>\n",
       "      <td>24</td>\n",
       "      <td>0.416667</td>\n",
       "    </tr>\n",
       "    <tr>\n",
       "      <th>2018-09-26</th>\n",
       "      <td>12</td>\n",
       "      <td>29</td>\n",
       "      <td>0.413793</td>\n",
       "    </tr>\n",
       "  </tbody>\n",
       "</table>\n",
       "</div>"
      ],
      "text/plain": [
       "            total_delays  total_flights  percent_delayed\n",
       "fl_date                                                 \n",
       "2019-12-20            17             33         0.515152\n",
       "2019-01-31             9             18         0.500000\n",
       "2019-12-09            11             22         0.500000\n",
       "2018-11-26            13             30         0.433333\n",
       "2018-12-27            13             30         0.433333\n",
       "2019-05-11            11             26         0.423077\n",
       "2018-06-19            11             26         0.423077\n",
       "2019-07-18            13             31         0.419355\n",
       "2018-08-13            10             24         0.416667\n",
       "2018-09-26            12             29         0.413793"
      ]
     },
     "execution_count": 220,
     "metadata": {},
     "output_type": "execute_result"
    }
   ],
   "source": [
    "# Find delays by date...\n",
    "\n",
    "fl_perday = flight_delay.groupby('fl_date')['mkt_unique_carrier'].count()\n",
    "del_perday = flight_delay[flight_delay[\"arr_delay\"]>20].groupby('fl_date')['mkt_unique_carrier'].count()\n",
    "date_df = pd.merge(del_perday, fl_perday, how = \"inner\", on='fl_date')\n",
    "date_df = date_df.rename(columns={'mkt_unique_carrier_x': \"total_delays\", 'mkt_unique_carrier_y': \"total_flights\"})\n",
    "date_df['percent_delayed'] = date_df['total_delays']/date_df['total_flights']\n",
    "date_df.sort_values(by=['percent_delayed'], ascending=False).head(10)\n"
   ]
  },
  {
   "cell_type": "markdown",
   "metadata": {},
   "source": [
    "Does distance of flight matter?"
   ]
  },
  {
   "cell_type": "code",
   "execution_count": 211,
   "metadata": {},
   "outputs": [
    {
     "data": {
      "image/png": "[encoded data removed]",
      "text/plain": [
       "<Figure size 640x480 with 1 Axes>"
      ]
     },
     "metadata": {},
     "output_type": "display_data"
    }
   ],
   "source": [
    "\n",
    "plt.scatter(flight_delay[flight_delay['arr_delay']>10]['distance'], flight_delay[flight_delay['arr_delay']>10]['arr_delay'])\n",
    "plt.xlabel('Flight distance')\n",
    "plt.ylabel('Arrival delay')\n",
    "plt.show()"
   ]
  },
  {
   "cell_type": "markdown",
   "metadata": {},
   "source": [
    "...no"
   ]
  }
 ],
 "metadata": {
  "kernelspec": {
   "display_name": "Python 3.9.12 ('lhl_env')",
   "language": "python",
   "name": "python3"
  },
  "language_info": {
   "codemirror_mode": {
    "name": "ipython",
    "version": 3
   },
   "file_extension": ".py",
   "mimetype": "text/x-python",
   "name": "python",
   "nbconvert_exporter": "python",
   "pygments_lexer": "ipython3",
   "version": "3.9.12"
  },
  "toc": {
   "base_numbering": 1,
   "nav_menu": {},
   "number_sections": true,
   "sideBar": true,
   "skip_h1_title": false,
   "title_cell": "Table of Contents",
   "title_sidebar": "Contents",
   "toc_cell": false,
   "toc_position": {},
   "toc_section_display": true,
   "toc_window_display": false
  },
  "varInspector": {
   "cols": {
    "lenName": 16,
    "lenType": 16,
    "lenVar": 40
   },
   "kernels_config": {
    "python": {
     "delete_cmd_postfix": "",
     "delete_cmd_prefix": "del ",
     "library": "var_list.py",
     "varRefreshCmd": "print(var_dic_list())"
    },
    "r": {
     "delete_cmd_postfix": ") ",
     "delete_cmd_prefix": "rm(",
     "library": "var_list.r",
     "varRefreshCmd": "cat(var_dic_list()) "
    }
   },
   "types_to_exclude": [
    "module",
    "function",
    "builtin_function_or_method",
    "instance",
    "_Feature"
   ],
   "window_display": false
  },
  "vscode": {
   "interpreter": {
    "hash": "6701a37b50cf3fe420c1c168326b5df267cda9c0faa66bc5c6c8150dd9165b51"
   }
  }
 },
 "nbformat": 4,
 "nbformat_minor": 4
}
